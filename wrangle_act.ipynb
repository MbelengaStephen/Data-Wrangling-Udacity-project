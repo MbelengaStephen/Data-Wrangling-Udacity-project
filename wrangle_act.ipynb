{
 "cells": [
  {
   "cell_type": "markdown",
   "id": "e50b8665",
   "metadata": {},
   "source": [
    "## Project: Data Wrangling by Mbelenga Stephen"
   ]
  },
  {
   "cell_type": "markdown",
   "id": "68ea02c1",
   "metadata": {},
   "source": [
    "## Introduction\n",
    " - In this data wrangling project I will gather, assess and clean twitter posts from WeRateDogs"
   ]
  },
  {
   "cell_type": "markdown",
   "id": "3a56ed13",
   "metadata": {},
   "source": [
    "## Steps Include;\n",
    "\n",
    " #### Gathering data\n",
    "\n",
    " #### Assessing data\n",
    "\n",
    " #### Cleaning data\n",
    "\n",
    " #### Storing data\n",
    "\n",
    " #### Analyzing, and visualizing data\n",
    "\n",
    " #### Reporting\n",
    "\n",
    "  - data wrangling efforts\n",
    "  - data analyses and visualizations"
   ]
  },
  {
   "cell_type": "markdown",
   "id": "da5fc683",
   "metadata": {},
   "source": [
    "## Gathering data\n",
    "\n",
    "- Install & Import all the required libraries for the project.\n",
    "- Load and Download the required datasets as per the guidelines.\n",
    "  "
   ]
  },
  {
   "cell_type": "code",
   "execution_count": 119,
   "id": "251a4723",
   "metadata": {},
   "outputs": [],
   "source": [
    "# Libraries to Use\n",
    "\n",
    "import tweepy\n",
    "import pandas as pd\n",
    "import numpy as np\n",
    "import matplotlib.pyplot as plt\n",
    "import requests\n",
    "import os\n",
    "import configparser\n",
    "import json\n",
    "import time\n",
    "import seaborn as sns\n",
    "import warnings; warnings.simplefilter('ignore')\n"
   ]
  },
  {
   "cell_type": "code",
   "execution_count": 2,
   "id": "cbfe9420",
   "metadata": {},
   "outputs": [],
   "source": [
    "# pip install tweepy"
   ]
  },
  {
   "cell_type": "code",
   "execution_count": 2,
   "id": "27fc67b4",
   "metadata": {},
   "outputs": [
    {
     "data": {
      "text/html": [
       "<div>\n",
       "<style scoped>\n",
       "    .dataframe tbody tr th:only-of-type {\n",
       "        vertical-align: middle;\n",
       "    }\n",
       "\n",
       "    .dataframe tbody tr th {\n",
       "        vertical-align: top;\n",
       "    }\n",
       "\n",
       "    .dataframe thead th {\n",
       "        text-align: right;\n",
       "    }\n",
       "</style>\n",
       "<table border=\"1\" class=\"dataframe\">\n",
       "  <thead>\n",
       "    <tr style=\"text-align: right;\">\n",
       "      <th></th>\n",
       "      <th>tweet_id</th>\n",
       "      <th>in_reply_to_status_id</th>\n",
       "      <th>in_reply_to_user_id</th>\n",
       "      <th>timestamp</th>\n",
       "      <th>source</th>\n",
       "      <th>text</th>\n",
       "      <th>retweeted_status_id</th>\n",
       "      <th>retweeted_status_user_id</th>\n",
       "      <th>retweeted_status_timestamp</th>\n",
       "      <th>expanded_urls</th>\n",
       "      <th>rating_numerator</th>\n",
       "      <th>rating_denominator</th>\n",
       "      <th>name</th>\n",
       "      <th>doggo</th>\n",
       "      <th>floofer</th>\n",
       "      <th>pupper</th>\n",
       "      <th>puppo</th>\n",
       "    </tr>\n",
       "  </thead>\n",
       "  <tbody>\n",
       "    <tr>\n",
       "      <th>0</th>\n",
       "      <td>892420643555336193</td>\n",
       "      <td>NaN</td>\n",
       "      <td>NaN</td>\n",
       "      <td>2017-08-01 16:23:56 +0000</td>\n",
       "      <td>&lt;a href=\"http://twitter.com/download/iphone\" r...</td>\n",
       "      <td>This is Phineas. He's a mystical boy. Only eve...</td>\n",
       "      <td>NaN</td>\n",
       "      <td>NaN</td>\n",
       "      <td>NaN</td>\n",
       "      <td>https://twitter.com/dog_rates/status/892420643...</td>\n",
       "      <td>13</td>\n",
       "      <td>10</td>\n",
       "      <td>Phineas</td>\n",
       "      <td>None</td>\n",
       "      <td>None</td>\n",
       "      <td>None</td>\n",
       "      <td>None</td>\n",
       "    </tr>\n",
       "    <tr>\n",
       "      <th>1</th>\n",
       "      <td>892177421306343426</td>\n",
       "      <td>NaN</td>\n",
       "      <td>NaN</td>\n",
       "      <td>2017-08-01 00:17:27 +0000</td>\n",
       "      <td>&lt;a href=\"http://twitter.com/download/iphone\" r...</td>\n",
       "      <td>This is Tilly. She's just checking pup on you....</td>\n",
       "      <td>NaN</td>\n",
       "      <td>NaN</td>\n",
       "      <td>NaN</td>\n",
       "      <td>https://twitter.com/dog_rates/status/892177421...</td>\n",
       "      <td>13</td>\n",
       "      <td>10</td>\n",
       "      <td>Tilly</td>\n",
       "      <td>None</td>\n",
       "      <td>None</td>\n",
       "      <td>None</td>\n",
       "      <td>None</td>\n",
       "    </tr>\n",
       "    <tr>\n",
       "      <th>2</th>\n",
       "      <td>891815181378084864</td>\n",
       "      <td>NaN</td>\n",
       "      <td>NaN</td>\n",
       "      <td>2017-07-31 00:18:03 +0000</td>\n",
       "      <td>&lt;a href=\"http://twitter.com/download/iphone\" r...</td>\n",
       "      <td>This is Archie. He is a rare Norwegian Pouncin...</td>\n",
       "      <td>NaN</td>\n",
       "      <td>NaN</td>\n",
       "      <td>NaN</td>\n",
       "      <td>https://twitter.com/dog_rates/status/891815181...</td>\n",
       "      <td>12</td>\n",
       "      <td>10</td>\n",
       "      <td>Archie</td>\n",
       "      <td>None</td>\n",
       "      <td>None</td>\n",
       "      <td>None</td>\n",
       "      <td>None</td>\n",
       "    </tr>\n",
       "    <tr>\n",
       "      <th>3</th>\n",
       "      <td>891689557279858688</td>\n",
       "      <td>NaN</td>\n",
       "      <td>NaN</td>\n",
       "      <td>2017-07-30 15:58:51 +0000</td>\n",
       "      <td>&lt;a href=\"http://twitter.com/download/iphone\" r...</td>\n",
       "      <td>This is Darla. She commenced a snooze mid meal...</td>\n",
       "      <td>NaN</td>\n",
       "      <td>NaN</td>\n",
       "      <td>NaN</td>\n",
       "      <td>https://twitter.com/dog_rates/status/891689557...</td>\n",
       "      <td>13</td>\n",
       "      <td>10</td>\n",
       "      <td>Darla</td>\n",
       "      <td>None</td>\n",
       "      <td>None</td>\n",
       "      <td>None</td>\n",
       "      <td>None</td>\n",
       "    </tr>\n",
       "    <tr>\n",
       "      <th>4</th>\n",
       "      <td>891327558926688256</td>\n",
       "      <td>NaN</td>\n",
       "      <td>NaN</td>\n",
       "      <td>2017-07-29 16:00:24 +0000</td>\n",
       "      <td>&lt;a href=\"http://twitter.com/download/iphone\" r...</td>\n",
       "      <td>This is Franklin. He would like you to stop ca...</td>\n",
       "      <td>NaN</td>\n",
       "      <td>NaN</td>\n",
       "      <td>NaN</td>\n",
       "      <td>https://twitter.com/dog_rates/status/891327558...</td>\n",
       "      <td>12</td>\n",
       "      <td>10</td>\n",
       "      <td>Franklin</td>\n",
       "      <td>None</td>\n",
       "      <td>None</td>\n",
       "      <td>None</td>\n",
       "      <td>None</td>\n",
       "    </tr>\n",
       "  </tbody>\n",
       "</table>\n",
       "</div>"
      ],
      "text/plain": [
       "             tweet_id  in_reply_to_status_id  in_reply_to_user_id  \\\n",
       "0  892420643555336193                    NaN                  NaN   \n",
       "1  892177421306343426                    NaN                  NaN   \n",
       "2  891815181378084864                    NaN                  NaN   \n",
       "3  891689557279858688                    NaN                  NaN   \n",
       "4  891327558926688256                    NaN                  NaN   \n",
       "\n",
       "                   timestamp  \\\n",
       "0  2017-08-01 16:23:56 +0000   \n",
       "1  2017-08-01 00:17:27 +0000   \n",
       "2  2017-07-31 00:18:03 +0000   \n",
       "3  2017-07-30 15:58:51 +0000   \n",
       "4  2017-07-29 16:00:24 +0000   \n",
       "\n",
       "                                              source  \\\n",
       "0  <a href=\"http://twitter.com/download/iphone\" r...   \n",
       "1  <a href=\"http://twitter.com/download/iphone\" r...   \n",
       "2  <a href=\"http://twitter.com/download/iphone\" r...   \n",
       "3  <a href=\"http://twitter.com/download/iphone\" r...   \n",
       "4  <a href=\"http://twitter.com/download/iphone\" r...   \n",
       "\n",
       "                                                text  retweeted_status_id  \\\n",
       "0  This is Phineas. He's a mystical boy. Only eve...                  NaN   \n",
       "1  This is Tilly. She's just checking pup on you....                  NaN   \n",
       "2  This is Archie. He is a rare Norwegian Pouncin...                  NaN   \n",
       "3  This is Darla. She commenced a snooze mid meal...                  NaN   \n",
       "4  This is Franklin. He would like you to stop ca...                  NaN   \n",
       "\n",
       "   retweeted_status_user_id retweeted_status_timestamp  \\\n",
       "0                       NaN                        NaN   \n",
       "1                       NaN                        NaN   \n",
       "2                       NaN                        NaN   \n",
       "3                       NaN                        NaN   \n",
       "4                       NaN                        NaN   \n",
       "\n",
       "                                       expanded_urls  rating_numerator  \\\n",
       "0  https://twitter.com/dog_rates/status/892420643...                13   \n",
       "1  https://twitter.com/dog_rates/status/892177421...                13   \n",
       "2  https://twitter.com/dog_rates/status/891815181...                12   \n",
       "3  https://twitter.com/dog_rates/status/891689557...                13   \n",
       "4  https://twitter.com/dog_rates/status/891327558...                12   \n",
       "\n",
       "   rating_denominator      name doggo floofer pupper puppo  \n",
       "0                  10   Phineas  None    None   None  None  \n",
       "1                  10     Tilly  None    None   None  None  \n",
       "2                  10    Archie  None    None   None  None  \n",
       "3                  10     Darla  None    None   None  None  \n",
       "4                  10  Franklin  None    None   None  None  "
      ]
     },
     "execution_count": 2,
     "metadata": {},
     "output_type": "execute_result"
    }
   ],
   "source": [
    "# load the twiter-archive-enhanced.csv file into a dataframe\n",
    "\n",
    "twitter_archive = pd.read_csv('twitter-archive-enhanced.csv')\n",
    "twitter_archive.head()"
   ]
  },
  {
   "cell_type": "code",
   "execution_count": 3,
   "id": "2fe1d8c6",
   "metadata": {},
   "outputs": [],
   "source": [
    "# Use requests module to download items from image-prediction.tsv and save it to a file \n",
    "\n",
    "\n",
    "images_folder = 'image_predictions'\n",
    "if not os.path.exists(images_folder):\n",
    "    os.makedirs(images_folder)\n",
    "\n",
    "url = \"https://d17h27t6h515a5.cloudfront.net/topher/2017/August/599fd2ad_image-predictions/image-predictions.tsv\"\n",
    "\n",
    "response = requests.get(url)\n",
    "response\n",
    "\n",
    "with open(os.path.join(images_folder, url.split('/')[-1]), mode='wb') as file:\n",
    "    file.write(response.content)"
   ]
  },
  {
   "cell_type": "code",
   "execution_count": 3,
   "id": "63a231b7",
   "metadata": {},
   "outputs": [
    {
     "data": {
      "text/html": [
       "<div>\n",
       "<style scoped>\n",
       "    .dataframe tbody tr th:only-of-type {\n",
       "        vertical-align: middle;\n",
       "    }\n",
       "\n",
       "    .dataframe tbody tr th {\n",
       "        vertical-align: top;\n",
       "    }\n",
       "\n",
       "    .dataframe thead th {\n",
       "        text-align: right;\n",
       "    }\n",
       "</style>\n",
       "<table border=\"1\" class=\"dataframe\">\n",
       "  <thead>\n",
       "    <tr style=\"text-align: right;\">\n",
       "      <th></th>\n",
       "      <th>tweet_id</th>\n",
       "      <th>jpg_url</th>\n",
       "      <th>img_num</th>\n",
       "      <th>p1</th>\n",
       "      <th>p1_conf</th>\n",
       "      <th>p1_dog</th>\n",
       "      <th>p2</th>\n",
       "      <th>p2_conf</th>\n",
       "      <th>p2_dog</th>\n",
       "      <th>p3</th>\n",
       "      <th>p3_conf</th>\n",
       "      <th>p3_dog</th>\n",
       "    </tr>\n",
       "  </thead>\n",
       "  <tbody>\n",
       "    <tr>\n",
       "      <th>0</th>\n",
       "      <td>666020888022790149</td>\n",
       "      <td>https://pbs.twimg.com/media/CT4udn0WwAA0aMy.jpg</td>\n",
       "      <td>1</td>\n",
       "      <td>Welsh_springer_spaniel</td>\n",
       "      <td>0.465074</td>\n",
       "      <td>True</td>\n",
       "      <td>collie</td>\n",
       "      <td>0.156665</td>\n",
       "      <td>True</td>\n",
       "      <td>Shetland_sheepdog</td>\n",
       "      <td>0.061428</td>\n",
       "      <td>True</td>\n",
       "    </tr>\n",
       "    <tr>\n",
       "      <th>1</th>\n",
       "      <td>666029285002620928</td>\n",
       "      <td>https://pbs.twimg.com/media/CT42GRgUYAA5iDo.jpg</td>\n",
       "      <td>1</td>\n",
       "      <td>redbone</td>\n",
       "      <td>0.506826</td>\n",
       "      <td>True</td>\n",
       "      <td>miniature_pinscher</td>\n",
       "      <td>0.074192</td>\n",
       "      <td>True</td>\n",
       "      <td>Rhodesian_ridgeback</td>\n",
       "      <td>0.072010</td>\n",
       "      <td>True</td>\n",
       "    </tr>\n",
       "    <tr>\n",
       "      <th>2</th>\n",
       "      <td>666033412701032449</td>\n",
       "      <td>https://pbs.twimg.com/media/CT4521TWwAEvMyu.jpg</td>\n",
       "      <td>1</td>\n",
       "      <td>German_shepherd</td>\n",
       "      <td>0.596461</td>\n",
       "      <td>True</td>\n",
       "      <td>malinois</td>\n",
       "      <td>0.138584</td>\n",
       "      <td>True</td>\n",
       "      <td>bloodhound</td>\n",
       "      <td>0.116197</td>\n",
       "      <td>True</td>\n",
       "    </tr>\n",
       "    <tr>\n",
       "      <th>3</th>\n",
       "      <td>666044226329800704</td>\n",
       "      <td>https://pbs.twimg.com/media/CT5Dr8HUEAA-lEu.jpg</td>\n",
       "      <td>1</td>\n",
       "      <td>Rhodesian_ridgeback</td>\n",
       "      <td>0.408143</td>\n",
       "      <td>True</td>\n",
       "      <td>redbone</td>\n",
       "      <td>0.360687</td>\n",
       "      <td>True</td>\n",
       "      <td>miniature_pinscher</td>\n",
       "      <td>0.222752</td>\n",
       "      <td>True</td>\n",
       "    </tr>\n",
       "    <tr>\n",
       "      <th>4</th>\n",
       "      <td>666049248165822465</td>\n",
       "      <td>https://pbs.twimg.com/media/CT5IQmsXIAAKY4A.jpg</td>\n",
       "      <td>1</td>\n",
       "      <td>miniature_pinscher</td>\n",
       "      <td>0.560311</td>\n",
       "      <td>True</td>\n",
       "      <td>Rottweiler</td>\n",
       "      <td>0.243682</td>\n",
       "      <td>True</td>\n",
       "      <td>Doberman</td>\n",
       "      <td>0.154629</td>\n",
       "      <td>True</td>\n",
       "    </tr>\n",
       "  </tbody>\n",
       "</table>\n",
       "</div>"
      ],
      "text/plain": [
       "             tweet_id                                          jpg_url  \\\n",
       "0  666020888022790149  https://pbs.twimg.com/media/CT4udn0WwAA0aMy.jpg   \n",
       "1  666029285002620928  https://pbs.twimg.com/media/CT42GRgUYAA5iDo.jpg   \n",
       "2  666033412701032449  https://pbs.twimg.com/media/CT4521TWwAEvMyu.jpg   \n",
       "3  666044226329800704  https://pbs.twimg.com/media/CT5Dr8HUEAA-lEu.jpg   \n",
       "4  666049248165822465  https://pbs.twimg.com/media/CT5IQmsXIAAKY4A.jpg   \n",
       "\n",
       "   img_num                      p1   p1_conf  p1_dog                  p2  \\\n",
       "0        1  Welsh_springer_spaniel  0.465074    True              collie   \n",
       "1        1                 redbone  0.506826    True  miniature_pinscher   \n",
       "2        1         German_shepherd  0.596461    True            malinois   \n",
       "3        1     Rhodesian_ridgeback  0.408143    True             redbone   \n",
       "4        1      miniature_pinscher  0.560311    True          Rottweiler   \n",
       "\n",
       "    p2_conf  p2_dog                   p3   p3_conf  p3_dog  \n",
       "0  0.156665    True    Shetland_sheepdog  0.061428    True  \n",
       "1  0.074192    True  Rhodesian_ridgeback  0.072010    True  \n",
       "2  0.138584    True           bloodhound  0.116197    True  \n",
       "3  0.360687    True   miniature_pinscher  0.222752    True  \n",
       "4  0.243682    True             Doberman  0.154629    True  "
      ]
     },
     "execution_count": 3,
     "metadata": {},
     "output_type": "execute_result"
    }
   ],
   "source": [
    "# Open the image-prediction.tsv file and save it in a dataframe and check whether the process was successful by reading the first five entries.\n",
    "\n",
    "image_predictions = pd.read_table('image_predictions/image-predictions.tsv', sep='\\t')\n",
    "image_predictions.head()"
   ]
  },
  {
   "cell_type": "markdown",
   "id": "dde15e8f",
   "metadata": {},
   "source": [
    "### Query Twitter API for each Tweet's JSON Data Using Tweepy Access Library and store each set in a JSON Data file."
   ]
  },
  {
   "cell_type": "code",
   "execution_count": 4,
   "id": "3f857b68",
   "metadata": {},
   "outputs": [],
   "source": [
    "# Saved my tweeter api key, api secret key, access token and access token secret into a config.txt file  \n",
    "\n",
    "# read config.txt file\n",
    "\n",
    "config = configparser.ConfigParser()\n",
    "config.read('config.txt')\n",
    "\n",
    "\n",
    "api_key = config['twitter']['api_key']\n",
    "api_secret_key = config['twitter']['api_secret_key']\n",
    "access_token = config['twitter']['access_token']\n",
    "access_token_secret = config['twitter']['access_token_secret']\n"
   ]
  },
  {
   "cell_type": "code",
   "execution_count": 5,
   "id": "44cf754a",
   "metadata": {},
   "outputs": [],
   "source": [
    "# Authentication\n",
    "\n",
    "auth = tweepy.OAuthHandler(api_key, api_secret_key)\n",
    "auth.set_access_token(access_token, access_token_secret)\n",
    "api = tweepy.API(auth, wait_on_rate_limit= True)"
   ]
  },
  {
   "cell_type": "markdown",
   "id": "d3165c63",
   "metadata": {},
   "source": [
    "### References:\n",
    "\n",
    "- https://towardsdatascience.com/how-to-scrape-tweets-from-twitter-59287e20f0f1\n",
    "- https://docs.tweepy.org/en/stable/api.html"
   ]
  },
  {
   "cell_type": "code",
   "execution_count": null,
   "id": "28955ced",
   "metadata": {},
   "outputs": [
    {
     "name": "stderr",
     "output_type": "stream",
     "text": [
      "Unexpected parameter: wait_on_rate_limit\n",
      "Unexpected parameter: wait_on_rate_limit\n",
      "Unexpected parameter: wait_on_rate_limit\n"
     ]
    },
    {
     "name": "stdout",
     "output_type": "stream",
     "text": [
      "892177421306343426\n"
     ]
    },
    {
     "name": "stderr",
     "output_type": "stream",
     "text": [
      "Unexpected parameter: wait_on_rate_limit\n",
      "Unexpected parameter: wait_on_rate_limit\n",
      "Unexpected parameter: wait_on_rate_limit\n",
      "Unexpected parameter: wait_on_rate_limit\n",
      "Unexpected parameter: wait_on_rate_limit\n",
      "Unexpected parameter: wait_on_rate_limit\n"
     ]
    },
    {
     "name": "stdout",
     "output_type": "stream",
     "text": [
      "890729181411237888\n"
     ]
    },
    {
     "name": "stderr",
     "output_type": "stream",
     "text": [
      "Unexpected parameter: wait_on_rate_limit\n"
     ]
    },
    {
     "name": "stdout",
     "output_type": "stream",
     "text": [
      "890609185150312448\n"
     ]
    },
    {
     "name": "stderr",
     "output_type": "stream",
     "text": [
      "Unexpected parameter: wait_on_rate_limit\n",
      "Unexpected parameter: wait_on_rate_limit\n",
      "Unexpected parameter: wait_on_rate_limit\n",
      "Unexpected parameter: wait_on_rate_limit\n",
      "Unexpected parameter: wait_on_rate_limit\n",
      "Unexpected parameter: wait_on_rate_limit\n",
      "Unexpected parameter: wait_on_rate_limit\n",
      "Unexpected parameter: wait_on_rate_limit\n",
      "Unexpected parameter: wait_on_rate_limit\n",
      "Unexpected parameter: wait_on_rate_limit\n",
      "Unexpected parameter: wait_on_rate_limit\n"
     ]
    },
    {
     "name": "stdout",
     "output_type": "stream",
     "text": [
      "888202515573088257\n"
     ]
    },
    {
     "name": "stderr",
     "output_type": "stream",
     "text": [
      "Unexpected parameter: wait_on_rate_limit\n",
      "Unexpected parameter: wait_on_rate_limit\n",
      "Unexpected parameter: wait_on_rate_limit\n",
      "Unexpected parameter: wait_on_rate_limit\n",
      "Unexpected parameter: wait_on_rate_limit\n",
      "Unexpected parameter: wait_on_rate_limit\n",
      "Unexpected parameter: wait_on_rate_limit\n",
      "Unexpected parameter: wait_on_rate_limit\n",
      "Unexpected parameter: wait_on_rate_limit\n",
      "Unexpected parameter: wait_on_rate_limit\n",
      "Unexpected parameter: wait_on_rate_limit\n",
      "Unexpected parameter: wait_on_rate_limit\n",
      "Unexpected parameter: wait_on_rate_limit\n",
      "Unexpected parameter: wait_on_rate_limit\n",
      "Unexpected parameter: wait_on_rate_limit\n",
      "Unexpected parameter: wait_on_rate_limit\n",
      "Unexpected parameter: wait_on_rate_limit\n",
      "Unexpected parameter: wait_on_rate_limit\n",
      "Unexpected parameter: wait_on_rate_limit\n",
      "Unexpected parameter: wait_on_rate_limit\n",
      "Unexpected parameter: wait_on_rate_limit\n",
      "Unexpected parameter: wait_on_rate_limit\n",
      "Unexpected parameter: wait_on_rate_limit\n",
      "Unexpected parameter: wait_on_rate_limit\n",
      "Unexpected parameter: wait_on_rate_limit\n",
      "Unexpected parameter: wait_on_rate_limit\n",
      "Unexpected parameter: wait_on_rate_limit\n",
      "Unexpected parameter: wait_on_rate_limit\n",
      "Unexpected parameter: wait_on_rate_limit\n",
      "Unexpected parameter: wait_on_rate_limit\n",
      "Unexpected parameter: wait_on_rate_limit\n",
      "Unexpected parameter: wait_on_rate_limit\n",
      "Unexpected parameter: wait_on_rate_limit\n",
      "Unexpected parameter: wait_on_rate_limit\n",
      "Unexpected parameter: wait_on_rate_limit\n",
      "Unexpected parameter: wait_on_rate_limit\n",
      "Unexpected parameter: wait_on_rate_limit\n",
      "Unexpected parameter: wait_on_rate_limit\n",
      "Unexpected parameter: wait_on_rate_limit\n",
      "Unexpected parameter: wait_on_rate_limit\n",
      "Unexpected parameter: wait_on_rate_limit\n",
      "Unexpected parameter: wait_on_rate_limit\n",
      "Unexpected parameter: wait_on_rate_limit\n",
      "Unexpected parameter: wait_on_rate_limit\n",
      "Unexpected parameter: wait_on_rate_limit\n",
      "Unexpected parameter: wait_on_rate_limit\n",
      "Unexpected parameter: wait_on_rate_limit\n",
      "Unexpected parameter: wait_on_rate_limit\n",
      "Unexpected parameter: wait_on_rate_limit\n",
      "Unexpected parameter: wait_on_rate_limit\n",
      "Unexpected parameter: wait_on_rate_limit\n",
      "Unexpected parameter: wait_on_rate_limit\n",
      "Unexpected parameter: wait_on_rate_limit\n",
      "Unexpected parameter: wait_on_rate_limit\n",
      "Unexpected parameter: wait_on_rate_limit\n",
      "Unexpected parameter: wait_on_rate_limit\n",
      "Unexpected parameter: wait_on_rate_limit\n",
      "Unexpected parameter: wait_on_rate_limit\n",
      "Unexpected parameter: wait_on_rate_limit\n",
      "Unexpected parameter: wait_on_rate_limit\n",
      "Unexpected parameter: wait_on_rate_limit\n",
      "Unexpected parameter: wait_on_rate_limit\n",
      "Unexpected parameter: wait_on_rate_limit\n",
      "Unexpected parameter: wait_on_rate_limit\n",
      "Unexpected parameter: wait_on_rate_limit\n",
      "Unexpected parameter: wait_on_rate_limit\n",
      "Unexpected parameter: wait_on_rate_limit\n",
      "Unexpected parameter: wait_on_rate_limit\n",
      "Unexpected parameter: wait_on_rate_limit\n",
      "Unexpected parameter: wait_on_rate_limit\n",
      "Unexpected parameter: wait_on_rate_limit\n",
      "Unexpected parameter: wait_on_rate_limit\n",
      "Unexpected parameter: wait_on_rate_limit\n",
      "Unexpected parameter: wait_on_rate_limit\n",
      "Unexpected parameter: wait_on_rate_limit\n",
      "Unexpected parameter: wait_on_rate_limit\n"
     ]
    },
    {
     "name": "stdout",
     "output_type": "stream",
     "text": [
      "873697596434513921\n"
     ]
    },
    {
     "name": "stderr",
     "output_type": "stream",
     "text": [
      "Unexpected parameter: wait_on_rate_limit\n",
      "Unexpected parameter: wait_on_rate_limit\n",
      "Unexpected parameter: wait_on_rate_limit\n",
      "Unexpected parameter: wait_on_rate_limit\n",
      "Unexpected parameter: wait_on_rate_limit\n",
      "Unexpected parameter: wait_on_rate_limit\n"
     ]
    },
    {
     "name": "stdout",
     "output_type": "stream",
     "text": [
      "872668790621863937\n"
     ]
    },
    {
     "name": "stderr",
     "output_type": "stream",
     "text": [
      "Unexpected parameter: wait_on_rate_limit\n",
      "Unexpected parameter: wait_on_rate_limit\n",
      "Unexpected parameter: wait_on_rate_limit\n"
     ]
    },
    {
     "name": "stdout",
     "output_type": "stream",
     "text": [
      "872261713294495745\n"
     ]
    },
    {
     "name": "stderr",
     "output_type": "stream",
     "text": [
      "Unexpected parameter: wait_on_rate_limit\n",
      "Unexpected parameter: wait_on_rate_limit\n",
      "Unexpected parameter: wait_on_rate_limit\n",
      "Unexpected parameter: wait_on_rate_limit\n",
      "Unexpected parameter: wait_on_rate_limit\n",
      "Unexpected parameter: wait_on_rate_limit\n",
      "Unexpected parameter: wait_on_rate_limit\n",
      "Unexpected parameter: wait_on_rate_limit\n",
      "Unexpected parameter: wait_on_rate_limit\n",
      "Unexpected parameter: wait_on_rate_limit\n",
      "Unexpected parameter: wait_on_rate_limit\n",
      "Unexpected parameter: wait_on_rate_limit\n",
      "Unexpected parameter: wait_on_rate_limit\n",
      "Unexpected parameter: wait_on_rate_limit\n"
     ]
    },
    {
     "name": "stdout",
     "output_type": "stream",
     "text": [
      "869988702071779329\n"
     ]
    },
    {
     "name": "stderr",
     "output_type": "stream",
     "text": [
      "Unexpected parameter: wait_on_rate_limit\n",
      "Unexpected parameter: wait_on_rate_limit\n",
      "Unexpected parameter: wait_on_rate_limit\n",
      "Unexpected parameter: wait_on_rate_limit\n",
      "Unexpected parameter: wait_on_rate_limit\n",
      "Unexpected parameter: wait_on_rate_limit\n",
      "Unexpected parameter: wait_on_rate_limit\n",
      "Unexpected parameter: wait_on_rate_limit\n",
      "Unexpected parameter: wait_on_rate_limit\n",
      "Unexpected parameter: wait_on_rate_limit\n",
      "Unexpected parameter: wait_on_rate_limit\n",
      "Unexpected parameter: wait_on_rate_limit\n",
      "Unexpected parameter: wait_on_rate_limit\n",
      "Unexpected parameter: wait_on_rate_limit\n"
     ]
    },
    {
     "name": "stdout",
     "output_type": "stream",
     "text": [
      "866816280283807744\n"
     ]
    },
    {
     "name": "stderr",
     "output_type": "stream",
     "text": [
      "Unexpected parameter: wait_on_rate_limit\n",
      "Unexpected parameter: wait_on_rate_limit\n",
      "Unexpected parameter: wait_on_rate_limit\n",
      "Unexpected parameter: wait_on_rate_limit\n",
      "Unexpected parameter: wait_on_rate_limit\n",
      "Unexpected parameter: wait_on_rate_limit\n",
      "Unexpected parameter: wait_on_rate_limit\n",
      "Unexpected parameter: wait_on_rate_limit\n",
      "Unexpected parameter: wait_on_rate_limit\n",
      "Unexpected parameter: wait_on_rate_limit\n",
      "Unexpected parameter: wait_on_rate_limit\n",
      "Unexpected parameter: wait_on_rate_limit\n",
      "Unexpected parameter: wait_on_rate_limit\n",
      "Unexpected parameter: wait_on_rate_limit\n",
      "Unexpected parameter: wait_on_rate_limit\n",
      "Unexpected parameter: wait_on_rate_limit\n",
      "Unexpected parameter: wait_on_rate_limit\n",
      "Unexpected parameter: wait_on_rate_limit\n",
      "Unexpected parameter: wait_on_rate_limit\n",
      "Unexpected parameter: wait_on_rate_limit\n",
      "Unexpected parameter: wait_on_rate_limit\n",
      "Unexpected parameter: wait_on_rate_limit\n",
      "Unexpected parameter: wait_on_rate_limit\n"
     ]
    },
    {
     "name": "stdout",
     "output_type": "stream",
     "text": [
      "861769973181624320\n"
     ]
    },
    {
     "name": "stderr",
     "output_type": "stream",
     "text": [
      "Unexpected parameter: wait_on_rate_limit\n",
      "Unexpected parameter: wait_on_rate_limit\n",
      "Unexpected parameter: wait_on_rate_limit\n",
      "Unexpected parameter: wait_on_rate_limit\n",
      "Unexpected parameter: wait_on_rate_limit\n",
      "Unexpected parameter: wait_on_rate_limit\n",
      "Unexpected parameter: wait_on_rate_limit\n",
      "Unexpected parameter: wait_on_rate_limit\n",
      "Unexpected parameter: wait_on_rate_limit\n",
      "Unexpected parameter: wait_on_rate_limit\n",
      "Unexpected parameter: wait_on_rate_limit\n",
      "Unexpected parameter: wait_on_rate_limit\n",
      "Unexpected parameter: wait_on_rate_limit\n",
      "Unexpected parameter: wait_on_rate_limit\n",
      "Unexpected parameter: wait_on_rate_limit\n",
      "Unexpected parameter: wait_on_rate_limit\n",
      "Unexpected parameter: wait_on_rate_limit\n",
      "Unexpected parameter: wait_on_rate_limit\n"
     ]
    },
    {
     "name": "stdout",
     "output_type": "stream",
     "text": [
      "858471635011153920\n"
     ]
    },
    {
     "name": "stderr",
     "output_type": "stream",
     "text": [
      "Unexpected parameter: wait_on_rate_limit\n"
     ]
    },
    {
     "name": "stdout",
     "output_type": "stream",
     "text": [
      "858107933456039936\n"
     ]
    },
    {
     "name": "stderr",
     "output_type": "stream",
     "text": [
      "Unexpected parameter: wait_on_rate_limit\n"
     ]
    },
    {
     "name": "stdout",
     "output_type": "stream",
     "text": [
      "857989990357356544\n"
     ]
    },
    {
     "name": "stderr",
     "output_type": "stream",
     "text": [
      "Unexpected parameter: wait_on_rate_limit\n",
      "Unexpected parameter: wait_on_rate_limit\n",
      "Unexpected parameter: wait_on_rate_limit\n",
      "Unexpected parameter: wait_on_rate_limit\n",
      "Unexpected parameter: wait_on_rate_limit\n",
      "Unexpected parameter: wait_on_rate_limit\n",
      "Unexpected parameter: wait_on_rate_limit\n"
     ]
    },
    {
     "name": "stdout",
     "output_type": "stream",
     "text": [
      "856602993587888130\n"
     ]
    },
    {
     "name": "stderr",
     "output_type": "stream",
     "text": [
      "Unexpected parameter: wait_on_rate_limit\n",
      "Unexpected parameter: wait_on_rate_limit\n",
      "Unexpected parameter: wait_on_rate_limit\n"
     ]
    },
    {
     "name": "stdout",
     "output_type": "stream",
     "text": [
      "856330835276025856\n"
     ]
    },
    {
     "name": "stderr",
     "output_type": "stream",
     "text": [
      "Unexpected parameter: wait_on_rate_limit\n",
      "Unexpected parameter: wait_on_rate_limit\n",
      "Unexpected parameter: wait_on_rate_limit\n",
      "Unexpected parameter: wait_on_rate_limit\n",
      "Unexpected parameter: wait_on_rate_limit\n",
      "Unexpected parameter: wait_on_rate_limit\n",
      "Unexpected parameter: wait_on_rate_limit\n"
     ]
    },
    {
     "name": "stdout",
     "output_type": "stream",
     "text": [
      "855818117272018944\n"
     ]
    },
    {
     "name": "stderr",
     "output_type": "stream",
     "text": [
      "Unexpected parameter: wait_on_rate_limit\n",
      "Unexpected parameter: wait_on_rate_limit\n",
      "Unexpected parameter: wait_on_rate_limit\n",
      "Unexpected parameter: wait_on_rate_limit\n",
      "Unexpected parameter: wait_on_rate_limit\n",
      "Unexpected parameter: wait_on_rate_limit\n",
      "Unexpected parameter: wait_on_rate_limit\n",
      "Unexpected parameter: wait_on_rate_limit\n",
      "Unexpected parameter: wait_on_rate_limit\n",
      "Unexpected parameter: wait_on_rate_limit\n",
      "Unexpected parameter: wait_on_rate_limit\n",
      "Unexpected parameter: wait_on_rate_limit\n",
      "Unexpected parameter: wait_on_rate_limit\n",
      "Unexpected parameter: wait_on_rate_limit\n",
      "Unexpected parameter: wait_on_rate_limit\n",
      "Unexpected parameter: wait_on_rate_limit\n",
      "Unexpected parameter: wait_on_rate_limit\n",
      "Unexpected parameter: wait_on_rate_limit\n",
      "Unexpected parameter: wait_on_rate_limit\n"
     ]
    },
    {
     "name": "stdout",
     "output_type": "stream",
     "text": [
      "851953902622658560\n"
     ]
    },
    {
     "name": "stderr",
     "output_type": "stream",
     "text": [
      "Unexpected parameter: wait_on_rate_limit\n"
     ]
    },
    {
     "name": "stdout",
     "output_type": "stream",
     "text": [
      "851861385021730816\n"
     ]
    },
    {
     "name": "stderr",
     "output_type": "stream",
     "text": [
      "Unexpected parameter: wait_on_rate_limit\n",
      "Unexpected parameter: wait_on_rate_limit\n",
      "Unexpected parameter: wait_on_rate_limit\n",
      "Unexpected parameter: wait_on_rate_limit\n",
      "Unexpected parameter: wait_on_rate_limit\n",
      "Unexpected parameter: wait_on_rate_limit\n",
      "Unexpected parameter: wait_on_rate_limit\n",
      "Unexpected parameter: wait_on_rate_limit\n",
      "Unexpected parameter: wait_on_rate_limit\n",
      "Unexpected parameter: wait_on_rate_limit\n",
      "Unexpected parameter: wait_on_rate_limit\n",
      "Unexpected parameter: wait_on_rate_limit\n",
      "Unexpected parameter: wait_on_rate_limit\n",
      "Unexpected parameter: wait_on_rate_limit\n",
      "Unexpected parameter: wait_on_rate_limit\n",
      "Unexpected parameter: wait_on_rate_limit\n",
      "Unexpected parameter: wait_on_rate_limit\n",
      "Unexpected parameter: wait_on_rate_limit\n",
      "Unexpected parameter: wait_on_rate_limit\n",
      "Unexpected parameter: wait_on_rate_limit\n",
      "Unexpected parameter: wait_on_rate_limit\n",
      "Unexpected parameter: wait_on_rate_limit\n",
      "Unexpected parameter: wait_on_rate_limit\n",
      "Unexpected parameter: wait_on_rate_limit\n",
      "Unexpected parameter: wait_on_rate_limit\n",
      "Unexpected parameter: wait_on_rate_limit\n",
      "Unexpected parameter: wait_on_rate_limit\n",
      "Unexpected parameter: wait_on_rate_limit\n",
      "Unexpected parameter: wait_on_rate_limit\n",
      "Unexpected parameter: wait_on_rate_limit\n",
      "Unexpected parameter: wait_on_rate_limit\n",
      "Unexpected parameter: wait_on_rate_limit\n",
      "Unexpected parameter: wait_on_rate_limit\n",
      "Unexpected parameter: wait_on_rate_limit\n",
      "Unexpected parameter: wait_on_rate_limit\n"
     ]
    },
    {
     "name": "stdout",
     "output_type": "stream",
     "text": [
      "845459076796616705\n"
     ]
    },
    {
     "name": "stderr",
     "output_type": "stream",
     "text": [
      "Unexpected parameter: wait_on_rate_limit\n",
      "Unexpected parameter: wait_on_rate_limit\n",
      "Unexpected parameter: wait_on_rate_limit\n",
      "Unexpected parameter: wait_on_rate_limit\n",
      "Unexpected parameter: wait_on_rate_limit\n",
      "Unexpected parameter: wait_on_rate_limit\n"
     ]
    },
    {
     "name": "stdout",
     "output_type": "stream",
     "text": [
      "844704788403113984\n"
     ]
    },
    {
     "name": "stderr",
     "output_type": "stream",
     "text": [
      "Unexpected parameter: wait_on_rate_limit\n",
      "Unexpected parameter: wait_on_rate_limit\n",
      "Unexpected parameter: wait_on_rate_limit\n",
      "Unexpected parameter: wait_on_rate_limit\n",
      "Unexpected parameter: wait_on_rate_limit\n",
      "Unexpected parameter: wait_on_rate_limit\n",
      "Unexpected parameter: wait_on_rate_limit\n"
     ]
    },
    {
     "name": "stdout",
     "output_type": "stream",
     "text": [
      "842892208864923648\n"
     ]
    },
    {
     "name": "stderr",
     "output_type": "stream",
     "text": [
      "Unexpected parameter: wait_on_rate_limit\n"
     ]
    },
    {
     "name": "stdout",
     "output_type": "stream",
     "text": [
      "842846295480000512\n"
     ]
    },
    {
     "name": "stderr",
     "output_type": "stream",
     "text": [
      "Unexpected parameter: wait_on_rate_limit\n",
      "Unexpected parameter: wait_on_rate_limit\n",
      "Unexpected parameter: wait_on_rate_limit\n",
      "Unexpected parameter: wait_on_rate_limit\n",
      "Unexpected parameter: wait_on_rate_limit\n",
      "Unexpected parameter: wait_on_rate_limit\n",
      "Unexpected parameter: wait_on_rate_limit\n",
      "Unexpected parameter: wait_on_rate_limit\n"
     ]
    },
    {
     "name": "stdout",
     "output_type": "stream",
     "text": [
      "841320156043304961\n"
     ]
    },
    {
     "name": "stderr",
     "output_type": "stream",
     "text": [
      "Unexpected parameter: wait_on_rate_limit\n"
     ]
    },
    {
     "name": "stdout",
     "output_type": "stream",
     "text": [
      "841314665196081154\n"
     ]
    },
    {
     "name": "stderr",
     "output_type": "stream",
     "text": [
      "Unexpected parameter: wait_on_rate_limit\n"
     ]
    },
    {
     "name": "stdout",
     "output_type": "stream",
     "text": [
      "841077006473256960\n"
     ]
    },
    {
     "name": "stderr",
     "output_type": "stream",
     "text": [
      "Unexpected parameter: wait_on_rate_limit\n",
      "Unexpected parameter: wait_on_rate_limit\n",
      "Unexpected parameter: wait_on_rate_limit\n",
      "Unexpected parameter: wait_on_rate_limit\n",
      "Unexpected parameter: wait_on_rate_limit\n",
      "Unexpected parameter: wait_on_rate_limit\n",
      "Unexpected parameter: wait_on_rate_limit\n",
      "Unexpected parameter: wait_on_rate_limit\n",
      "Unexpected parameter: wait_on_rate_limit\n",
      "Unexpected parameter: wait_on_rate_limit\n",
      "Unexpected parameter: wait_on_rate_limit\n",
      "Unexpected parameter: wait_on_rate_limit\n",
      "Unexpected parameter: wait_on_rate_limit\n",
      "Unexpected parameter: wait_on_rate_limit\n",
      "Unexpected parameter: wait_on_rate_limit\n",
      "Unexpected parameter: wait_on_rate_limit\n",
      "Unexpected parameter: wait_on_rate_limit\n",
      "Unexpected parameter: wait_on_rate_limit\n",
      "Unexpected parameter: wait_on_rate_limit\n",
      "Unexpected parameter: wait_on_rate_limit\n",
      "Unexpected parameter: wait_on_rate_limit\n",
      "Unexpected parameter: wait_on_rate_limit\n",
      "Unexpected parameter: wait_on_rate_limit\n",
      "Unexpected parameter: wait_on_rate_limit\n",
      "Unexpected parameter: wait_on_rate_limit\n"
     ]
    },
    {
     "name": "stdout",
     "output_type": "stream",
     "text": [
      "837366284874571778\n"
     ]
    },
    {
     "name": "stderr",
     "output_type": "stream",
     "text": [
      "Unexpected parameter: wait_on_rate_limit\n",
      "Unexpected parameter: wait_on_rate_limit\n"
     ]
    },
    {
     "name": "stdout",
     "output_type": "stream",
     "text": [
      "837012587749474308\n"
     ]
    },
    {
     "name": "stderr",
     "output_type": "stream",
     "text": [
      "Unexpected parameter: wait_on_rate_limit\n",
      "Unexpected parameter: wait_on_rate_limit\n",
      "Unexpected parameter: wait_on_rate_limit\n",
      "Unexpected parameter: wait_on_rate_limit\n",
      "Unexpected parameter: wait_on_rate_limit\n",
      "Unexpected parameter: wait_on_rate_limit\n",
      "Unexpected parameter: wait_on_rate_limit\n",
      "Unexpected parameter: wait_on_rate_limit\n",
      "Unexpected parameter: wait_on_rate_limit\n",
      "Unexpected parameter: wait_on_rate_limit\n",
      "Unexpected parameter: wait_on_rate_limit\n",
      "Unexpected parameter: wait_on_rate_limit\n",
      "Unexpected parameter: wait_on_rate_limit\n",
      "Unexpected parameter: wait_on_rate_limit\n",
      "Unexpected parameter: wait_on_rate_limit\n",
      "Unexpected parameter: wait_on_rate_limit\n",
      "Unexpected parameter: wait_on_rate_limit\n",
      "Unexpected parameter: wait_on_rate_limit\n",
      "Unexpected parameter: wait_on_rate_limit\n",
      "Unexpected parameter: wait_on_rate_limit\n",
      "Unexpected parameter: wait_on_rate_limit\n",
      "Unexpected parameter: wait_on_rate_limit\n",
      "Unexpected parameter: wait_on_rate_limit\n",
      "Unexpected parameter: wait_on_rate_limit\n",
      "Unexpected parameter: wait_on_rate_limit\n",
      "Unexpected parameter: wait_on_rate_limit\n",
      "Unexpected parameter: wait_on_rate_limit\n",
      "Unexpected parameter: wait_on_rate_limit\n",
      "Unexpected parameter: wait_on_rate_limit\n",
      "Unexpected parameter: wait_on_rate_limit\n",
      "Unexpected parameter: wait_on_rate_limit\n",
      "Unexpected parameter: wait_on_rate_limit\n",
      "Unexpected parameter: wait_on_rate_limit\n",
      "Unexpected parameter: wait_on_rate_limit\n",
      "Unexpected parameter: wait_on_rate_limit\n",
      "Unexpected parameter: wait_on_rate_limit\n",
      "Unexpected parameter: wait_on_rate_limit\n",
      "Unexpected parameter: wait_on_rate_limit\n",
      "Unexpected parameter: wait_on_rate_limit\n",
      "Unexpected parameter: wait_on_rate_limit\n",
      "Unexpected parameter: wait_on_rate_limit\n",
      "Unexpected parameter: wait_on_rate_limit\n",
      "Unexpected parameter: wait_on_rate_limit\n",
      "Unexpected parameter: wait_on_rate_limit\n",
      "Unexpected parameter: wait_on_rate_limit\n",
      "Unexpected parameter: wait_on_rate_limit\n",
      "Unexpected parameter: wait_on_rate_limit\n",
      "Unexpected parameter: wait_on_rate_limit\n",
      "Unexpected parameter: wait_on_rate_limit\n",
      "Unexpected parameter: wait_on_rate_limit\n",
      "Unexpected parameter: wait_on_rate_limit\n",
      "Unexpected parameter: wait_on_rate_limit\n",
      "Unexpected parameter: wait_on_rate_limit\n",
      "Unexpected parameter: wait_on_rate_limit\n",
      "Unexpected parameter: wait_on_rate_limit\n",
      "Unexpected parameter: wait_on_rate_limit\n",
      "Unexpected parameter: wait_on_rate_limit\n",
      "Unexpected parameter: wait_on_rate_limit\n",
      "Unexpected parameter: wait_on_rate_limit\n",
      "Unexpected parameter: wait_on_rate_limit\n",
      "Unexpected parameter: wait_on_rate_limit\n",
      "Unexpected parameter: wait_on_rate_limit\n",
      "Unexpected parameter: wait_on_rate_limit\n"
     ]
    },
    {
     "name": "stdout",
     "output_type": "stream",
     "text": [
      "829501995190984704\n"
     ]
    },
    {
     "name": "stderr",
     "output_type": "stream",
     "text": [
      "Unexpected parameter: wait_on_rate_limit\n"
     ]
    },
    {
     "name": "stdout",
     "output_type": "stream",
     "text": [
      "829449946868879360\n"
     ]
    },
    {
     "name": "stderr",
     "output_type": "stream",
     "text": [
      "Unexpected parameter: wait_on_rate_limit\n"
     ]
    },
    {
     "name": "stdout",
     "output_type": "stream",
     "text": [
      "829374341691346946\n"
     ]
    },
    {
     "name": "stderr",
     "output_type": "stream",
     "text": [
      "Unexpected parameter: wait_on_rate_limit\n",
      "Unexpected parameter: wait_on_rate_limit\n",
      "Unexpected parameter: wait_on_rate_limit\n",
      "Unexpected parameter: wait_on_rate_limit\n",
      "Unexpected parameter: wait_on_rate_limit\n",
      "Unexpected parameter: wait_on_rate_limit\n",
      "Unexpected parameter: wait_on_rate_limit\n",
      "Unexpected parameter: wait_on_rate_limit\n",
      "Unexpected parameter: wait_on_rate_limit\n",
      "Unexpected parameter: wait_on_rate_limit\n",
      "Unexpected parameter: wait_on_rate_limit\n",
      "Unexpected parameter: wait_on_rate_limit\n",
      "Unexpected parameter: wait_on_rate_limit\n",
      "Unexpected parameter: wait_on_rate_limit\n",
      "Unexpected parameter: wait_on_rate_limit\n",
      "Unexpected parameter: wait_on_rate_limit\n",
      "Unexpected parameter: wait_on_rate_limit\n",
      "Unexpected parameter: wait_on_rate_limit\n",
      "Unexpected parameter: wait_on_rate_limit\n"
     ]
    },
    {
     "name": "stdout",
     "output_type": "stream",
     "text": [
      "827228250799742977\n"
     ]
    },
    {
     "name": "stderr",
     "output_type": "stream",
     "text": [
      "Unexpected parameter: wait_on_rate_limit\n",
      "Unexpected parameter: wait_on_rate_limit\n",
      "Unexpected parameter: wait_on_rate_limit\n",
      "Unexpected parameter: wait_on_rate_limit\n",
      "Unexpected parameter: wait_on_rate_limit\n"
     ]
    },
    {
     "name": "stdout",
     "output_type": "stream",
     "text": [
      "826598799820865537\n"
     ]
    },
    {
     "name": "stderr",
     "output_type": "stream",
     "text": [
      "Unexpected parameter: wait_on_rate_limit\n",
      "Unexpected parameter: wait_on_rate_limit\n",
      "Unexpected parameter: wait_on_rate_limit\n",
      "Unexpected parameter: wait_on_rate_limit\n",
      "Unexpected parameter: wait_on_rate_limit\n",
      "Unexpected parameter: wait_on_rate_limit\n",
      "Unexpected parameter: wait_on_rate_limit\n",
      "Unexpected parameter: wait_on_rate_limit\n",
      "Unexpected parameter: wait_on_rate_limit\n",
      "Unexpected parameter: wait_on_rate_limit\n",
      "Unexpected parameter: wait_on_rate_limit\n",
      "Unexpected parameter: wait_on_rate_limit\n",
      "Unexpected parameter: wait_on_rate_limit\n",
      "Unexpected parameter: wait_on_rate_limit\n",
      "Unexpected parameter: wait_on_rate_limit\n",
      "Unexpected parameter: wait_on_rate_limit\n",
      "Unexpected parameter: wait_on_rate_limit\n",
      "Unexpected parameter: wait_on_rate_limit\n",
      "Unexpected parameter: wait_on_rate_limit\n",
      "Unexpected parameter: wait_on_rate_limit\n",
      "Unexpected parameter: wait_on_rate_limit\n",
      "Unexpected parameter: wait_on_rate_limit\n",
      "Unexpected parameter: wait_on_rate_limit\n",
      "Unexpected parameter: wait_on_rate_limit\n",
      "Unexpected parameter: wait_on_rate_limit\n",
      "Unexpected parameter: wait_on_rate_limit\n",
      "Unexpected parameter: wait_on_rate_limit\n",
      "Unexpected parameter: wait_on_rate_limit\n",
      "Unexpected parameter: wait_on_rate_limit\n"
     ]
    },
    {
     "name": "stdout",
     "output_type": "stream",
     "text": [
      "822610361945911296\n"
     ]
    },
    {
     "name": "stderr",
     "output_type": "stream",
     "text": [
      "Unexpected parameter: wait_on_rate_limit\n"
     ]
    },
    {
     "name": "stdout",
     "output_type": "stream",
     "text": [
      "822489057087389700\n"
     ]
    },
    {
     "name": "stderr",
     "output_type": "stream",
     "text": [
      "Unexpected parameter: wait_on_rate_limit\n"
     ]
    },
    {
     "name": "stdout",
     "output_type": "stream",
     "text": [
      "822462944365645825\n"
     ]
    },
    {
     "name": "stderr",
     "output_type": "stream",
     "text": [
      "Unexpected parameter: wait_on_rate_limit\n",
      "Unexpected parameter: wait_on_rate_limit\n",
      "Unexpected parameter: wait_on_rate_limit\n",
      "Unexpected parameter: wait_on_rate_limit\n",
      "Unexpected parameter: wait_on_rate_limit\n",
      "Unexpected parameter: wait_on_rate_limit\n",
      "Unexpected parameter: wait_on_rate_limit\n",
      "Unexpected parameter: wait_on_rate_limit\n",
      "Unexpected parameter: wait_on_rate_limit\n",
      "Unexpected parameter: wait_on_rate_limit\n",
      "Unexpected parameter: wait_on_rate_limit\n",
      "Unexpected parameter: wait_on_rate_limit\n",
      "Unexpected parameter: wait_on_rate_limit\n",
      "Unexpected parameter: wait_on_rate_limit\n",
      "Unexpected parameter: wait_on_rate_limit\n"
     ]
    },
    {
     "name": "stdout",
     "output_type": "stream",
     "text": [
      "820690176645140481\n"
     ]
    },
    {
     "name": "stderr",
     "output_type": "stream",
     "text": [
      "Unexpected parameter: wait_on_rate_limit\n"
     ]
    },
    {
     "name": "stdout",
     "output_type": "stream",
     "text": [
      "820494788566847489\n"
     ]
    },
    {
     "name": "stderr",
     "output_type": "stream",
     "text": [
      "Unexpected parameter: wait_on_rate_limit\n"
     ]
    },
    {
     "name": "stdout",
     "output_type": "stream",
     "text": [
      "820446719150292993\n"
     ]
    },
    {
     "name": "stderr",
     "output_type": "stream",
     "text": [
      "Unexpected parameter: wait_on_rate_limit\n"
     ]
    },
    {
     "name": "stdout",
     "output_type": "stream",
     "text": [
      "820314633777061888\n"
     ]
    },
    {
     "name": "stderr",
     "output_type": "stream",
     "text": [
      "Unexpected parameter: wait_on_rate_limit\n"
     ]
    },
    {
     "name": "stdout",
     "output_type": "stream",
     "text": [
      "820078625395449857\n"
     ]
    },
    {
     "name": "stderr",
     "output_type": "stream",
     "text": [
      "Unexpected parameter: wait_on_rate_limit\n",
      "Unexpected parameter: wait_on_rate_limit\n",
      "Unexpected parameter: wait_on_rate_limit\n",
      "Unexpected parameter: wait_on_rate_limit\n",
      "Unexpected parameter: wait_on_rate_limit\n",
      "Unexpected parameter: wait_on_rate_limit\n",
      "Unexpected parameter: wait_on_rate_limit\n",
      "Unexpected parameter: wait_on_rate_limit\n",
      "Unexpected parameter: wait_on_rate_limit\n"
     ]
    },
    {
     "name": "stdout",
     "output_type": "stream",
     "text": [
      "819015337530290176\n"
     ]
    },
    {
     "name": "stderr",
     "output_type": "stream",
     "text": [
      "Unexpected parameter: wait_on_rate_limit\n"
     ]
    },
    {
     "name": "stdout",
     "output_type": "stream",
     "text": [
      "819015331746349057\n"
     ]
    },
    {
     "name": "stderr",
     "output_type": "stream",
     "text": [
      "Unexpected parameter: wait_on_rate_limit\n"
     ]
    },
    {
     "name": "stdout",
     "output_type": "stream",
     "text": [
      "819006400881917954\n"
     ]
    },
    {
     "name": "stderr",
     "output_type": "stream",
     "text": [
      "Unexpected parameter: wait_on_rate_limit\n",
      "Unexpected parameter: wait_on_rate_limit\n",
      "Unexpected parameter: wait_on_rate_limit\n",
      "Unexpected parameter: wait_on_rate_limit\n",
      "Unexpected parameter: wait_on_rate_limit\n",
      "Unexpected parameter: wait_on_rate_limit\n",
      "Unexpected parameter: wait_on_rate_limit\n",
      "Unexpected parameter: wait_on_rate_limit\n"
     ]
    },
    {
     "name": "stdout",
     "output_type": "stream",
     "text": [
      "818259473185828864\n"
     ]
    },
    {
     "name": "stderr",
     "output_type": "stream",
     "text": [
      "Unexpected parameter: wait_on_rate_limit\n"
     ]
    },
    {
     "name": "stdout",
     "output_type": "stream",
     "text": [
      "818145370475810820\n"
     ]
    },
    {
     "name": "stderr",
     "output_type": "stream",
     "text": [
      "Unexpected parameter: wait_on_rate_limit\n"
     ]
    },
    {
     "name": "stdout",
     "output_type": "stream",
     "text": [
      "817908911860748288\n"
     ]
    },
    {
     "name": "stderr",
     "output_type": "stream",
     "text": [
      "Unexpected parameter: wait_on_rate_limit\n",
      "Unexpected parameter: wait_on_rate_limit\n",
      "Unexpected parameter: wait_on_rate_limit\n",
      "Unexpected parameter: wait_on_rate_limit\n",
      "Unexpected parameter: wait_on_rate_limit\n",
      "Unexpected parameter: wait_on_rate_limit\n",
      "Unexpected parameter: wait_on_rate_limit\n",
      "Unexpected parameter: wait_on_rate_limit\n",
      "Unexpected parameter: wait_on_rate_limit\n",
      "Unexpected parameter: wait_on_rate_limit\n",
      "Unexpected parameter: wait_on_rate_limit\n",
      "Unexpected parameter: wait_on_rate_limit\n",
      "Unexpected parameter: wait_on_rate_limit\n",
      "Unexpected parameter: wait_on_rate_limit\n",
      "Unexpected parameter: wait_on_rate_limit\n",
      "Unexpected parameter: wait_on_rate_limit\n"
     ]
    },
    {
     "name": "stdout",
     "output_type": "stream",
     "text": [
      "816091915477250048\n"
     ]
    },
    {
     "name": "stderr",
     "output_type": "stream",
     "text": [
      "Unexpected parameter: wait_on_rate_limit\n"
     ]
    },
    {
     "name": "stdout",
     "output_type": "stream",
     "text": [
      "816062466425819140\n"
     ]
    },
    {
     "name": "stderr",
     "output_type": "stream",
     "text": [
      "Unexpected parameter: wait_on_rate_limit\n"
     ]
    },
    {
     "name": "stdout",
     "output_type": "stream",
     "text": [
      "816014286006976512\n"
     ]
    },
    {
     "name": "stderr",
     "output_type": "stream",
     "text": [
      "Unexpected parameter: wait_on_rate_limit\n"
     ]
    },
    {
     "name": "stdout",
     "output_type": "stream",
     "text": [
      "815990720817401858\n"
     ]
    },
    {
     "name": "stderr",
     "output_type": "stream",
     "text": [
      "Unexpected parameter: wait_on_rate_limit\n"
     ]
    },
    {
     "name": "stdout",
     "output_type": "stream",
     "text": [
      "815966073409433600\n"
     ]
    },
    {
     "name": "stderr",
     "output_type": "stream",
     "text": [
      "Unexpected parameter: wait_on_rate_limit\n",
      "Unexpected parameter: wait_on_rate_limit\n",
      "Unexpected parameter: wait_on_rate_limit\n",
      "Unexpected parameter: wait_on_rate_limit\n",
      "Unexpected parameter: wait_on_rate_limit\n",
      "Unexpected parameter: wait_on_rate_limit\n",
      "Unexpected parameter: wait_on_rate_limit\n",
      "Unexpected parameter: wait_on_rate_limit\n",
      "Unexpected parameter: wait_on_rate_limit\n",
      "Unexpected parameter: wait_on_rate_limit\n",
      "Unexpected parameter: wait_on_rate_limit\n",
      "Unexpected parameter: wait_on_rate_limit\n",
      "Unexpected parameter: wait_on_rate_limit\n",
      "Unexpected parameter: wait_on_rate_limit\n",
      "Unexpected parameter: wait_on_rate_limit\n",
      "Unexpected parameter: wait_on_rate_limit\n",
      "Unexpected parameter: wait_on_rate_limit\n",
      "Unexpected parameter: wait_on_rate_limit\n",
      "Unexpected parameter: wait_on_rate_limit\n",
      "Unexpected parameter: wait_on_rate_limit\n",
      "Unexpected parameter: wait_on_rate_limit\n",
      "Unexpected parameter: wait_on_rate_limit\n",
      "Unexpected parameter: wait_on_rate_limit\n",
      "Unexpected parameter: wait_on_rate_limit\n",
      "Unexpected parameter: wait_on_rate_limit\n",
      "Unexpected parameter: wait_on_rate_limit\n",
      "Unexpected parameter: wait_on_rate_limit\n",
      "Unexpected parameter: wait_on_rate_limit\n"
     ]
    },
    {
     "name": "stdout",
     "output_type": "stream",
     "text": [
      "812747805718642688\n"
     ]
    },
    {
     "name": "stderr",
     "output_type": "stream",
     "text": [
      "Unexpected parameter: wait_on_rate_limit\n",
      "Unexpected parameter: wait_on_rate_limit\n",
      "Unexpected parameter: wait_on_rate_limit\n",
      "Unexpected parameter: wait_on_rate_limit\n",
      "Unexpected parameter: wait_on_rate_limit\n",
      "Unexpected parameter: wait_on_rate_limit\n",
      "Unexpected parameter: wait_on_rate_limit\n",
      "Unexpected parameter: wait_on_rate_limit\n"
     ]
    },
    {
     "name": "stdout",
     "output_type": "stream",
     "text": [
      "811627233043480576\n"
     ]
    },
    {
     "name": "stderr",
     "output_type": "stream",
     "text": [
      "Unexpected parameter: wait_on_rate_limit\n"
     ]
    },
    {
     "name": "stdout",
     "output_type": "stream",
     "text": [
      "811386762094317568\n"
     ]
    },
    {
     "name": "stderr",
     "output_type": "stream",
     "text": [
      "Unexpected parameter: wait_on_rate_limit\n",
      "Unexpected parameter: wait_on_rate_limit\n",
      "Unexpected parameter: wait_on_rate_limit\n",
      "Unexpected parameter: wait_on_rate_limit\n",
      "Unexpected parameter: wait_on_rate_limit\n",
      "Unexpected parameter: wait_on_rate_limit\n",
      "Unexpected parameter: wait_on_rate_limit\n",
      "Unexpected parameter: wait_on_rate_limit\n",
      "Unexpected parameter: wait_on_rate_limit\n",
      "Unexpected parameter: wait_on_rate_limit\n",
      "Unexpected parameter: wait_on_rate_limit\n",
      "Unexpected parameter: wait_on_rate_limit\n",
      "Unexpected parameter: wait_on_rate_limit\n",
      "Unexpected parameter: wait_on_rate_limit\n",
      "Unexpected parameter: wait_on_rate_limit\n",
      "Unexpected parameter: wait_on_rate_limit\n",
      "Unexpected parameter: wait_on_rate_limit\n",
      "Unexpected parameter: wait_on_rate_limit\n",
      "Unexpected parameter: wait_on_rate_limit\n",
      "Unexpected parameter: wait_on_rate_limit\n",
      "Unexpected parameter: wait_on_rate_limit\n",
      "Unexpected parameter: wait_on_rate_limit\n",
      "Unexpected parameter: wait_on_rate_limit\n",
      "Unexpected parameter: wait_on_rate_limit\n",
      "Unexpected parameter: wait_on_rate_limit\n",
      "Unexpected parameter: wait_on_rate_limit\n",
      "Unexpected parameter: wait_on_rate_limit\n",
      "Unexpected parameter: wait_on_rate_limit\n",
      "Unexpected parameter: wait_on_rate_limit\n",
      "Unexpected parameter: wait_on_rate_limit\n",
      "Unexpected parameter: wait_on_rate_limit\n",
      "Unexpected parameter: wait_on_rate_limit\n",
      "Unexpected parameter: wait_on_rate_limit\n",
      "Unexpected parameter: wait_on_rate_limit\n",
      "Unexpected parameter: wait_on_rate_limit\n",
      "Unexpected parameter: wait_on_rate_limit\n",
      "Unexpected parameter: wait_on_rate_limit\n",
      "Unexpected parameter: wait_on_rate_limit\n",
      "Unexpected parameter: wait_on_rate_limit\n",
      "Unexpected parameter: wait_on_rate_limit\n",
      "Unexpected parameter: wait_on_rate_limit\n",
      "Unexpected parameter: wait_on_rate_limit\n",
      "Unexpected parameter: wait_on_rate_limit\n",
      "Unexpected parameter: wait_on_rate_limit\n",
      "Unexpected parameter: wait_on_rate_limit\n",
      "Unexpected parameter: wait_on_rate_limit\n",
      "Unexpected parameter: wait_on_rate_limit\n",
      "Unexpected parameter: wait_on_rate_limit\n",
      "Unexpected parameter: wait_on_rate_limit\n",
      "Unexpected parameter: wait_on_rate_limit\n",
      "Unexpected parameter: wait_on_rate_limit\n"
     ]
    },
    {
     "name": "stdout",
     "output_type": "stream",
     "text": [
      "802247111496568832\n"
     ]
    },
    {
     "name": "stderr",
     "output_type": "stream",
     "text": [
      "Unexpected parameter: wait_on_rate_limit\n",
      "Unexpected parameter: wait_on_rate_limit\n",
      "Unexpected parameter: wait_on_rate_limit\n",
      "Unexpected parameter: wait_on_rate_limit\n",
      "Unexpected parameter: wait_on_rate_limit\n",
      "Unexpected parameter: wait_on_rate_limit\n",
      "Unexpected parameter: wait_on_rate_limit\n",
      "Unexpected parameter: wait_on_rate_limit\n",
      "Unexpected parameter: wait_on_rate_limit\n",
      "Unexpected parameter: wait_on_rate_limit\n",
      "Unexpected parameter: wait_on_rate_limit\n",
      "Unexpected parameter: wait_on_rate_limit\n",
      "Unexpected parameter: wait_on_rate_limit\n",
      "Unexpected parameter: wait_on_rate_limit\n",
      "Unexpected parameter: wait_on_rate_limit\n",
      "Unexpected parameter: wait_on_rate_limit\n",
      "Unexpected parameter: wait_on_rate_limit\n",
      "Unexpected parameter: wait_on_rate_limit\n",
      "Unexpected parameter: wait_on_rate_limit\n",
      "Unexpected parameter: wait_on_rate_limit\n",
      "Unexpected parameter: wait_on_rate_limit\n",
      "Unexpected parameter: wait_on_rate_limit\n",
      "Unexpected parameter: wait_on_rate_limit\n",
      "Unexpected parameter: wait_on_rate_limit\n",
      "Unexpected parameter: wait_on_rate_limit\n",
      "Unexpected parameter: wait_on_rate_limit\n",
      "Unexpected parameter: wait_on_rate_limit\n",
      "Unexpected parameter: wait_on_rate_limit\n",
      "Unexpected parameter: wait_on_rate_limit\n",
      "Unexpected parameter: wait_on_rate_limit\n",
      "Unexpected parameter: wait_on_rate_limit\n",
      "Unexpected parameter: wait_on_rate_limit\n",
      "Unexpected parameter: wait_on_rate_limit\n",
      "Unexpected parameter: wait_on_rate_limit\n",
      "Unexpected parameter: wait_on_rate_limit\n",
      "Unexpected parameter: wait_on_rate_limit\n",
      "Unexpected parameter: wait_on_rate_limit\n",
      "Unexpected parameter: wait_on_rate_limit\n",
      "Unexpected parameter: wait_on_rate_limit\n",
      "Unexpected parameter: wait_on_rate_limit\n",
      "Unexpected parameter: wait_on_rate_limit\n",
      "Unexpected parameter: wait_on_rate_limit\n",
      "Unexpected parameter: wait_on_rate_limit\n",
      "Unexpected parameter: wait_on_rate_limit\n",
      "Unexpected parameter: wait_on_rate_limit\n",
      "Unexpected parameter: wait_on_rate_limit\n",
      "Unexpected parameter: wait_on_rate_limit\n"
     ]
    },
    {
     "name": "stdout",
     "output_type": "stream",
     "text": [
      "796865951799083009\n"
     ]
    },
    {
     "name": "stderr",
     "output_type": "stream",
     "text": [
      "Unexpected parameter: wait_on_rate_limit\n",
      "Unexpected parameter: wait_on_rate_limit\n",
      "Unexpected parameter: wait_on_rate_limit\n"
     ]
    },
    {
     "name": "stdout",
     "output_type": "stream",
     "text": [
      "796484825502875648\n"
     ]
    },
    {
     "name": "stderr",
     "output_type": "stream",
     "text": [
      "Unexpected parameter: wait_on_rate_limit\n"
     ]
    },
    {
     "name": "stdout",
     "output_type": "stream",
     "text": [
      "796387464403357696\n"
     ]
    },
    {
     "name": "stderr",
     "output_type": "stream",
     "text": [
      "Unexpected parameter: wait_on_rate_limit\n",
      "Unexpected parameter: wait_on_rate_limit\n",
      "Unexpected parameter: wait_on_rate_limit\n",
      "Unexpected parameter: wait_on_rate_limit\n",
      "Unexpected parameter: wait_on_rate_limit\n",
      "Unexpected parameter: wait_on_rate_limit\n",
      "Unexpected parameter: wait_on_rate_limit\n",
      "Unexpected parameter: wait_on_rate_limit\n",
      "Unexpected parameter: wait_on_rate_limit\n",
      "Unexpected parameter: wait_on_rate_limit\n",
      "Unexpected parameter: wait_on_rate_limit\n",
      "Unexpected parameter: wait_on_rate_limit\n",
      "Unexpected parameter: wait_on_rate_limit\n",
      "Unexpected parameter: wait_on_rate_limit\n",
      "Unexpected parameter: wait_on_rate_limit\n",
      "Unexpected parameter: wait_on_rate_limit\n",
      "Unexpected parameter: wait_on_rate_limit\n",
      "Unexpected parameter: wait_on_rate_limit\n",
      "Unexpected parameter: wait_on_rate_limit\n",
      "Unexpected parameter: wait_on_rate_limit\n",
      "Unexpected parameter: wait_on_rate_limit\n",
      "Unexpected parameter: wait_on_rate_limit\n",
      "Unexpected parameter: wait_on_rate_limit\n",
      "Unexpected parameter: wait_on_rate_limit\n",
      "Unexpected parameter: wait_on_rate_limit\n",
      "Unexpected parameter: wait_on_rate_limit\n",
      "Unexpected parameter: wait_on_rate_limit\n",
      "Unexpected parameter: wait_on_rate_limit\n",
      "Unexpected parameter: wait_on_rate_limit\n",
      "Unexpected parameter: wait_on_rate_limit\n",
      "Unexpected parameter: wait_on_rate_limit\n",
      "Unexpected parameter: wait_on_rate_limit\n",
      "Unexpected parameter: wait_on_rate_limit\n",
      "Unexpected parameter: wait_on_rate_limit\n",
      "Unexpected parameter: wait_on_rate_limit\n",
      "Unexpected parameter: wait_on_rate_limit\n",
      "Unexpected parameter: wait_on_rate_limit\n",
      "Unexpected parameter: wait_on_rate_limit\n",
      "Unexpected parameter: wait_on_rate_limit\n",
      "Unexpected parameter: wait_on_rate_limit\n",
      "Unexpected parameter: wait_on_rate_limit\n",
      "Unexpected parameter: wait_on_rate_limit\n",
      "Unexpected parameter: wait_on_rate_limit\n",
      "Unexpected parameter: wait_on_rate_limit\n",
      "Unexpected parameter: wait_on_rate_limit\n",
      "Unexpected parameter: wait_on_rate_limit\n",
      "Unexpected parameter: wait_on_rate_limit\n",
      "Unexpected parameter: wait_on_rate_limit\n",
      "Unexpected parameter: wait_on_rate_limit\n",
      "Unexpected parameter: wait_on_rate_limit\n",
      "Unexpected parameter: wait_on_rate_limit\n",
      "Unexpected parameter: wait_on_rate_limit\n",
      "Unexpected parameter: wait_on_rate_limit\n",
      "Unexpected parameter: wait_on_rate_limit\n",
      "Unexpected parameter: wait_on_rate_limit\n",
      "Unexpected parameter: wait_on_rate_limit\n"
     ]
    },
    {
     "name": "stdout",
     "output_type": "stream",
     "text": [
      "789628658055020548\n"
     ]
    },
    {
     "name": "stderr",
     "output_type": "stream",
     "text": [
      "Unexpected parameter: wait_on_rate_limit\n"
     ]
    },
    {
     "name": "stdout",
     "output_type": "stream",
     "text": [
      "789599242079838210\n"
     ]
    },
    {
     "name": "stderr",
     "output_type": "stream",
     "text": [
      "Unexpected parameter: wait_on_rate_limit\n",
      "Unexpected parameter: wait_on_rate_limit\n",
      "Unexpected parameter: wait_on_rate_limit\n"
     ]
    },
    {
     "name": "stdout",
     "output_type": "stream",
     "text": [
      "789280767834746880\n"
     ]
    },
    {
     "name": "stderr",
     "output_type": "stream",
     "text": [
      "Unexpected parameter: wait_on_rate_limit\n"
     ]
    },
    {
     "name": "stdout",
     "output_type": "stream",
     "text": [
      "789268448748703744\n"
     ]
    },
    {
     "name": "stderr",
     "output_type": "stream",
     "text": [
      "Unexpected parameter: wait_on_rate_limit\n",
      "Unexpected parameter: wait_on_rate_limit\n",
      "Unexpected parameter: wait_on_rate_limit\n",
      "Unexpected parameter: wait_on_rate_limit\n",
      "Unexpected parameter: wait_on_rate_limit\n",
      "Unexpected parameter: wait_on_rate_limit\n",
      "Unexpected parameter: wait_on_rate_limit\n",
      "Unexpected parameter: wait_on_rate_limit\n",
      "Unexpected parameter: wait_on_rate_limit\n",
      "Unexpected parameter: wait_on_rate_limit\n",
      "Unexpected parameter: wait_on_rate_limit\n",
      "Unexpected parameter: wait_on_rate_limit\n",
      "Unexpected parameter: wait_on_rate_limit\n",
      "Unexpected parameter: wait_on_rate_limit\n",
      "Unexpected parameter: wait_on_rate_limit\n",
      "Unexpected parameter: wait_on_rate_limit\n",
      "Unexpected parameter: wait_on_rate_limit\n",
      "Unexpected parameter: wait_on_rate_limit\n",
      "Unexpected parameter: wait_on_rate_limit\n",
      "Unexpected parameter: wait_on_rate_limit\n",
      "Unexpected parameter: wait_on_rate_limit\n",
      "Unexpected parameter: wait_on_rate_limit\n",
      "Unexpected parameter: wait_on_rate_limit\n",
      "Unexpected parameter: wait_on_rate_limit\n",
      "Unexpected parameter: wait_on_rate_limit\n",
      "Unexpected parameter: wait_on_rate_limit\n",
      "Unexpected parameter: wait_on_rate_limit\n",
      "Unexpected parameter: wait_on_rate_limit\n"
     ]
    },
    {
     "name": "stdout",
     "output_type": "stream",
     "text": [
      "785533386513321988\n"
     ]
    },
    {
     "name": "stderr",
     "output_type": "stream",
     "text": [
      "Unexpected parameter: wait_on_rate_limit\n"
     ]
    },
    {
     "name": "stdout",
     "output_type": "stream",
     "text": [
      "785515384317313025\n"
     ]
    },
    {
     "name": "stderr",
     "output_type": "stream",
     "text": [
      "Unexpected parameter: wait_on_rate_limit\n"
     ]
    },
    {
     "name": "stdout",
     "output_type": "stream",
     "text": [
      "785264754247995392\n"
     ]
    },
    {
     "name": "stderr",
     "output_type": "stream",
     "text": [
      "Unexpected parameter: wait_on_rate_limit\n",
      "Unexpected parameter: wait_on_rate_limit\n",
      "Unexpected parameter: wait_on_rate_limit\n",
      "Unexpected parameter: wait_on_rate_limit\n"
     ]
    },
    {
     "name": "stdout",
     "output_type": "stream",
     "text": [
      "784431430411685888\n"
     ]
    },
    {
     "name": "stderr",
     "output_type": "stream",
     "text": [
      "Unexpected parameter: wait_on_rate_limit\n"
     ]
    },
    {
     "name": "stdout",
     "output_type": "stream",
     "text": [
      "784183165795655680\n"
     ]
    },
    {
     "name": "stderr",
     "output_type": "stream",
     "text": [
      "Unexpected parameter: wait_on_rate_limit\n"
     ]
    },
    {
     "name": "stdout",
     "output_type": "stream",
     "text": [
      "784057939640352768\n"
     ]
    },
    {
     "name": "stderr",
     "output_type": "stream",
     "text": [
      "Unexpected parameter: wait_on_rate_limit\n",
      "Unexpected parameter: wait_on_rate_limit\n",
      "Unexpected parameter: wait_on_rate_limit\n",
      "Unexpected parameter: wait_on_rate_limit\n",
      "Unexpected parameter: wait_on_rate_limit\n",
      "Unexpected parameter: wait_on_rate_limit\n",
      "Unexpected parameter: wait_on_rate_limit\n",
      "Unexpected parameter: wait_on_rate_limit\n",
      "Unexpected parameter: wait_on_rate_limit\n",
      "Unexpected parameter: wait_on_rate_limit\n"
     ]
    },
    {
     "name": "stdout",
     "output_type": "stream",
     "text": [
      "782747134529531904\n"
     ]
    },
    {
     "name": "stderr",
     "output_type": "stream",
     "text": [
      "Unexpected parameter: wait_on_rate_limit\n"
     ]
    },
    {
     "name": "stdout",
     "output_type": "stream",
     "text": [
      "782722598790725632\n"
     ]
    },
    {
     "name": "stderr",
     "output_type": "stream",
     "text": [
      "Unexpected parameter: wait_on_rate_limit\n"
     ]
    },
    {
     "name": "stdout",
     "output_type": "stream",
     "text": [
      "782598640137187329\n"
     ]
    },
    {
     "name": "stderr",
     "output_type": "stream",
     "text": [
      "Unexpected parameter: wait_on_rate_limit\n"
     ]
    },
    {
     "name": "stdout",
     "output_type": "stream",
     "text": [
      "782305867769217024\n"
     ]
    },
    {
     "name": "stderr",
     "output_type": "stream",
     "text": [
      "Unexpected parameter: wait_on_rate_limit\n"
     ]
    },
    {
     "name": "stdout",
     "output_type": "stream",
     "text": [
      "782021823840026624\n"
     ]
    },
    {
     "name": "stderr",
     "output_type": "stream",
     "text": [
      "Unexpected parameter: wait_on_rate_limit\n"
     ]
    },
    {
     "name": "stdout",
     "output_type": "stream",
     "text": [
      "781955203444699136\n"
     ]
    },
    {
     "name": "stderr",
     "output_type": "stream",
     "text": [
      "Unexpected parameter: wait_on_rate_limit\n",
      "Unexpected parameter: wait_on_rate_limit\n",
      "Unexpected parameter: wait_on_rate_limit\n",
      "Unexpected parameter: wait_on_rate_limit\n",
      "Unexpected parameter: wait_on_rate_limit\n",
      "Unexpected parameter: wait_on_rate_limit\n",
      "Unexpected parameter: wait_on_rate_limit\n",
      "Unexpected parameter: wait_on_rate_limit\n",
      "Unexpected parameter: wait_on_rate_limit\n",
      "Unexpected parameter: wait_on_rate_limit\n",
      "Unexpected parameter: wait_on_rate_limit\n",
      "Unexpected parameter: wait_on_rate_limit\n",
      "Unexpected parameter: wait_on_rate_limit\n"
     ]
    },
    {
     "name": "stdout",
     "output_type": "stream",
     "text": [
      "780476555013349377\n"
     ]
    },
    {
     "name": "stderr",
     "output_type": "stream",
     "text": [
      "Unexpected parameter: wait_on_rate_limit\n"
     ]
    },
    {
     "name": "stdout",
     "output_type": "stream",
     "text": [
      "780459368902959104\n"
     ]
    },
    {
     "name": "stderr",
     "output_type": "stream",
     "text": [
      "Unexpected parameter: wait_on_rate_limit\n",
      "Unexpected parameter: wait_on_rate_limit\n",
      "Unexpected parameter: wait_on_rate_limit\n",
      "Unexpected parameter: wait_on_rate_limit\n",
      "Unexpected parameter: wait_on_rate_limit\n",
      "Unexpected parameter: wait_on_rate_limit\n",
      "Unexpected parameter: wait_on_rate_limit\n"
     ]
    },
    {
     "name": "stdout",
     "output_type": "stream",
     "text": [
      "779123168116150273\n"
     ]
    },
    {
     "name": "stderr",
     "output_type": "stream",
     "text": [
      "Unexpected parameter: wait_on_rate_limit\n",
      "Unexpected parameter: wait_on_rate_limit\n",
      "Unexpected parameter: wait_on_rate_limit\n",
      "Unexpected parameter: wait_on_rate_limit\n",
      "Unexpected parameter: wait_on_rate_limit\n",
      "Unexpected parameter: wait_on_rate_limit\n",
      "Unexpected parameter: wait_on_rate_limit\n",
      "Unexpected parameter: wait_on_rate_limit\n",
      "Unexpected parameter: wait_on_rate_limit\n",
      "Unexpected parameter: wait_on_rate_limit\n",
      "Unexpected parameter: wait_on_rate_limit\n",
      "Unexpected parameter: wait_on_rate_limit\n",
      "Unexpected parameter: wait_on_rate_limit\n",
      "Unexpected parameter: wait_on_rate_limit\n"
     ]
    },
    {
     "name": "stdout",
     "output_type": "stream",
     "text": [
      "777953400541634568\n"
     ]
    },
    {
     "name": "stderr",
     "output_type": "stream",
     "text": [
      "Unexpected parameter: wait_on_rate_limit\n"
     ]
    },
    {
     "name": "stdout",
     "output_type": "stream",
     "text": [
      "777885040357281792\n"
     ]
    },
    {
     "name": "stderr",
     "output_type": "stream",
     "text": [
      "Unexpected parameter: wait_on_rate_limit\n"
     ]
    },
    {
     "name": "stdout",
     "output_type": "stream",
     "text": [
      "777684233540206592\n"
     ]
    },
    {
     "name": "stderr",
     "output_type": "stream",
     "text": [
      "Unexpected parameter: wait_on_rate_limit\n",
      "Unexpected parameter: wait_on_rate_limit\n",
      "Unexpected parameter: wait_on_rate_limit\n",
      "Unexpected parameter: wait_on_rate_limit\n",
      "Unexpected parameter: wait_on_rate_limit\n",
      "Unexpected parameter: wait_on_rate_limit\n",
      "Unexpected parameter: wait_on_rate_limit\n",
      "Unexpected parameter: wait_on_rate_limit\n",
      "Unexpected parameter: wait_on_rate_limit\n",
      "Unexpected parameter: wait_on_rate_limit\n",
      "Unexpected parameter: wait_on_rate_limit\n",
      "Unexpected parameter: wait_on_rate_limit\n",
      "Unexpected parameter: wait_on_rate_limit\n",
      "Unexpected parameter: wait_on_rate_limit\n",
      "Unexpected parameter: wait_on_rate_limit\n",
      "Unexpected parameter: wait_on_rate_limit\n",
      "Unexpected parameter: wait_on_rate_limit\n",
      "Unexpected parameter: wait_on_rate_limit\n"
     ]
    },
    {
     "name": "stdout",
     "output_type": "stream",
     "text": [
      "775096608509886464\n"
     ]
    },
    {
     "name": "stderr",
     "output_type": "stream",
     "text": [
      "Unexpected parameter: wait_on_rate_limit\n",
      "Unexpected parameter: wait_on_rate_limit\n",
      "Unexpected parameter: wait_on_rate_limit\n",
      "Unexpected parameter: wait_on_rate_limit\n",
      "Unexpected parameter: wait_on_rate_limit\n",
      "Unexpected parameter: wait_on_rate_limit\n",
      "Unexpected parameter: wait_on_rate_limit\n",
      "Unexpected parameter: wait_on_rate_limit\n",
      "Unexpected parameter: wait_on_rate_limit\n",
      "Unexpected parameter: wait_on_rate_limit\n",
      "Unexpected parameter: wait_on_rate_limit\n",
      "Unexpected parameter: wait_on_rate_limit\n",
      "Unexpected parameter: wait_on_rate_limit\n",
      "Unexpected parameter: wait_on_rate_limit\n",
      "Unexpected parameter: wait_on_rate_limit\n",
      "Unexpected parameter: wait_on_rate_limit\n",
      "Unexpected parameter: wait_on_rate_limit\n",
      "Unexpected parameter: wait_on_rate_limit\n",
      "Unexpected parameter: wait_on_rate_limit\n",
      "Unexpected parameter: wait_on_rate_limit\n",
      "Unexpected parameter: wait_on_rate_limit\n",
      "Unexpected parameter: wait_on_rate_limit\n",
      "Unexpected parameter: wait_on_rate_limit\n",
      "Unexpected parameter: wait_on_rate_limit\n",
      "Unexpected parameter: wait_on_rate_limit\n",
      "Unexpected parameter: wait_on_rate_limit\n",
      "Unexpected parameter: wait_on_rate_limit\n",
      "Unexpected parameter: wait_on_rate_limit\n",
      "Unexpected parameter: wait_on_rate_limit\n",
      "Unexpected parameter: wait_on_rate_limit\n",
      "Unexpected parameter: wait_on_rate_limit\n"
     ]
    },
    {
     "name": "stdout",
     "output_type": "stream",
     "text": [
      "771004394259247104\n"
     ]
    },
    {
     "name": "stderr",
     "output_type": "stream",
     "text": [
      "Unexpected parameter: wait_on_rate_limit\n",
      "Unexpected parameter: wait_on_rate_limit\n",
      "Unexpected parameter: wait_on_rate_limit\n"
     ]
    },
    {
     "name": "stdout",
     "output_type": "stream",
     "text": [
      "770743923962707968\n"
     ]
    },
    {
     "name": "stderr",
     "output_type": "stream",
     "text": [
      "Unexpected parameter: wait_on_rate_limit\n",
      "Unexpected parameter: wait_on_rate_limit\n",
      "Unexpected parameter: wait_on_rate_limit\n",
      "Unexpected parameter: wait_on_rate_limit\n",
      "Unexpected parameter: wait_on_rate_limit\n",
      "Unexpected parameter: wait_on_rate_limit\n",
      "Unexpected parameter: wait_on_rate_limit\n",
      "Unexpected parameter: wait_on_rate_limit\n",
      "Unexpected parameter: wait_on_rate_limit\n",
      "Unexpected parameter: wait_on_rate_limit\n",
      "Unexpected parameter: wait_on_rate_limit\n",
      "Unexpected parameter: wait_on_rate_limit\n",
      "Unexpected parameter: wait_on_rate_limit\n",
      "Unexpected parameter: wait_on_rate_limit\n",
      "Unexpected parameter: wait_on_rate_limit\n",
      "Unexpected parameter: wait_on_rate_limit\n",
      "Unexpected parameter: wait_on_rate_limit\n",
      "Unexpected parameter: wait_on_rate_limit\n",
      "Unexpected parameter: wait_on_rate_limit\n",
      "Unexpected parameter: wait_on_rate_limit\n"
     ]
    },
    {
     "name": "stdout",
     "output_type": "stream",
     "text": [
      "767500508068192258\n"
     ]
    },
    {
     "name": "stderr",
     "output_type": "stream",
     "text": [
      "Unexpected parameter: wait_on_rate_limit\n"
     ]
    },
    {
     "name": "stdout",
     "output_type": "stream",
     "text": [
      "767191397493538821\n"
     ]
    },
    {
     "name": "stderr",
     "output_type": "stream",
     "text": [
      "Unexpected parameter: wait_on_rate_limit\n"
     ]
    },
    {
     "name": "stdout",
     "output_type": "stream",
     "text": [
      "767122157629476866\n"
     ]
    },
    {
     "name": "stderr",
     "output_type": "stream",
     "text": [
      "Unexpected parameter: wait_on_rate_limit\n"
     ]
    },
    {
     "name": "stdout",
     "output_type": "stream",
     "text": [
      "766864461642756096\n"
     ]
    },
    {
     "name": "stderr",
     "output_type": "stream",
     "text": [
      "Unexpected parameter: wait_on_rate_limit\n"
     ]
    },
    {
     "name": "stdout",
     "output_type": "stream",
     "text": [
      "766793450729734144\n"
     ]
    },
    {
     "name": "stderr",
     "output_type": "stream",
     "text": [
      "Unexpected parameter: wait_on_rate_limit\n",
      "Unexpected parameter: wait_on_rate_limit\n",
      "Unexpected parameter: wait_on_rate_limit\n",
      "Unexpected parameter: wait_on_rate_limit\n",
      "Unexpected parameter: wait_on_rate_limit\n",
      "Unexpected parameter: wait_on_rate_limit\n",
      "Unexpected parameter: wait_on_rate_limit\n",
      "Unexpected parameter: wait_on_rate_limit\n",
      "Unexpected parameter: wait_on_rate_limit\n",
      "Unexpected parameter: wait_on_rate_limit\n",
      "Unexpected parameter: wait_on_rate_limit\n",
      "Unexpected parameter: wait_on_rate_limit\n",
      "Unexpected parameter: wait_on_rate_limit\n",
      "Unexpected parameter: wait_on_rate_limit\n",
      "Unexpected parameter: wait_on_rate_limit\n",
      "Unexpected parameter: wait_on_rate_limit\n",
      "Unexpected parameter: wait_on_rate_limit\n",
      "Unexpected parameter: wait_on_rate_limit\n",
      "Unexpected parameter: wait_on_rate_limit\n",
      "Unexpected parameter: wait_on_rate_limit\n",
      "Unexpected parameter: wait_on_rate_limit\n",
      "Unexpected parameter: wait_on_rate_limit\n",
      "Unexpected parameter: wait_on_rate_limit\n",
      "Unexpected parameter: wait_on_rate_limit\n",
      "Unexpected parameter: wait_on_rate_limit\n",
      "Unexpected parameter: wait_on_rate_limit\n",
      "Unexpected parameter: wait_on_rate_limit\n",
      "Unexpected parameter: wait_on_rate_limit\n",
      "Unexpected parameter: wait_on_rate_limit\n",
      "Unexpected parameter: wait_on_rate_limit\n",
      "Unexpected parameter: wait_on_rate_limit\n",
      "Unexpected parameter: wait_on_rate_limit\n",
      "Unexpected parameter: wait_on_rate_limit\n",
      "Unexpected parameter: wait_on_rate_limit\n",
      "Unexpected parameter: wait_on_rate_limit\n",
      "Unexpected parameter: wait_on_rate_limit\n",
      "Unexpected parameter: wait_on_rate_limit\n",
      "Unexpected parameter: wait_on_rate_limit\n",
      "Unexpected parameter: wait_on_rate_limit\n",
      "Unexpected parameter: wait_on_rate_limit\n",
      "Unexpected parameter: wait_on_rate_limit\n",
      "Unexpected parameter: wait_on_rate_limit\n",
      "Unexpected parameter: wait_on_rate_limit\n",
      "Unexpected parameter: wait_on_rate_limit\n",
      "Unexpected parameter: wait_on_rate_limit\n"
     ]
    },
    {
     "name": "stdout",
     "output_type": "stream",
     "text": [
      "759923798737051648\n"
     ]
    },
    {
     "name": "stderr",
     "output_type": "stream",
     "text": [
      "Unexpected parameter: wait_on_rate_limit\n",
      "Unexpected parameter: wait_on_rate_limit\n",
      "Unexpected parameter: wait_on_rate_limit\n"
     ]
    },
    {
     "name": "stdout",
     "output_type": "stream",
     "text": [
      "759566828574212096\n"
     ]
    },
    {
     "name": "stderr",
     "output_type": "stream",
     "text": [
      "Unexpected parameter: wait_on_rate_limit\n",
      "Unexpected parameter: wait_on_rate_limit\n",
      "Unexpected parameter: wait_on_rate_limit\n",
      "Unexpected parameter: wait_on_rate_limit\n",
      "Unexpected parameter: wait_on_rate_limit\n",
      "Unexpected parameter: wait_on_rate_limit\n",
      "Unexpected parameter: wait_on_rate_limit\n",
      "Unexpected parameter: wait_on_rate_limit\n",
      "Unexpected parameter: wait_on_rate_limit\n",
      "Unexpected parameter: wait_on_rate_limit\n",
      "Unexpected parameter: wait_on_rate_limit\n",
      "Unexpected parameter: wait_on_rate_limit\n",
      "Unexpected parameter: wait_on_rate_limit\n",
      "Unexpected parameter: wait_on_rate_limit\n",
      "Unexpected parameter: wait_on_rate_limit\n",
      "Unexpected parameter: wait_on_rate_limit\n",
      "Unexpected parameter: wait_on_rate_limit\n",
      "Unexpected parameter: wait_on_rate_limit\n",
      "Unexpected parameter: wait_on_rate_limit\n",
      "Unexpected parameter: wait_on_rate_limit\n",
      "Unexpected parameter: wait_on_rate_limit\n",
      "Unexpected parameter: wait_on_rate_limit\n",
      "Unexpected parameter: wait_on_rate_limit\n",
      "Unexpected parameter: wait_on_rate_limit\n",
      "Unexpected parameter: wait_on_rate_limit\n",
      "Unexpected parameter: wait_on_rate_limit\n",
      "Unexpected parameter: wait_on_rate_limit\n",
      "Unexpected parameter: wait_on_rate_limit\n",
      "Unexpected parameter: wait_on_rate_limit\n",
      "Unexpected parameter: wait_on_rate_limit\n",
      "Unexpected parameter: wait_on_rate_limit\n",
      "Unexpected parameter: wait_on_rate_limit\n",
      "Unexpected parameter: wait_on_rate_limit\n",
      "Unexpected parameter: wait_on_rate_limit\n",
      "Unexpected parameter: wait_on_rate_limit\n",
      "Unexpected parameter: wait_on_rate_limit\n",
      "Unexpected parameter: wait_on_rate_limit\n",
      "Unexpected parameter: wait_on_rate_limit\n",
      "Unexpected parameter: wait_on_rate_limit\n",
      "Unexpected parameter: wait_on_rate_limit\n",
      "Unexpected parameter: wait_on_rate_limit\n",
      "Unexpected parameter: wait_on_rate_limit\n"
     ]
    },
    {
     "name": "stdout",
     "output_type": "stream",
     "text": [
      "754011816964026368\n"
     ]
    },
    {
     "name": "stderr",
     "output_type": "stream",
     "text": [
      "Unexpected parameter: wait_on_rate_limit\n",
      "Unexpected parameter: wait_on_rate_limit\n",
      "Unexpected parameter: wait_on_rate_limit\n",
      "Unexpected parameter: wait_on_rate_limit\n",
      "Unexpected parameter: wait_on_rate_limit\n",
      "Unexpected parameter: wait_on_rate_limit\n",
      "Unexpected parameter: wait_on_rate_limit\n",
      "Unexpected parameter: wait_on_rate_limit\n",
      "Unexpected parameter: wait_on_rate_limit\n",
      "Unexpected parameter: wait_on_rate_limit\n",
      "Unexpected parameter: wait_on_rate_limit\n",
      "Unexpected parameter: wait_on_rate_limit\n",
      "Unexpected parameter: wait_on_rate_limit\n",
      "Unexpected parameter: wait_on_rate_limit\n",
      "Unexpected parameter: wait_on_rate_limit\n",
      "Unexpected parameter: wait_on_rate_limit\n",
      "Unexpected parameter: wait_on_rate_limit\n",
      "Unexpected parameter: wait_on_rate_limit\n",
      "Unexpected parameter: wait_on_rate_limit\n",
      "Unexpected parameter: wait_on_rate_limit\n",
      "Unexpected parameter: wait_on_rate_limit\n",
      "Unexpected parameter: wait_on_rate_limit\n",
      "Unexpected parameter: wait_on_rate_limit\n",
      "Unexpected parameter: wait_on_rate_limit\n",
      "Unexpected parameter: wait_on_rate_limit\n",
      "Unexpected parameter: wait_on_rate_limit\n",
      "Unexpected parameter: wait_on_rate_limit\n",
      "Unexpected parameter: wait_on_rate_limit\n",
      "Unexpected parameter: wait_on_rate_limit\n",
      "Unexpected parameter: wait_on_rate_limit\n",
      "Unexpected parameter: wait_on_rate_limit\n",
      "Unexpected parameter: wait_on_rate_limit\n",
      "Unexpected parameter: wait_on_rate_limit\n",
      "Unexpected parameter: wait_on_rate_limit\n",
      "Unexpected parameter: wait_on_rate_limit\n",
      "Unexpected parameter: wait_on_rate_limit\n",
      "Unexpected parameter: wait_on_rate_limit\n",
      "Unexpected parameter: wait_on_rate_limit\n",
      "Unexpected parameter: wait_on_rate_limit\n",
      "Unexpected parameter: wait_on_rate_limit\n",
      "Unexpected parameter: wait_on_rate_limit\n",
      "Unexpected parameter: wait_on_rate_limit\n",
      "Unexpected parameter: wait_on_rate_limit\n",
      "Unexpected parameter: wait_on_rate_limit\n",
      "Unexpected parameter: wait_on_rate_limit\n",
      "Unexpected parameter: wait_on_rate_limit\n",
      "Unexpected parameter: wait_on_rate_limit\n",
      "Unexpected parameter: wait_on_rate_limit\n",
      "Unexpected parameter: wait_on_rate_limit\n",
      "Unexpected parameter: wait_on_rate_limit\n",
      "Unexpected parameter: wait_on_rate_limit\n",
      "Unexpected parameter: wait_on_rate_limit\n",
      "Unexpected parameter: wait_on_rate_limit\n",
      "Unexpected parameter: wait_on_rate_limit\n",
      "Unexpected parameter: wait_on_rate_limit\n",
      "Unexpected parameter: wait_on_rate_limit\n",
      "Unexpected parameter: wait_on_rate_limit\n",
      "Unexpected parameter: wait_on_rate_limit\n",
      "Unexpected parameter: wait_on_rate_limit\n",
      "Unexpected parameter: wait_on_rate_limit\n",
      "Unexpected parameter: wait_on_rate_limit\n",
      "Unexpected parameter: wait_on_rate_limit\n",
      "Unexpected parameter: wait_on_rate_limit\n",
      "Unexpected parameter: wait_on_rate_limit\n",
      "Unexpected parameter: wait_on_rate_limit\n",
      "Unexpected parameter: wait_on_rate_limit\n",
      "Unexpected parameter: wait_on_rate_limit\n",
      "Unexpected parameter: wait_on_rate_limit\n",
      "Unexpected parameter: wait_on_rate_limit\n",
      "Unexpected parameter: wait_on_rate_limit\n",
      "Unexpected parameter: wait_on_rate_limit\n",
      "Unexpected parameter: wait_on_rate_limit\n",
      "Unexpected parameter: wait_on_rate_limit\n",
      "Unexpected parameter: wait_on_rate_limit\n",
      "Unexpected parameter: wait_on_rate_limit\n",
      "Unexpected parameter: wait_on_rate_limit\n",
      "Unexpected parameter: wait_on_rate_limit\n",
      "Unexpected parameter: wait_on_rate_limit\n",
      "Unexpected parameter: wait_on_rate_limit\n",
      "Unexpected parameter: wait_on_rate_limit\n",
      "Unexpected parameter: wait_on_rate_limit\n",
      "Unexpected parameter: wait_on_rate_limit\n",
      "Unexpected parameter: wait_on_rate_limit\n",
      "Unexpected parameter: wait_on_rate_limit\n",
      "Unexpected parameter: wait_on_rate_limit\n",
      "Unexpected parameter: wait_on_rate_limit\n",
      "Unexpected parameter: wait_on_rate_limit\n",
      "Unexpected parameter: wait_on_rate_limit\n",
      "Unexpected parameter: wait_on_rate_limit\n",
      "Unexpected parameter: wait_on_rate_limit\n",
      "Unexpected parameter: wait_on_rate_limit\n",
      "Unexpected parameter: wait_on_rate_limit\n",
      "Unexpected parameter: wait_on_rate_limit\n",
      "Unexpected parameter: wait_on_rate_limit\n",
      "Unexpected parameter: wait_on_rate_limit\n",
      "Unexpected parameter: wait_on_rate_limit\n",
      "Unexpected parameter: wait_on_rate_limit\n",
      "Unexpected parameter: wait_on_rate_limit\n",
      "Unexpected parameter: wait_on_rate_limit\n",
      "Unexpected parameter: wait_on_rate_limit\n",
      "Unexpected parameter: wait_on_rate_limit\n",
      "Unexpected parameter: wait_on_rate_limit\n",
      "Unexpected parameter: wait_on_rate_limit\n",
      "Unexpected parameter: wait_on_rate_limit\n",
      "Unexpected parameter: wait_on_rate_limit\n",
      "Unexpected parameter: wait_on_rate_limit\n",
      "Unexpected parameter: wait_on_rate_limit\n",
      "Unexpected parameter: wait_on_rate_limit\n",
      "Unexpected parameter: wait_on_rate_limit\n",
      "Unexpected parameter: wait_on_rate_limit\n",
      "Unexpected parameter: wait_on_rate_limit\n",
      "Unexpected parameter: wait_on_rate_limit\n",
      "Unexpected parameter: wait_on_rate_limit\n",
      "Unexpected parameter: wait_on_rate_limit\n",
      "Unexpected parameter: wait_on_rate_limit\n",
      "Unexpected parameter: wait_on_rate_limit\n",
      "Unexpected parameter: wait_on_rate_limit\n",
      "Unexpected parameter: wait_on_rate_limit\n",
      "Unexpected parameter: wait_on_rate_limit\n",
      "Unexpected parameter: wait_on_rate_limit\n",
      "Unexpected parameter: wait_on_rate_limit\n",
      "Unexpected parameter: wait_on_rate_limit\n",
      "Unexpected parameter: wait_on_rate_limit\n",
      "Unexpected parameter: wait_on_rate_limit\n",
      "Unexpected parameter: wait_on_rate_limit\n",
      "Unexpected parameter: wait_on_rate_limit\n",
      "Unexpected parameter: wait_on_rate_limit\n",
      "Unexpected parameter: wait_on_rate_limit\n",
      "Unexpected parameter: wait_on_rate_limit\n",
      "Unexpected parameter: wait_on_rate_limit\n",
      "Unexpected parameter: wait_on_rate_limit\n",
      "Unexpected parameter: wait_on_rate_limit\n",
      "Unexpected parameter: wait_on_rate_limit\n",
      "Unexpected parameter: wait_on_rate_limit\n",
      "Unexpected parameter: wait_on_rate_limit\n",
      "Unexpected parameter: wait_on_rate_limit\n",
      "Unexpected parameter: wait_on_rate_limit\n",
      "Unexpected parameter: wait_on_rate_limit\n",
      "Unexpected parameter: wait_on_rate_limit\n",
      "Unexpected parameter: wait_on_rate_limit\n",
      "Unexpected parameter: wait_on_rate_limit\n",
      "Unexpected parameter: wait_on_rate_limit\n",
      "Unexpected parameter: wait_on_rate_limit\n",
      "Unexpected parameter: wait_on_rate_limit\n",
      "Unexpected parameter: wait_on_rate_limit\n",
      "Unexpected parameter: wait_on_rate_limit\n",
      "Unexpected parameter: wait_on_rate_limit\n",
      "Unexpected parameter: wait_on_rate_limit\n",
      "Unexpected parameter: wait_on_rate_limit\n",
      "Unexpected parameter: wait_on_rate_limit\n",
      "Unexpected parameter: wait_on_rate_limit\n"
     ]
    },
    {
     "name": "stdout",
     "output_type": "stream",
     "text": [
      "738537504001953792\n"
     ]
    },
    {
     "name": "stderr",
     "output_type": "stream",
     "text": [
      "Unexpected parameter: wait_on_rate_limit\n"
     ]
    },
    {
     "name": "stdout",
     "output_type": "stream",
     "text": [
      "738402415918125056\n"
     ]
    },
    {
     "name": "stderr",
     "output_type": "stream",
     "text": [
      "Unexpected parameter: wait_on_rate_limit\n",
      "Unexpected parameter: wait_on_rate_limit\n",
      "Unexpected parameter: wait_on_rate_limit\n",
      "Unexpected parameter: wait_on_rate_limit\n",
      "Unexpected parameter: wait_on_rate_limit\n",
      "Unexpected parameter: wait_on_rate_limit\n",
      "Unexpected parameter: wait_on_rate_limit\n"
     ]
    },
    {
     "name": "stdout",
     "output_type": "stream",
     "text": [
      "737445876994609152\n"
     ]
    },
    {
     "name": "stderr",
     "output_type": "stream",
     "text": [
      "Unexpected parameter: wait_on_rate_limit\n",
      "Unexpected parameter: wait_on_rate_limit\n",
      "Unexpected parameter: wait_on_rate_limit\n"
     ]
    },
    {
     "name": "stdout",
     "output_type": "stream",
     "text": [
      "736736130620620800\n"
     ]
    },
    {
     "name": "stderr",
     "output_type": "stream",
     "text": [
      "Unexpected parameter: wait_on_rate_limit\n"
     ]
    },
    {
     "name": "stdout",
     "output_type": "stream",
     "text": [
      "736392552031657984\n"
     ]
    },
    {
     "name": "stderr",
     "output_type": "stream",
     "text": [
      "Unexpected parameter: wait_on_rate_limit\n"
     ]
    },
    {
     "name": "stdout",
     "output_type": "stream",
     "text": [
      "736365877722001409\n"
     ]
    },
    {
     "name": "stderr",
     "output_type": "stream",
     "text": [
      "Unexpected parameter: wait_on_rate_limit\n",
      "Unexpected parameter: wait_on_rate_limit\n",
      "Unexpected parameter: wait_on_rate_limit\n",
      "Unexpected parameter: wait_on_rate_limit\n",
      "Unexpected parameter: wait_on_rate_limit\n",
      "Unexpected parameter: wait_on_rate_limit\n",
      "Unexpected parameter: wait_on_rate_limit\n",
      "Unexpected parameter: wait_on_rate_limit\n",
      "Unexpected parameter: wait_on_rate_limit\n",
      "Unexpected parameter: wait_on_rate_limit\n",
      "Unexpected parameter: wait_on_rate_limit\n",
      "Unexpected parameter: wait_on_rate_limit\n",
      "Unexpected parameter: wait_on_rate_limit\n",
      "Unexpected parameter: wait_on_rate_limit\n",
      "Unexpected parameter: wait_on_rate_limit\n",
      "Unexpected parameter: wait_on_rate_limit\n",
      "Unexpected parameter: wait_on_rate_limit\n",
      "Unexpected parameter: wait_on_rate_limit\n",
      "Unexpected parameter: wait_on_rate_limit\n",
      "Unexpected parameter: wait_on_rate_limit\n",
      "Unexpected parameter: wait_on_rate_limit\n",
      "Unexpected parameter: wait_on_rate_limit\n",
      "Unexpected parameter: wait_on_rate_limit\n",
      "Unexpected parameter: wait_on_rate_limit\n",
      "Unexpected parameter: wait_on_rate_limit\n",
      "Unexpected parameter: wait_on_rate_limit\n",
      "Unexpected parameter: wait_on_rate_limit\n",
      "Unexpected parameter: wait_on_rate_limit\n",
      "Unexpected parameter: wait_on_rate_limit\n",
      "Unexpected parameter: wait_on_rate_limit\n",
      "Unexpected parameter: wait_on_rate_limit\n",
      "Unexpected parameter: wait_on_rate_limit\n",
      "Unexpected parameter: wait_on_rate_limit\n",
      "Unexpected parameter: wait_on_rate_limit\n",
      "Unexpected parameter: wait_on_rate_limit\n",
      "Unexpected parameter: wait_on_rate_limit\n",
      "Unexpected parameter: wait_on_rate_limit\n",
      "Unexpected parameter: wait_on_rate_limit\n",
      "Unexpected parameter: wait_on_rate_limit\n",
      "Unexpected parameter: wait_on_rate_limit\n",
      "Unexpected parameter: wait_on_rate_limit\n",
      "Unexpected parameter: wait_on_rate_limit\n",
      "Unexpected parameter: wait_on_rate_limit\n",
      "Unexpected parameter: wait_on_rate_limit\n",
      "Unexpected parameter: wait_on_rate_limit\n",
      "Unexpected parameter: wait_on_rate_limit\n",
      "Unexpected parameter: wait_on_rate_limit\n",
      "Unexpected parameter: wait_on_rate_limit\n",
      "Unexpected parameter: wait_on_rate_limit\n",
      "Unexpected parameter: wait_on_rate_limit\n",
      "Unexpected parameter: wait_on_rate_limit\n",
      "Unexpected parameter: wait_on_rate_limit\n",
      "Unexpected parameter: wait_on_rate_limit\n",
      "Unexpected parameter: wait_on_rate_limit\n",
      "Unexpected parameter: wait_on_rate_limit\n",
      "Unexpected parameter: wait_on_rate_limit\n",
      "Unexpected parameter: wait_on_rate_limit\n",
      "Unexpected parameter: wait_on_rate_limit\n",
      "Unexpected parameter: wait_on_rate_limit\n",
      "Unexpected parameter: wait_on_rate_limit\n",
      "Unexpected parameter: wait_on_rate_limit\n",
      "Unexpected parameter: wait_on_rate_limit\n",
      "Unexpected parameter: wait_on_rate_limit\n",
      "Unexpected parameter: wait_on_rate_limit\n",
      "Unexpected parameter: wait_on_rate_limit\n",
      "Unexpected parameter: wait_on_rate_limit\n",
      "Unexpected parameter: wait_on_rate_limit\n",
      "Unexpected parameter: wait_on_rate_limit\n",
      "Unexpected parameter: wait_on_rate_limit\n",
      "Unexpected parameter: wait_on_rate_limit\n",
      "Unexpected parameter: wait_on_rate_limit\n",
      "Unexpected parameter: wait_on_rate_limit\n",
      "Unexpected parameter: wait_on_rate_limit\n",
      "Unexpected parameter: wait_on_rate_limit\n",
      "Unexpected parameter: wait_on_rate_limit\n",
      "Unexpected parameter: wait_on_rate_limit\n",
      "Unexpected parameter: wait_on_rate_limit\n",
      "Unexpected parameter: wait_on_rate_limit\n",
      "Unexpected parameter: wait_on_rate_limit\n",
      "Unexpected parameter: wait_on_rate_limit\n",
      "Unexpected parameter: wait_on_rate_limit\n",
      "Unexpected parameter: wait_on_rate_limit\n",
      "Unexpected parameter: wait_on_rate_limit\n",
      "Unexpected parameter: wait_on_rate_limit\n",
      "Unexpected parameter: wait_on_rate_limit\n",
      "Unexpected parameter: wait_on_rate_limit\n",
      "Unexpected parameter: wait_on_rate_limit\n",
      "Unexpected parameter: wait_on_rate_limit\n",
      "Unexpected parameter: wait_on_rate_limit\n",
      "Unexpected parameter: wait_on_rate_limit\n",
      "Unexpected parameter: wait_on_rate_limit\n",
      "Unexpected parameter: wait_on_rate_limit\n",
      "Unexpected parameter: wait_on_rate_limit\n",
      "Unexpected parameter: wait_on_rate_limit\n",
      "Unexpected parameter: wait_on_rate_limit\n",
      "Unexpected parameter: wait_on_rate_limit\n",
      "Unexpected parameter: wait_on_rate_limit\n",
      "Unexpected parameter: wait_on_rate_limit\n",
      "Unexpected parameter: wait_on_rate_limit\n",
      "Unexpected parameter: wait_on_rate_limit\n",
      "Unexpected parameter: wait_on_rate_limit\n",
      "Unexpected parameter: wait_on_rate_limit\n",
      "Unexpected parameter: wait_on_rate_limit\n",
      "Unexpected parameter: wait_on_rate_limit\n",
      "Unexpected parameter: wait_on_rate_limit\n",
      "Unexpected parameter: wait_on_rate_limit\n",
      "Unexpected parameter: wait_on_rate_limit\n",
      "Unexpected parameter: wait_on_rate_limit\n",
      "Unexpected parameter: wait_on_rate_limit\n",
      "Unexpected parameter: wait_on_rate_limit\n",
      "Unexpected parameter: wait_on_rate_limit\n",
      "Unexpected parameter: wait_on_rate_limit\n",
      "Unexpected parameter: wait_on_rate_limit\n",
      "Unexpected parameter: wait_on_rate_limit\n",
      "Unexpected parameter: wait_on_rate_limit\n",
      "Unexpected parameter: wait_on_rate_limit\n",
      "Unexpected parameter: wait_on_rate_limit\n",
      "Unexpected parameter: wait_on_rate_limit\n",
      "Unexpected parameter: wait_on_rate_limit\n",
      "Unexpected parameter: wait_on_rate_limit\n",
      "Unexpected parameter: wait_on_rate_limit\n",
      "Unexpected parameter: wait_on_rate_limit\n",
      "Unexpected parameter: wait_on_rate_limit\n",
      "Unexpected parameter: wait_on_rate_limit\n",
      "Unexpected parameter: wait_on_rate_limit\n",
      "Unexpected parameter: wait_on_rate_limit\n",
      "Unexpected parameter: wait_on_rate_limit\n",
      "Unexpected parameter: wait_on_rate_limit\n",
      "Unexpected parameter: wait_on_rate_limit\n",
      "Unexpected parameter: wait_on_rate_limit\n",
      "Unexpected parameter: wait_on_rate_limit\n",
      "Unexpected parameter: wait_on_rate_limit\n",
      "Unexpected parameter: wait_on_rate_limit\n",
      "Unexpected parameter: wait_on_rate_limit\n",
      "Unexpected parameter: wait_on_rate_limit\n",
      "Unexpected parameter: wait_on_rate_limit\n",
      "Unexpected parameter: wait_on_rate_limit\n",
      "Unexpected parameter: wait_on_rate_limit\n",
      "Unexpected parameter: wait_on_rate_limit\n",
      "Unexpected parameter: wait_on_rate_limit\n",
      "Unexpected parameter: wait_on_rate_limit\n",
      "Unexpected parameter: wait_on_rate_limit\n",
      "Unexpected parameter: wait_on_rate_limit\n",
      "Unexpected parameter: wait_on_rate_limit\n",
      "Unexpected parameter: wait_on_rate_limit\n",
      "Unexpected parameter: wait_on_rate_limit\n",
      "Unexpected parameter: wait_on_rate_limit\n",
      "Unexpected parameter: wait_on_rate_limit\n",
      "Unexpected parameter: wait_on_rate_limit\n",
      "Unexpected parameter: wait_on_rate_limit\n",
      "Unexpected parameter: wait_on_rate_limit\n",
      "Unexpected parameter: wait_on_rate_limit\n",
      "Unexpected parameter: wait_on_rate_limit\n",
      "Unexpected parameter: wait_on_rate_limit\n",
      "Unexpected parameter: wait_on_rate_limit\n",
      "Unexpected parameter: wait_on_rate_limit\n",
      "Unexpected parameter: wait_on_rate_limit\n",
      "Unexpected parameter: wait_on_rate_limit\n",
      "Unexpected parameter: wait_on_rate_limit\n",
      "Unexpected parameter: wait_on_rate_limit\n",
      "Unexpected parameter: wait_on_rate_limit\n",
      "Unexpected parameter: wait_on_rate_limit\n",
      "Unexpected parameter: wait_on_rate_limit\n",
      "Unexpected parameter: wait_on_rate_limit\n",
      "Unexpected parameter: wait_on_rate_limit\n",
      "Unexpected parameter: wait_on_rate_limit\n",
      "Unexpected parameter: wait_on_rate_limit\n",
      "Unexpected parameter: wait_on_rate_limit\n",
      "Unexpected parameter: wait_on_rate_limit\n",
      "Unexpected parameter: wait_on_rate_limit\n",
      "Unexpected parameter: wait_on_rate_limit\n",
      "Unexpected parameter: wait_on_rate_limit\n",
      "Unexpected parameter: wait_on_rate_limit\n",
      "Unexpected parameter: wait_on_rate_limit\n",
      "Unexpected parameter: wait_on_rate_limit\n",
      "Unexpected parameter: wait_on_rate_limit\n",
      "Unexpected parameter: wait_on_rate_limit\n",
      "Unexpected parameter: wait_on_rate_limit\n",
      "Unexpected parameter: wait_on_rate_limit\n",
      "Unexpected parameter: wait_on_rate_limit\n",
      "Unexpected parameter: wait_on_rate_limit\n",
      "Unexpected parameter: wait_on_rate_limit\n",
      "Unexpected parameter: wait_on_rate_limit\n",
      "Unexpected parameter: wait_on_rate_limit\n",
      "Unexpected parameter: wait_on_rate_limit\n",
      "Unexpected parameter: wait_on_rate_limit\n",
      "Unexpected parameter: wait_on_rate_limit\n",
      "Unexpected parameter: wait_on_rate_limit\n",
      "Unexpected parameter: wait_on_rate_limit\n",
      "Unexpected parameter: wait_on_rate_limit\n",
      "Unexpected parameter: wait_on_rate_limit\n",
      "Unexpected parameter: wait_on_rate_limit\n",
      "Unexpected parameter: wait_on_rate_limit\n",
      "Unexpected parameter: wait_on_rate_limit\n",
      "Unexpected parameter: wait_on_rate_limit\n",
      "Unexpected parameter: wait_on_rate_limit\n",
      "Unexpected parameter: wait_on_rate_limit\n",
      "Unexpected parameter: wait_on_rate_limit\n",
      "Unexpected parameter: wait_on_rate_limit\n",
      "Unexpected parameter: wait_on_rate_limit\n"
     ]
    },
    {
     "name": "stderr",
     "output_type": "stream",
     "text": [
      "Unexpected parameter: wait_on_rate_limit\n",
      "Unexpected parameter: wait_on_rate_limit\n",
      "Unexpected parameter: wait_on_rate_limit\n",
      "Unexpected parameter: wait_on_rate_limit\n",
      "Unexpected parameter: wait_on_rate_limit\n",
      "Unexpected parameter: wait_on_rate_limit\n",
      "Unexpected parameter: wait_on_rate_limit\n",
      "Unexpected parameter: wait_on_rate_limit\n",
      "Unexpected parameter: wait_on_rate_limit\n",
      "Unexpected parameter: wait_on_rate_limit\n",
      "Unexpected parameter: wait_on_rate_limit\n",
      "Unexpected parameter: wait_on_rate_limit\n",
      "Unexpected parameter: wait_on_rate_limit\n",
      "Unexpected parameter: wait_on_rate_limit\n",
      "Unexpected parameter: wait_on_rate_limit\n",
      "Unexpected parameter: wait_on_rate_limit\n",
      "Unexpected parameter: wait_on_rate_limit\n",
      "Unexpected parameter: wait_on_rate_limit\n",
      "Unexpected parameter: wait_on_rate_limit\n",
      "Unexpected parameter: wait_on_rate_limit\n",
      "Unexpected parameter: wait_on_rate_limit\n",
      "Unexpected parameter: wait_on_rate_limit\n",
      "Unexpected parameter: wait_on_rate_limit\n",
      "Unexpected parameter: wait_on_rate_limit\n",
      "Unexpected parameter: wait_on_rate_limit\n",
      "Unexpected parameter: wait_on_rate_limit\n",
      "Unexpected parameter: wait_on_rate_limit\n",
      "Unexpected parameter: wait_on_rate_limit\n",
      "Unexpected parameter: wait_on_rate_limit\n",
      "Unexpected parameter: wait_on_rate_limit\n",
      "Unexpected parameter: wait_on_rate_limit\n",
      "Unexpected parameter: wait_on_rate_limit\n",
      "Unexpected parameter: wait_on_rate_limit\n",
      "Unexpected parameter: wait_on_rate_limit\n",
      "Unexpected parameter: wait_on_rate_limit\n",
      "Unexpected parameter: wait_on_rate_limit\n",
      "Unexpected parameter: wait_on_rate_limit\n",
      "Unexpected parameter: wait_on_rate_limit\n",
      "Unexpected parameter: wait_on_rate_limit\n",
      "Unexpected parameter: wait_on_rate_limit\n",
      "Unexpected parameter: wait_on_rate_limit\n",
      "Unexpected parameter: wait_on_rate_limit\n",
      "Unexpected parameter: wait_on_rate_limit\n",
      "Unexpected parameter: wait_on_rate_limit\n",
      "Unexpected parameter: wait_on_rate_limit\n",
      "Unexpected parameter: wait_on_rate_limit\n",
      "Unexpected parameter: wait_on_rate_limit\n",
      "Unexpected parameter: wait_on_rate_limit\n",
      "Unexpected parameter: wait_on_rate_limit\n",
      "Unexpected parameter: wait_on_rate_limit\n",
      "Unexpected parameter: wait_on_rate_limit\n",
      "Unexpected parameter: wait_on_rate_limit\n",
      "Unexpected parameter: wait_on_rate_limit\n",
      "Unexpected parameter: wait_on_rate_limit\n",
      "Unexpected parameter: wait_on_rate_limit\n",
      "Unexpected parameter: wait_on_rate_limit\n",
      "Unexpected parameter: wait_on_rate_limit\n",
      "Unexpected parameter: wait_on_rate_limit\n",
      "Unexpected parameter: wait_on_rate_limit\n",
      "Unexpected parameter: wait_on_rate_limit\n",
      "Unexpected parameter: wait_on_rate_limit\n",
      "Unexpected parameter: wait_on_rate_limit\n",
      "Unexpected parameter: wait_on_rate_limit\n",
      "Unexpected parameter: wait_on_rate_limit\n",
      "Unexpected parameter: wait_on_rate_limit\n",
      "Unexpected parameter: wait_on_rate_limit\n",
      "Unexpected parameter: wait_on_rate_limit\n",
      "Unexpected parameter: wait_on_rate_limit\n",
      "Unexpected parameter: wait_on_rate_limit\n",
      "Unexpected parameter: wait_on_rate_limit\n",
      "Unexpected parameter: wait_on_rate_limit\n",
      "Unexpected parameter: wait_on_rate_limit\n",
      "Unexpected parameter: wait_on_rate_limit\n",
      "Unexpected parameter: wait_on_rate_limit\n",
      "Unexpected parameter: wait_on_rate_limit\n",
      "Unexpected parameter: wait_on_rate_limit\n",
      "Unexpected parameter: wait_on_rate_limit\n",
      "Unexpected parameter: wait_on_rate_limit\n",
      "Unexpected parameter: wait_on_rate_limit\n",
      "Unexpected parameter: wait_on_rate_limit\n",
      "Unexpected parameter: wait_on_rate_limit\n",
      "Unexpected parameter: wait_on_rate_limit\n",
      "Unexpected parameter: wait_on_rate_limit\n",
      "Unexpected parameter: wait_on_rate_limit\n",
      "Unexpected parameter: wait_on_rate_limit\n",
      "Unexpected parameter: wait_on_rate_limit\n",
      "Unexpected parameter: wait_on_rate_limit\n",
      "Unexpected parameter: wait_on_rate_limit\n",
      "Unexpected parameter: wait_on_rate_limit\n",
      "Unexpected parameter: wait_on_rate_limit\n",
      "Unexpected parameter: wait_on_rate_limit\n",
      "Unexpected parameter: wait_on_rate_limit\n",
      "Unexpected parameter: wait_on_rate_limit\n",
      "Unexpected parameter: wait_on_rate_limit\n",
      "Unexpected parameter: wait_on_rate_limit\n",
      "Unexpected parameter: wait_on_rate_limit\n",
      "Unexpected parameter: wait_on_rate_limit\n",
      "Unexpected parameter: wait_on_rate_limit\n",
      "Unexpected parameter: wait_on_rate_limit\n",
      "Unexpected parameter: wait_on_rate_limit\n",
      "Unexpected parameter: wait_on_rate_limit\n",
      "Unexpected parameter: wait_on_rate_limit\n",
      "Unexpected parameter: wait_on_rate_limit\n",
      "Unexpected parameter: wait_on_rate_limit\n",
      "Unexpected parameter: wait_on_rate_limit\n",
      "Unexpected parameter: wait_on_rate_limit\n",
      "Unexpected parameter: wait_on_rate_limit\n",
      "Unexpected parameter: wait_on_rate_limit\n",
      "Unexpected parameter: wait_on_rate_limit\n",
      "Unexpected parameter: wait_on_rate_limit\n",
      "Unexpected parameter: wait_on_rate_limit\n",
      "Unexpected parameter: wait_on_rate_limit\n",
      "Unexpected parameter: wait_on_rate_limit\n",
      "Unexpected parameter: wait_on_rate_limit\n",
      "Unexpected parameter: wait_on_rate_limit\n",
      "Unexpected parameter: wait_on_rate_limit\n",
      "Unexpected parameter: wait_on_rate_limit\n",
      "Unexpected parameter: wait_on_rate_limit\n",
      "Unexpected parameter: wait_on_rate_limit\n",
      "Unexpected parameter: wait_on_rate_limit\n",
      "Unexpected parameter: wait_on_rate_limit\n",
      "Unexpected parameter: wait_on_rate_limit\n",
      "Unexpected parameter: wait_on_rate_limit\n",
      "Unexpected parameter: wait_on_rate_limit\n",
      "Unexpected parameter: wait_on_rate_limit\n",
      "Unexpected parameter: wait_on_rate_limit\n",
      "Unexpected parameter: wait_on_rate_limit\n"
     ]
    },
    {
     "name": "stdout",
     "output_type": "stream",
     "text": [
      "697995514407682048\n"
     ]
    },
    {
     "name": "stderr",
     "output_type": "stream",
     "text": [
      "Unexpected parameter: wait_on_rate_limit\n",
      "Unexpected parameter: wait_on_rate_limit\n",
      "Unexpected parameter: wait_on_rate_limit\n",
      "Unexpected parameter: wait_on_rate_limit\n",
      "Unexpected parameter: wait_on_rate_limit\n",
      "Unexpected parameter: wait_on_rate_limit\n",
      "Unexpected parameter: wait_on_rate_limit\n",
      "Unexpected parameter: wait_on_rate_limit\n",
      "Unexpected parameter: wait_on_rate_limit\n",
      "Unexpected parameter: wait_on_rate_limit\n",
      "Unexpected parameter: wait_on_rate_limit\n",
      "Unexpected parameter: wait_on_rate_limit\n",
      "Unexpected parameter: wait_on_rate_limit\n",
      "Unexpected parameter: wait_on_rate_limit\n",
      "Unexpected parameter: wait_on_rate_limit\n",
      "Unexpected parameter: wait_on_rate_limit\n",
      "Unexpected parameter: wait_on_rate_limit\n",
      "Unexpected parameter: wait_on_rate_limit\n",
      "Unexpected parameter: wait_on_rate_limit\n",
      "Unexpected parameter: wait_on_rate_limit\n",
      "Unexpected parameter: wait_on_rate_limit\n",
      "Unexpected parameter: wait_on_rate_limit\n",
      "Unexpected parameter: wait_on_rate_limit\n",
      "Unexpected parameter: wait_on_rate_limit\n",
      "Unexpected parameter: wait_on_rate_limit\n",
      "Unexpected parameter: wait_on_rate_limit\n",
      "Unexpected parameter: wait_on_rate_limit\n",
      "Unexpected parameter: wait_on_rate_limit\n",
      "Unexpected parameter: wait_on_rate_limit\n",
      "Unexpected parameter: wait_on_rate_limit\n",
      "Unexpected parameter: wait_on_rate_limit\n",
      "Unexpected parameter: wait_on_rate_limit\n",
      "Unexpected parameter: wait_on_rate_limit\n",
      "Unexpected parameter: wait_on_rate_limit\n",
      "Unexpected parameter: wait_on_rate_limit\n",
      "Unexpected parameter: wait_on_rate_limit\n",
      "Unexpected parameter: wait_on_rate_limit\n",
      "Unexpected parameter: wait_on_rate_limit\n",
      "Unexpected parameter: wait_on_rate_limit\n",
      "Unexpected parameter: wait_on_rate_limit\n",
      "Unexpected parameter: wait_on_rate_limit\n",
      "Unexpected parameter: wait_on_rate_limit\n",
      "Unexpected parameter: wait_on_rate_limit\n",
      "Unexpected parameter: wait_on_rate_limit\n",
      "Unexpected parameter: wait_on_rate_limit\n",
      "Unexpected parameter: wait_on_rate_limit\n",
      "Unexpected parameter: wait_on_rate_limit\n",
      "Unexpected parameter: wait_on_rate_limit\n",
      "Unexpected parameter: wait_on_rate_limit\n",
      "Unexpected parameter: wait_on_rate_limit\n",
      "Unexpected parameter: wait_on_rate_limit\n",
      "Unexpected parameter: wait_on_rate_limit\n",
      "Unexpected parameter: wait_on_rate_limit\n",
      "Unexpected parameter: wait_on_rate_limit\n",
      "Unexpected parameter: wait_on_rate_limit\n",
      "Unexpected parameter: wait_on_rate_limit\n",
      "Unexpected parameter: wait_on_rate_limit\n",
      "Unexpected parameter: wait_on_rate_limit\n",
      "Unexpected parameter: wait_on_rate_limit\n",
      "Unexpected parameter: wait_on_rate_limit\n",
      "Unexpected parameter: wait_on_rate_limit\n",
      "Unexpected parameter: wait_on_rate_limit\n",
      "Unexpected parameter: wait_on_rate_limit\n",
      "Unexpected parameter: wait_on_rate_limit\n",
      "Unexpected parameter: wait_on_rate_limit\n",
      "Unexpected parameter: wait_on_rate_limit\n",
      "Unexpected parameter: wait_on_rate_limit\n",
      "Unexpected parameter: wait_on_rate_limit\n",
      "Unexpected parameter: wait_on_rate_limit\n",
      "Unexpected parameter: wait_on_rate_limit\n",
      "Unexpected parameter: wait_on_rate_limit\n",
      "Unexpected parameter: wait_on_rate_limit\n",
      "Unexpected parameter: wait_on_rate_limit\n",
      "Unexpected parameter: wait_on_rate_limit\n",
      "Unexpected parameter: wait_on_rate_limit\n",
      "Unexpected parameter: wait_on_rate_limit\n",
      "Unexpected parameter: wait_on_rate_limit\n",
      "Unexpected parameter: wait_on_rate_limit\n",
      "Unexpected parameter: wait_on_rate_limit\n",
      "Unexpected parameter: wait_on_rate_limit\n",
      "Unexpected parameter: wait_on_rate_limit\n",
      "Unexpected parameter: wait_on_rate_limit\n",
      "Unexpected parameter: wait_on_rate_limit\n",
      "Unexpected parameter: wait_on_rate_limit\n",
      "Unexpected parameter: wait_on_rate_limit\n",
      "Unexpected parameter: wait_on_rate_limit\n",
      "Unexpected parameter: wait_on_rate_limit\n",
      "Unexpected parameter: wait_on_rate_limit\n",
      "Unexpected parameter: wait_on_rate_limit\n",
      "Unexpected parameter: wait_on_rate_limit\n",
      "Unexpected parameter: wait_on_rate_limit\n",
      "Unexpected parameter: wait_on_rate_limit\n",
      "Unexpected parameter: wait_on_rate_limit\n",
      "Unexpected parameter: wait_on_rate_limit\n",
      "Unexpected parameter: wait_on_rate_limit\n",
      "Unexpected parameter: wait_on_rate_limit\n",
      "Unexpected parameter: wait_on_rate_limit\n",
      "Unexpected parameter: wait_on_rate_limit\n",
      "Unexpected parameter: wait_on_rate_limit\n",
      "Unexpected parameter: wait_on_rate_limit\n",
      "Unexpected parameter: wait_on_rate_limit\n",
      "Unexpected parameter: wait_on_rate_limit\n",
      "Unexpected parameter: wait_on_rate_limit\n",
      "Unexpected parameter: wait_on_rate_limit\n",
      "Unexpected parameter: wait_on_rate_limit\n",
      "Unexpected parameter: wait_on_rate_limit\n",
      "Unexpected parameter: wait_on_rate_limit\n",
      "Unexpected parameter: wait_on_rate_limit\n",
      "Unexpected parameter: wait_on_rate_limit\n",
      "Unexpected parameter: wait_on_rate_limit\n",
      "Unexpected parameter: wait_on_rate_limit\n",
      "Unexpected parameter: wait_on_rate_limit\n",
      "Unexpected parameter: wait_on_rate_limit\n",
      "Unexpected parameter: wait_on_rate_limit\n",
      "Unexpected parameter: wait_on_rate_limit\n",
      "Unexpected parameter: wait_on_rate_limit\n",
      "Unexpected parameter: wait_on_rate_limit\n",
      "Unexpected parameter: wait_on_rate_limit\n",
      "Unexpected parameter: wait_on_rate_limit\n",
      "Unexpected parameter: wait_on_rate_limit\n",
      "Unexpected parameter: wait_on_rate_limit\n",
      "Unexpected parameter: wait_on_rate_limit\n",
      "Unexpected parameter: wait_on_rate_limit\n",
      "Unexpected parameter: wait_on_rate_limit\n",
      "Unexpected parameter: wait_on_rate_limit\n",
      "Unexpected parameter: wait_on_rate_limit\n",
      "Unexpected parameter: wait_on_rate_limit\n",
      "Unexpected parameter: wait_on_rate_limit\n",
      "Unexpected parameter: wait_on_rate_limit\n",
      "Unexpected parameter: wait_on_rate_limit\n",
      "Unexpected parameter: wait_on_rate_limit\n",
      "Unexpected parameter: wait_on_rate_limit\n",
      "Unexpected parameter: wait_on_rate_limit\n",
      "Unexpected parameter: wait_on_rate_limit\n",
      "Unexpected parameter: wait_on_rate_limit\n",
      "Unexpected parameter: wait_on_rate_limit\n",
      "Unexpected parameter: wait_on_rate_limit\n",
      "Unexpected parameter: wait_on_rate_limit\n",
      "Unexpected parameter: wait_on_rate_limit\n",
      "Unexpected parameter: wait_on_rate_limit\n",
      "Unexpected parameter: wait_on_rate_limit\n",
      "Unexpected parameter: wait_on_rate_limit\n",
      "Unexpected parameter: wait_on_rate_limit\n",
      "Unexpected parameter: wait_on_rate_limit\n",
      "Unexpected parameter: wait_on_rate_limit\n",
      "Unexpected parameter: wait_on_rate_limit\n",
      "Unexpected parameter: wait_on_rate_limit\n",
      "Unexpected parameter: wait_on_rate_limit\n",
      "Unexpected parameter: wait_on_rate_limit\n",
      "Unexpected parameter: wait_on_rate_limit\n",
      "Unexpected parameter: wait_on_rate_limit\n",
      "Unexpected parameter: wait_on_rate_limit\n",
      "Unexpected parameter: wait_on_rate_limit\n",
      "Unexpected parameter: wait_on_rate_limit\n",
      "Unexpected parameter: wait_on_rate_limit\n",
      "Unexpected parameter: wait_on_rate_limit\n",
      "Unexpected parameter: wait_on_rate_limit\n",
      "Unexpected parameter: wait_on_rate_limit\n",
      "Unexpected parameter: wait_on_rate_limit\n",
      "Unexpected parameter: wait_on_rate_limit\n",
      "Unexpected parameter: wait_on_rate_limit\n",
      "Unexpected parameter: wait_on_rate_limit\n",
      "Unexpected parameter: wait_on_rate_limit\n",
      "Unexpected parameter: wait_on_rate_limit\n",
      "Unexpected parameter: wait_on_rate_limit\n",
      "Unexpected parameter: wait_on_rate_limit\n",
      "Unexpected parameter: wait_on_rate_limit\n",
      "Unexpected parameter: wait_on_rate_limit\n",
      "Unexpected parameter: wait_on_rate_limit\n",
      "Unexpected parameter: wait_on_rate_limit\n",
      "Unexpected parameter: wait_on_rate_limit\n",
      "Unexpected parameter: wait_on_rate_limit\n",
      "Unexpected parameter: wait_on_rate_limit\n",
      "Unexpected parameter: wait_on_rate_limit\n",
      "Unexpected parameter: wait_on_rate_limit\n",
      "Unexpected parameter: wait_on_rate_limit\n",
      "Unexpected parameter: wait_on_rate_limit\n",
      "Unexpected parameter: wait_on_rate_limit\n",
      "Unexpected parameter: wait_on_rate_limit\n",
      "Unexpected parameter: wait_on_rate_limit\n",
      "Unexpected parameter: wait_on_rate_limit\n",
      "Unexpected parameter: wait_on_rate_limit\n",
      "Unexpected parameter: wait_on_rate_limit\n",
      "Unexpected parameter: wait_on_rate_limit\n",
      "Unexpected parameter: wait_on_rate_limit\n",
      "Unexpected parameter: wait_on_rate_limit\n",
      "Unexpected parameter: wait_on_rate_limit\n",
      "Unexpected parameter: wait_on_rate_limit\n",
      "Unexpected parameter: wait_on_rate_limit\n",
      "Unexpected parameter: wait_on_rate_limit\n",
      "Unexpected parameter: wait_on_rate_limit\n",
      "Unexpected parameter: wait_on_rate_limit\n",
      "Unexpected parameter: wait_on_rate_limit\n",
      "Unexpected parameter: wait_on_rate_limit\n",
      "Unexpected parameter: wait_on_rate_limit\n",
      "Unexpected parameter: wait_on_rate_limit\n",
      "Unexpected parameter: wait_on_rate_limit\n",
      "Unexpected parameter: wait_on_rate_limit\n",
      "Unexpected parameter: wait_on_rate_limit\n",
      "Unexpected parameter: wait_on_rate_limit\n"
     ]
    },
    {
     "name": "stderr",
     "output_type": "stream",
     "text": [
      "Unexpected parameter: wait_on_rate_limit\n",
      "Unexpected parameter: wait_on_rate_limit\n",
      "Unexpected parameter: wait_on_rate_limit\n",
      "Unexpected parameter: wait_on_rate_limit\n",
      "Unexpected parameter: wait_on_rate_limit\n",
      "Unexpected parameter: wait_on_rate_limit\n",
      "Unexpected parameter: wait_on_rate_limit\n",
      "Unexpected parameter: wait_on_rate_limit\n",
      "Unexpected parameter: wait_on_rate_limit\n",
      "Unexpected parameter: wait_on_rate_limit\n",
      "Unexpected parameter: wait_on_rate_limit\n",
      "Unexpected parameter: wait_on_rate_limit\n",
      "Unexpected parameter: wait_on_rate_limit\n",
      "Unexpected parameter: wait_on_rate_limit\n",
      "Unexpected parameter: wait_on_rate_limit\n",
      "Unexpected parameter: wait_on_rate_limit\n",
      "Unexpected parameter: wait_on_rate_limit\n",
      "Unexpected parameter: wait_on_rate_limit\n",
      "Unexpected parameter: wait_on_rate_limit\n",
      "Unexpected parameter: wait_on_rate_limit\n",
      "Unexpected parameter: wait_on_rate_limit\n",
      "Unexpected parameter: wait_on_rate_limit\n",
      "Unexpected parameter: wait_on_rate_limit\n",
      "Unexpected parameter: wait_on_rate_limit\n",
      "Unexpected parameter: wait_on_rate_limit\n",
      "Unexpected parameter: wait_on_rate_limit\n",
      "Unexpected parameter: wait_on_rate_limit\n",
      "Unexpected parameter: wait_on_rate_limit\n",
      "Unexpected parameter: wait_on_rate_limit\n",
      "Unexpected parameter: wait_on_rate_limit\n",
      "Unexpected parameter: wait_on_rate_limit\n",
      "Unexpected parameter: wait_on_rate_limit\n",
      "Unexpected parameter: wait_on_rate_limit\n",
      "Unexpected parameter: wait_on_rate_limit\n",
      "Unexpected parameter: wait_on_rate_limit\n",
      "Unexpected parameter: wait_on_rate_limit\n",
      "Unexpected parameter: wait_on_rate_limit\n",
      "Unexpected parameter: wait_on_rate_limit\n",
      "Unexpected parameter: wait_on_rate_limit\n",
      "Unexpected parameter: wait_on_rate_limit\n",
      "Unexpected parameter: wait_on_rate_limit\n",
      "Unexpected parameter: wait_on_rate_limit\n",
      "Unexpected parameter: wait_on_rate_limit\n",
      "Unexpected parameter: wait_on_rate_limit\n",
      "Unexpected parameter: wait_on_rate_limit\n",
      "Unexpected parameter: wait_on_rate_limit\n",
      "Unexpected parameter: wait_on_rate_limit\n",
      "Unexpected parameter: wait_on_rate_limit\n",
      "Unexpected parameter: wait_on_rate_limit\n",
      "Unexpected parameter: wait_on_rate_limit\n",
      "Unexpected parameter: wait_on_rate_limit\n",
      "Unexpected parameter: wait_on_rate_limit\n",
      "Unexpected parameter: wait_on_rate_limit\n",
      "Unexpected parameter: wait_on_rate_limit\n",
      "Unexpected parameter: wait_on_rate_limit\n",
      "Unexpected parameter: wait_on_rate_limit\n",
      "Unexpected parameter: wait_on_rate_limit\n",
      "Unexpected parameter: wait_on_rate_limit\n",
      "Unexpected parameter: wait_on_rate_limit\n",
      "Unexpected parameter: wait_on_rate_limit\n",
      "Unexpected parameter: wait_on_rate_limit\n",
      "Unexpected parameter: wait_on_rate_limit\n",
      "Unexpected parameter: wait_on_rate_limit\n",
      "Unexpected parameter: wait_on_rate_limit\n",
      "Unexpected parameter: wait_on_rate_limit\n",
      "Unexpected parameter: wait_on_rate_limit\n",
      "Unexpected parameter: wait_on_rate_limit\n",
      "Unexpected parameter: wait_on_rate_limit\n",
      "Unexpected parameter: wait_on_rate_limit\n",
      "Unexpected parameter: wait_on_rate_limit\n",
      "Unexpected parameter: wait_on_rate_limit\n",
      "Unexpected parameter: wait_on_rate_limit\n",
      "Unexpected parameter: wait_on_rate_limit\n",
      "Unexpected parameter: wait_on_rate_limit\n",
      "Unexpected parameter: wait_on_rate_limit\n",
      "Unexpected parameter: wait_on_rate_limit\n",
      "Unexpected parameter: wait_on_rate_limit\n",
      "Unexpected parameter: wait_on_rate_limit\n",
      "Unexpected parameter: wait_on_rate_limit\n",
      "Unexpected parameter: wait_on_rate_limit\n",
      "Unexpected parameter: wait_on_rate_limit\n",
      "Unexpected parameter: wait_on_rate_limit\n",
      "Unexpected parameter: wait_on_rate_limit\n",
      "Unexpected parameter: wait_on_rate_limit\n",
      "Unexpected parameter: wait_on_rate_limit\n",
      "Unexpected parameter: wait_on_rate_limit\n",
      "Unexpected parameter: wait_on_rate_limit\n",
      "Unexpected parameter: wait_on_rate_limit\n",
      "Unexpected parameter: wait_on_rate_limit\n",
      "Unexpected parameter: wait_on_rate_limit\n",
      "Unexpected parameter: wait_on_rate_limit\n",
      "Unexpected parameter: wait_on_rate_limit\n",
      "Unexpected parameter: wait_on_rate_limit\n",
      "Unexpected parameter: wait_on_rate_limit\n",
      "Unexpected parameter: wait_on_rate_limit\n",
      "Unexpected parameter: wait_on_rate_limit\n",
      "Unexpected parameter: wait_on_rate_limit\n",
      "Unexpected parameter: wait_on_rate_limit\n",
      "Unexpected parameter: wait_on_rate_limit\n",
      "Unexpected parameter: wait_on_rate_limit\n",
      "Unexpected parameter: wait_on_rate_limit\n",
      "Unexpected parameter: wait_on_rate_limit\n",
      "Unexpected parameter: wait_on_rate_limit\n"
     ]
    },
    {
     "name": "stdout",
     "output_type": "stream",
     "text": [
      "680055455951884288\n"
     ]
    },
    {
     "name": "stderr",
     "output_type": "stream",
     "text": [
      "Unexpected parameter: wait_on_rate_limit\n",
      "Unexpected parameter: wait_on_rate_limit\n",
      "Unexpected parameter: wait_on_rate_limit\n",
      "Unexpected parameter: wait_on_rate_limit\n",
      "Unexpected parameter: wait_on_rate_limit\n",
      "Unexpected parameter: wait_on_rate_limit\n",
      "Unexpected parameter: wait_on_rate_limit\n"
     ]
    },
    {
     "name": "stdout",
     "output_type": "stream",
     "text": [
      "679777920601223168\n"
     ]
    },
    {
     "name": "stderr",
     "output_type": "stream",
     "text": [
      "Unexpected parameter: wait_on_rate_limit\n"
     ]
    },
    {
     "name": "stdout",
     "output_type": "stream",
     "text": [
      "679736210798047232\n"
     ]
    },
    {
     "name": "stderr",
     "output_type": "stream",
     "text": [
      "Unexpected parameter: wait_on_rate_limit\n",
      "Unexpected parameter: wait_on_rate_limit\n"
     ]
    },
    {
     "name": "stdout",
     "output_type": "stream",
     "text": [
      "679722016581222400\n"
     ]
    },
    {
     "name": "stderr",
     "output_type": "stream",
     "text": [
      "Unexpected parameter: wait_on_rate_limit\n"
     ]
    },
    {
     "name": "stdout",
     "output_type": "stream",
     "text": [
      "679530280114372609\n"
     ]
    },
    {
     "name": "stderr",
     "output_type": "stream",
     "text": [
      "Unexpected parameter: wait_on_rate_limit\n",
      "Unexpected parameter: wait_on_rate_limit\n",
      "Unexpected parameter: wait_on_rate_limit\n",
      "Unexpected parameter: wait_on_rate_limit\n",
      "Unexpected parameter: wait_on_rate_limit\n",
      "Unexpected parameter: wait_on_rate_limit\n",
      "Unexpected parameter: wait_on_rate_limit\n",
      "Unexpected parameter: wait_on_rate_limit\n",
      "Unexpected parameter: wait_on_rate_limit\n",
      "Unexpected parameter: wait_on_rate_limit\n",
      "Unexpected parameter: wait_on_rate_limit\n",
      "Unexpected parameter: wait_on_rate_limit\n",
      "Unexpected parameter: wait_on_rate_limit\n",
      "Unexpected parameter: wait_on_rate_limit\n",
      "Unexpected parameter: wait_on_rate_limit\n",
      "Unexpected parameter: wait_on_rate_limit\n",
      "Unexpected parameter: wait_on_rate_limit\n",
      "Unexpected parameter: wait_on_rate_limit\n",
      "Unexpected parameter: wait_on_rate_limit\n",
      "Unexpected parameter: wait_on_rate_limit\n",
      "Unexpected parameter: wait_on_rate_limit\n",
      "Unexpected parameter: wait_on_rate_limit\n",
      "Unexpected parameter: wait_on_rate_limit\n",
      "Unexpected parameter: wait_on_rate_limit\n",
      "Unexpected parameter: wait_on_rate_limit\n",
      "Unexpected parameter: wait_on_rate_limit\n",
      "Unexpected parameter: wait_on_rate_limit\n",
      "Unexpected parameter: wait_on_rate_limit\n",
      "Unexpected parameter: wait_on_rate_limit\n",
      "Unexpected parameter: wait_on_rate_limit\n",
      "Unexpected parameter: wait_on_rate_limit\n",
      "Unexpected parameter: wait_on_rate_limit\n",
      "Unexpected parameter: wait_on_rate_limit\n",
      "Unexpected parameter: wait_on_rate_limit\n",
      "Unexpected parameter: wait_on_rate_limit\n",
      "Unexpected parameter: wait_on_rate_limit\n",
      "Unexpected parameter: wait_on_rate_limit\n",
      "Unexpected parameter: wait_on_rate_limit\n",
      "Unexpected parameter: wait_on_rate_limit\n",
      "Unexpected parameter: wait_on_rate_limit\n",
      "Unexpected parameter: wait_on_rate_limit\n",
      "Unexpected parameter: wait_on_rate_limit\n",
      "Unexpected parameter: wait_on_rate_limit\n",
      "Unexpected parameter: wait_on_rate_limit\n",
      "Unexpected parameter: wait_on_rate_limit\n",
      "Unexpected parameter: wait_on_rate_limit\n",
      "Unexpected parameter: wait_on_rate_limit\n",
      "Unexpected parameter: wait_on_rate_limit\n",
      "Unexpected parameter: wait_on_rate_limit\n",
      "Unexpected parameter: wait_on_rate_limit\n",
      "Unexpected parameter: wait_on_rate_limit\n",
      "Unexpected parameter: wait_on_rate_limit\n",
      "Unexpected parameter: wait_on_rate_limit\n",
      "Unexpected parameter: wait_on_rate_limit\n",
      "Unexpected parameter: wait_on_rate_limit\n",
      "Unexpected parameter: wait_on_rate_limit\n",
      "Unexpected parameter: wait_on_rate_limit\n",
      "Unexpected parameter: wait_on_rate_limit\n",
      "Unexpected parameter: wait_on_rate_limit\n",
      "Unexpected parameter: wait_on_rate_limit\n",
      "Unexpected parameter: wait_on_rate_limit\n",
      "Unexpected parameter: wait_on_rate_limit\n",
      "Unexpected parameter: wait_on_rate_limit\n",
      "Unexpected parameter: wait_on_rate_limit\n",
      "Unexpected parameter: wait_on_rate_limit\n",
      "Unexpected parameter: wait_on_rate_limit\n",
      "Unexpected parameter: wait_on_rate_limit\n",
      "Unexpected parameter: wait_on_rate_limit\n",
      "Unexpected parameter: wait_on_rate_limit\n",
      "Unexpected parameter: wait_on_rate_limit\n",
      "Unexpected parameter: wait_on_rate_limit\n",
      "Unexpected parameter: wait_on_rate_limit\n",
      "Unexpected parameter: wait_on_rate_limit\n",
      "Unexpected parameter: wait_on_rate_limit\n",
      "Unexpected parameter: wait_on_rate_limit\n",
      "Unexpected parameter: wait_on_rate_limit\n",
      "Unexpected parameter: wait_on_rate_limit\n",
      "Unexpected parameter: wait_on_rate_limit\n",
      "Unexpected parameter: wait_on_rate_limit\n",
      "Unexpected parameter: wait_on_rate_limit\n",
      "Unexpected parameter: wait_on_rate_limit\n",
      "Unexpected parameter: wait_on_rate_limit\n",
      "Unexpected parameter: wait_on_rate_limit\n",
      "Unexpected parameter: wait_on_rate_limit\n"
     ]
    },
    {
     "name": "stdout",
     "output_type": "stream",
     "text": [
      "676582956622721024\n"
     ]
    },
    {
     "name": "stderr",
     "output_type": "stream",
     "text": [
      "Unexpected parameter: wait_on_rate_limit\n"
     ]
    },
    {
     "name": "stdout",
     "output_type": "stream",
     "text": [
      "676575501977128964\n"
     ]
    },
    {
     "name": "stderr",
     "output_type": "stream",
     "text": [
      "Unexpected parameter: wait_on_rate_limit\n",
      "Unexpected parameter: wait_on_rate_limit\n",
      "Unexpected parameter: wait_on_rate_limit\n",
      "Unexpected parameter: wait_on_rate_limit\n",
      "Unexpected parameter: wait_on_rate_limit\n",
      "Unexpected parameter: wait_on_rate_limit\n",
      "Unexpected parameter: wait_on_rate_limit\n",
      "Unexpected parameter: wait_on_rate_limit\n",
      "Unexpected parameter: wait_on_rate_limit\n",
      "Unexpected parameter: wait_on_rate_limit\n",
      "Unexpected parameter: wait_on_rate_limit\n",
      "Unexpected parameter: wait_on_rate_limit\n",
      "Unexpected parameter: wait_on_rate_limit\n",
      "Unexpected parameter: wait_on_rate_limit\n",
      "Unexpected parameter: wait_on_rate_limit\n",
      "Unexpected parameter: wait_on_rate_limit\n",
      "Unexpected parameter: wait_on_rate_limit\n",
      "Unexpected parameter: wait_on_rate_limit\n",
      "Unexpected parameter: wait_on_rate_limit\n",
      "Unexpected parameter: wait_on_rate_limit\n",
      "Unexpected parameter: wait_on_rate_limit\n",
      "Unexpected parameter: wait_on_rate_limit\n",
      "Unexpected parameter: wait_on_rate_limit\n",
      "Unexpected parameter: wait_on_rate_limit\n",
      "Unexpected parameter: wait_on_rate_limit\n",
      "Unexpected parameter: wait_on_rate_limit\n",
      "Unexpected parameter: wait_on_rate_limit\n",
      "Unexpected parameter: wait_on_rate_limit\n",
      "Unexpected parameter: wait_on_rate_limit\n",
      "Unexpected parameter: wait_on_rate_limit\n",
      "Unexpected parameter: wait_on_rate_limit\n",
      "Unexpected parameter: wait_on_rate_limit\n",
      "Unexpected parameter: wait_on_rate_limit\n",
      "Unexpected parameter: wait_on_rate_limit\n",
      "Unexpected parameter: wait_on_rate_limit\n",
      "Unexpected parameter: wait_on_rate_limit\n",
      "Unexpected parameter: wait_on_rate_limit\n",
      "Unexpected parameter: wait_on_rate_limit\n",
      "Unexpected parameter: wait_on_rate_limit\n",
      "Unexpected parameter: wait_on_rate_limit\n",
      "Unexpected parameter: wait_on_rate_limit\n",
      "Unexpected parameter: wait_on_rate_limit\n",
      "Unexpected parameter: wait_on_rate_limit\n",
      "Unexpected parameter: wait_on_rate_limit\n",
      "Unexpected parameter: wait_on_rate_limit\n",
      "Unexpected parameter: wait_on_rate_limit\n",
      "Unexpected parameter: wait_on_rate_limit\n",
      "Unexpected parameter: wait_on_rate_limit\n",
      "Unexpected parameter: wait_on_rate_limit\n",
      "Unexpected parameter: wait_on_rate_limit\n",
      "Unexpected parameter: wait_on_rate_limit\n",
      "Unexpected parameter: wait_on_rate_limit\n",
      "Unexpected parameter: wait_on_rate_limit\n",
      "Unexpected parameter: wait_on_rate_limit\n",
      "Unexpected parameter: wait_on_rate_limit\n",
      "Unexpected parameter: wait_on_rate_limit\n",
      "Unexpected parameter: wait_on_rate_limit\n",
      "Unexpected parameter: wait_on_rate_limit\n",
      "Unexpected parameter: wait_on_rate_limit\n",
      "Unexpected parameter: wait_on_rate_limit\n",
      "Unexpected parameter: wait_on_rate_limit\n",
      "Unexpected parameter: wait_on_rate_limit\n",
      "Unexpected parameter: wait_on_rate_limit\n",
      "Unexpected parameter: wait_on_rate_limit\n",
      "Unexpected parameter: wait_on_rate_limit\n",
      "Unexpected parameter: wait_on_rate_limit\n",
      "Unexpected parameter: wait_on_rate_limit\n",
      "Unexpected parameter: wait_on_rate_limit\n",
      "Unexpected parameter: wait_on_rate_limit\n",
      "Unexpected parameter: wait_on_rate_limit\n",
      "Unexpected parameter: wait_on_rate_limit\n",
      "Unexpected parameter: wait_on_rate_limit\n",
      "Unexpected parameter: wait_on_rate_limit\n",
      "Unexpected parameter: wait_on_rate_limit\n",
      "Unexpected parameter: wait_on_rate_limit\n",
      "Unexpected parameter: wait_on_rate_limit\n",
      "Unexpected parameter: wait_on_rate_limit\n",
      "Unexpected parameter: wait_on_rate_limit\n",
      "Unexpected parameter: wait_on_rate_limit\n",
      "Unexpected parameter: wait_on_rate_limit\n",
      "Unexpected parameter: wait_on_rate_limit\n",
      "Unexpected parameter: wait_on_rate_limit\n",
      "Unexpected parameter: wait_on_rate_limit\n",
      "Unexpected parameter: wait_on_rate_limit\n",
      "Unexpected parameter: wait_on_rate_limit\n",
      "Unexpected parameter: wait_on_rate_limit\n",
      "Unexpected parameter: wait_on_rate_limit\n",
      "Unexpected parameter: wait_on_rate_limit\n",
      "Unexpected parameter: wait_on_rate_limit\n",
      "Unexpected parameter: wait_on_rate_limit\n",
      "Unexpected parameter: wait_on_rate_limit\n",
      "Unexpected parameter: wait_on_rate_limit\n",
      "Unexpected parameter: wait_on_rate_limit\n",
      "Unexpected parameter: wait_on_rate_limit\n",
      "Unexpected parameter: wait_on_rate_limit\n",
      "Unexpected parameter: wait_on_rate_limit\n",
      "Unexpected parameter: wait_on_rate_limit\n",
      "Unexpected parameter: wait_on_rate_limit\n",
      "Unexpected parameter: wait_on_rate_limit\n",
      "Unexpected parameter: wait_on_rate_limit\n",
      "Unexpected parameter: wait_on_rate_limit\n",
      "Unexpected parameter: wait_on_rate_limit\n",
      "Unexpected parameter: wait_on_rate_limit\n",
      "Unexpected parameter: wait_on_rate_limit\n",
      "Unexpected parameter: wait_on_rate_limit\n",
      "Unexpected parameter: wait_on_rate_limit\n",
      "Unexpected parameter: wait_on_rate_limit\n",
      "Unexpected parameter: wait_on_rate_limit\n",
      "Unexpected parameter: wait_on_rate_limit\n",
      "Unexpected parameter: wait_on_rate_limit\n",
      "Unexpected parameter: wait_on_rate_limit\n",
      "Unexpected parameter: wait_on_rate_limit\n",
      "Unexpected parameter: wait_on_rate_limit\n",
      "Unexpected parameter: wait_on_rate_limit\n",
      "Unexpected parameter: wait_on_rate_limit\n",
      "Unexpected parameter: wait_on_rate_limit\n",
      "Unexpected parameter: wait_on_rate_limit\n",
      "Unexpected parameter: wait_on_rate_limit\n",
      "Unexpected parameter: wait_on_rate_limit\n",
      "Unexpected parameter: wait_on_rate_limit\n",
      "Unexpected parameter: wait_on_rate_limit\n",
      "Unexpected parameter: wait_on_rate_limit\n",
      "Unexpected parameter: wait_on_rate_limit\n",
      "Unexpected parameter: wait_on_rate_limit\n",
      "Unexpected parameter: wait_on_rate_limit\n",
      "Unexpected parameter: wait_on_rate_limit\n",
      "Unexpected parameter: wait_on_rate_limit\n",
      "Unexpected parameter: wait_on_rate_limit\n",
      "Unexpected parameter: wait_on_rate_limit\n",
      "Unexpected parameter: wait_on_rate_limit\n",
      "Unexpected parameter: wait_on_rate_limit\n",
      "Unexpected parameter: wait_on_rate_limit\n",
      "Unexpected parameter: wait_on_rate_limit\n",
      "Unexpected parameter: wait_on_rate_limit\n",
      "Unexpected parameter: wait_on_rate_limit\n",
      "Unexpected parameter: wait_on_rate_limit\n",
      "Unexpected parameter: wait_on_rate_limit\n",
      "Unexpected parameter: wait_on_rate_limit\n",
      "Unexpected parameter: wait_on_rate_limit\n",
      "Unexpected parameter: wait_on_rate_limit\n",
      "Unexpected parameter: wait_on_rate_limit\n",
      "Unexpected parameter: wait_on_rate_limit\n",
      "Unexpected parameter: wait_on_rate_limit\n",
      "Unexpected parameter: wait_on_rate_limit\n",
      "Unexpected parameter: wait_on_rate_limit\n",
      "Unexpected parameter: wait_on_rate_limit\n",
      "Unexpected parameter: wait_on_rate_limit\n",
      "Unexpected parameter: wait_on_rate_limit\n",
      "Unexpected parameter: wait_on_rate_limit\n",
      "Unexpected parameter: wait_on_rate_limit\n",
      "Unexpected parameter: wait_on_rate_limit\n",
      "Unexpected parameter: wait_on_rate_limit\n",
      "Unexpected parameter: wait_on_rate_limit\n",
      "Unexpected parameter: wait_on_rate_limit\n",
      "Unexpected parameter: wait_on_rate_limit\n",
      "Unexpected parameter: wait_on_rate_limit\n",
      "Unexpected parameter: wait_on_rate_limit\n",
      "Unexpected parameter: wait_on_rate_limit\n",
      "Unexpected parameter: wait_on_rate_limit\n",
      "Unexpected parameter: wait_on_rate_limit\n",
      "Unexpected parameter: wait_on_rate_limit\n",
      "Unexpected parameter: wait_on_rate_limit\n",
      "Unexpected parameter: wait_on_rate_limit\n",
      "Unexpected parameter: wait_on_rate_limit\n",
      "Unexpected parameter: wait_on_rate_limit\n",
      "Unexpected parameter: wait_on_rate_limit\n",
      "Unexpected parameter: wait_on_rate_limit\n",
      "Unexpected parameter: wait_on_rate_limit\n",
      "Unexpected parameter: wait_on_rate_limit\n"
     ]
    },
    {
     "name": "stdout",
     "output_type": "stream",
     "text": [
      "672622327801233409\n"
     ]
    },
    {
     "name": "stderr",
     "output_type": "stream",
     "text": [
      "Unexpected parameter: wait_on_rate_limit\n",
      "Unexpected parameter: wait_on_rate_limit\n",
      "Unexpected parameter: wait_on_rate_limit\n",
      "Unexpected parameter: wait_on_rate_limit\n",
      "Unexpected parameter: wait_on_rate_limit\n",
      "Unexpected parameter: wait_on_rate_limit\n",
      "Unexpected parameter: wait_on_rate_limit\n",
      "Unexpected parameter: wait_on_rate_limit\n",
      "Unexpected parameter: wait_on_rate_limit\n",
      "Unexpected parameter: wait_on_rate_limit\n"
     ]
    }
   ],
   "source": [
    "# Twitter querying using the tweet_id from twitter_archived.df\n",
    "\n",
    "# this starts the timer\n",
    "start_time = time.time()\n",
    "\n",
    "tweet_ids = twitter_archive.tweet_id.values\n",
    "\n",
    "tweets_data = []\n",
    "tweets_errors = []\n",
    "\n",
    "for tweet_id in tweet_ids:\n",
    "        try:\n",
    "            results = api.get_status(tweet_id, tweet_mode='extended', \n",
    "                                  wait_on_rate_limit= True)\n",
    "            tweet_info = results._json\n",
    "            tweets_data.append(tweet_info)\n",
    "        except:\n",
    "            tweets_errors.append(tweet_id)\n",
    "            print(tweet_id)\n",
    "\n",
    "# this stops the timer            \n",
    "end_time = time.time()\n",
    "\n",
    "print(end_time - start_time)"
   ]
  },
  {
   "cell_type": "code",
   "execution_count": 10,
   "id": "905a3eaf",
   "metadata": {},
   "outputs": [],
   "source": [
    "# Create 'tweet_json.txt' file.\n",
    "\n",
    "file_name = 'tweet_json.txt'\n",
    "if not os.path.isfile(file_name):\n",
    "    open(file_name, 'w').close()\n",
    "\n",
    "# Write to 'tweet_json.txt' file\n",
    "\n",
    "with open(file_name, 'w', encoding='utf-8') as file:\n",
    "                json.dump(tweets_data, file, ensure_ascii=False, indent=4)"
   ]
  },
  {
   "cell_type": "code",
   "execution_count": 11,
   "id": "425a70f9",
   "metadata": {},
   "outputs": [],
   "source": [
    "# Extract the Twitter API data from file to a list\n",
    "\n",
    "tweet_list = []\n",
    "\n",
    "with open(file_name, encoding='utf-8') as file:\n",
    "    tweets = json.load(file)\n",
    "    for tweet in tweets:\n",
    "        tweet_list.append({'tweet_id': tweet['id'],\n",
    "                        'retweet_count': tweet['retweet_count'], \n",
    "                        'favorite_count': tweet['favorite_count']})\n",
    "\n",
    "# tweet_list       \n"
   ]
  },
  {
   "cell_type": "code",
   "execution_count": 12,
   "id": "f0170f9e",
   "metadata": {},
   "outputs": [],
   "source": [
    "# Create a dataframe from tweet_list\n",
    "\n",
    "tweets_df = pd.DataFrame(tweet_list,\n",
    "                         columns = ['tweet_id', \n",
    "                                    'retweet_count', \n",
    "                                    'favorite_count'])\n",
    "\n",
    "\n",
    "\n"
   ]
  },
  {
   "cell_type": "code",
   "execution_count": 13,
   "id": "9d3f8914",
   "metadata": {},
   "outputs": [
    {
     "name": "stdout",
     "output_type": "stream",
     "text": [
      "(2283, 3)\n"
     ]
    },
    {
     "data": {
      "text/html": [
       "<div>\n",
       "<style scoped>\n",
       "    .dataframe tbody tr th:only-of-type {\n",
       "        vertical-align: middle;\n",
       "    }\n",
       "\n",
       "    .dataframe tbody tr th {\n",
       "        vertical-align: top;\n",
       "    }\n",
       "\n",
       "    .dataframe thead th {\n",
       "        text-align: right;\n",
       "    }\n",
       "</style>\n",
       "<table border=\"1\" class=\"dataframe\">\n",
       "  <thead>\n",
       "    <tr style=\"text-align: right;\">\n",
       "      <th></th>\n",
       "      <th>tweet_id</th>\n",
       "      <th>retweet_count</th>\n",
       "      <th>favorite_count</th>\n",
       "    </tr>\n",
       "  </thead>\n",
       "  <tbody>\n",
       "    <tr>\n",
       "      <th>0</th>\n",
       "      <td>892420643555336193</td>\n",
       "      <td>7009</td>\n",
       "      <td>33810</td>\n",
       "    </tr>\n",
       "    <tr>\n",
       "      <th>1</th>\n",
       "      <td>892177421306343426</td>\n",
       "      <td>5301</td>\n",
       "      <td>29331</td>\n",
       "    </tr>\n",
       "    <tr>\n",
       "      <th>2</th>\n",
       "      <td>891815181378084864</td>\n",
       "      <td>3481</td>\n",
       "      <td>22052</td>\n",
       "    </tr>\n",
       "    <tr>\n",
       "      <th>3</th>\n",
       "      <td>891689557279858688</td>\n",
       "      <td>7225</td>\n",
       "      <td>36937</td>\n",
       "    </tr>\n",
       "    <tr>\n",
       "      <th>4</th>\n",
       "      <td>891327558926688256</td>\n",
       "      <td>7760</td>\n",
       "      <td>35311</td>\n",
       "    </tr>\n",
       "  </tbody>\n",
       "</table>\n",
       "</div>"
      ],
      "text/plain": [
       "             tweet_id  retweet_count  favorite_count\n",
       "0  892420643555336193           7009           33810\n",
       "1  892177421306343426           5301           29331\n",
       "2  891815181378084864           3481           22052\n",
       "3  891689557279858688           7225           36937\n",
       "4  891327558926688256           7760           35311"
      ]
     },
     "execution_count": 13,
     "metadata": {},
     "output_type": "execute_result"
    }
   ],
   "source": [
    "# check the first 5 entries\n",
    "\n",
    "print(tweets_df.shape)\n",
    "tweets_df.head()\n"
   ]
  },
  {
   "cell_type": "code",
   "execution_count": 14,
   "id": "f6d6641f",
   "metadata": {},
   "outputs": [
    {
     "data": {
      "text/html": [
       "<div>\n",
       "<style scoped>\n",
       "    .dataframe tbody tr th:only-of-type {\n",
       "        vertical-align: middle;\n",
       "    }\n",
       "\n",
       "    .dataframe tbody tr th {\n",
       "        vertical-align: top;\n",
       "    }\n",
       "\n",
       "    .dataframe thead th {\n",
       "        text-align: right;\n",
       "    }\n",
       "</style>\n",
       "<table border=\"1\" class=\"dataframe\">\n",
       "  <thead>\n",
       "    <tr style=\"text-align: right;\">\n",
       "      <th></th>\n",
       "      <th>tweet_id</th>\n",
       "      <th>retweet_count</th>\n",
       "      <th>favorite_count</th>\n",
       "    </tr>\n",
       "  </thead>\n",
       "  <tbody>\n",
       "    <tr>\n",
       "      <th>2278</th>\n",
       "      <td>666049248165822465</td>\n",
       "      <td>37</td>\n",
       "      <td>89</td>\n",
       "    </tr>\n",
       "    <tr>\n",
       "      <th>2279</th>\n",
       "      <td>666044226329800704</td>\n",
       "      <td>115</td>\n",
       "      <td>247</td>\n",
       "    </tr>\n",
       "    <tr>\n",
       "      <th>2280</th>\n",
       "      <td>666033412701032449</td>\n",
       "      <td>36</td>\n",
       "      <td>100</td>\n",
       "    </tr>\n",
       "    <tr>\n",
       "      <th>2281</th>\n",
       "      <td>666029285002620928</td>\n",
       "      <td>39</td>\n",
       "      <td>112</td>\n",
       "    </tr>\n",
       "    <tr>\n",
       "      <th>2282</th>\n",
       "      <td>666020888022790149</td>\n",
       "      <td>423</td>\n",
       "      <td>2293</td>\n",
       "    </tr>\n",
       "  </tbody>\n",
       "</table>\n",
       "</div>"
      ],
      "text/plain": [
       "                tweet_id  retweet_count  favorite_count\n",
       "2278  666049248165822465             37              89\n",
       "2279  666044226329800704            115             247\n",
       "2280  666033412701032449             36             100\n",
       "2281  666029285002620928             39             112\n",
       "2282  666020888022790149            423            2293"
      ]
     },
     "execution_count": 14,
     "metadata": {},
     "output_type": "execute_result"
    }
   ],
   "source": [
    "# Check the last 5 entries\n",
    "tweets_df.tail()"
   ]
  },
  {
   "cell_type": "markdown",
   "id": "8443acce",
   "metadata": {},
   "source": [
    "### Reference: \n",
    "\n",
    "- https://stackoverflow.com/questions/12309269/how-do-i-write-json-data-to-a-file\n",
    "- https://stackoverflow.com/questions/71590362/json-unicodedecodeerror-charmap-codec-cant-decode-byte-0x8d-in-position-3621"
   ]
  },
  {
   "cell_type": "markdown",
   "id": "ada7506c",
   "metadata": {},
   "source": [
    "### Assessing Data"
   ]
  },
  {
   "cell_type": "code",
   "execution_count": 15,
   "id": "8996b46b",
   "metadata": {},
   "outputs": [
    {
     "data": {
      "text/plain": [
       "tweet_id                         0\n",
       "in_reply_to_status_id         2278\n",
       "in_reply_to_user_id           2278\n",
       "timestamp                        0\n",
       "source                           0\n",
       "text                             0\n",
       "retweeted_status_id           2175\n",
       "retweeted_status_user_id      2175\n",
       "retweeted_status_timestamp    2175\n",
       "expanded_urls                   59\n",
       "rating_numerator                 0\n",
       "rating_denominator               0\n",
       "name                             0\n",
       "doggo                            0\n",
       "floofer                          0\n",
       "pupper                           0\n",
       "puppo                            0\n",
       "dtype: int64"
      ]
     },
     "execution_count": 15,
     "metadata": {},
     "output_type": "execute_result"
    }
   ],
   "source": [
    "# twitter_archive\n",
    "\n",
    "# Check for NaN Values\n",
    "\n",
    "twitter_archive.isna().sum()"
   ]
  },
  {
   "cell_type": "markdown",
   "id": "78b9eb87",
   "metadata": {},
   "source": [
    "### Insight:\n",
    "\n",
    "- There are many NaN values in the twitter_achive data "
   ]
  },
  {
   "cell_type": "code",
   "execution_count": 16,
   "id": "0c006b4f",
   "metadata": {},
   "outputs": [
    {
     "data": {
      "text/plain": [
       "None          745\n",
       "a              55\n",
       "Charlie        12\n",
       "Cooper         11\n",
       "Lucy           11\n",
       "             ... \n",
       "Dex             1\n",
       "Ace             1\n",
       "Tayzie          1\n",
       "Grizzie         1\n",
       "Christoper      1\n",
       "Name: name, Length: 957, dtype: int64"
      ]
     },
     "execution_count": 16,
     "metadata": {},
     "output_type": "execute_result"
    }
   ],
   "source": [
    "# Check for dog names\n",
    "\n",
    "twitter_archive['name'].value_counts()"
   ]
  },
  {
   "cell_type": "markdown",
   "id": "5dd3349c",
   "metadata": {},
   "source": [
    "### Insight:\n",
    "- There are no duplicate values in twitter_archive."
   ]
  },
  {
   "cell_type": "code",
   "execution_count": 17,
   "id": "25959094",
   "metadata": {
    "scrolled": true
   },
   "outputs": [
    {
     "name": "stdout",
     "output_type": "stream",
     "text": [
      "<class 'pandas.core.frame.DataFrame'>\n",
      "RangeIndex: 2356 entries, 0 to 2355\n",
      "Data columns (total 17 columns):\n",
      " #   Column                      Non-Null Count  Dtype  \n",
      "---  ------                      --------------  -----  \n",
      " 0   tweet_id                    2356 non-null   int64  \n",
      " 1   in_reply_to_status_id       78 non-null     float64\n",
      " 2   in_reply_to_user_id         78 non-null     float64\n",
      " 3   timestamp                   2356 non-null   object \n",
      " 4   source                      2356 non-null   object \n",
      " 5   text                        2356 non-null   object \n",
      " 6   retweeted_status_id         181 non-null    float64\n",
      " 7   retweeted_status_user_id    181 non-null    float64\n",
      " 8   retweeted_status_timestamp  181 non-null    object \n",
      " 9   expanded_urls               2297 non-null   object \n",
      " 10  rating_numerator            2356 non-null   int64  \n",
      " 11  rating_denominator          2356 non-null   int64  \n",
      " 12  name                        2356 non-null   object \n",
      " 13  doggo                       2356 non-null   object \n",
      " 14  floofer                     2356 non-null   object \n",
      " 15  pupper                      2356 non-null   object \n",
      " 16  puppo                       2356 non-null   object \n",
      "dtypes: float64(4), int64(3), object(10)\n",
      "memory usage: 313.0+ KB\n"
     ]
    }
   ],
   "source": [
    "# A quick summary about the dataframe\n",
    "\n",
    "twitter_archive.info()"
   ]
  },
  {
   "cell_type": "code",
   "execution_count": 18,
   "id": "ae15ac0e",
   "metadata": {},
   "outputs": [
    {
     "data": {
      "text/plain": [
       "tweet_id    0\n",
       "jpg_url     0\n",
       "img_num     0\n",
       "p1          0\n",
       "p1_conf     0\n",
       "p1_dog      0\n",
       "p2          0\n",
       "p2_conf     0\n",
       "p2_dog      0\n",
       "p3          0\n",
       "p3_conf     0\n",
       "p3_dog      0\n",
       "dtype: int64"
      ]
     },
     "execution_count": 18,
     "metadata": {},
     "output_type": "execute_result"
    }
   ],
   "source": [
    "# images_predictions\n",
    "\n",
    "# Check for NaN Values\n",
    "\n",
    "image_predictions.isna().sum()"
   ]
  },
  {
   "cell_type": "markdown",
   "id": "c3e4345f",
   "metadata": {},
   "source": [
    "### Insight\n",
    "*There are no null values in image_predictions*"
   ]
  },
  {
   "cell_type": "code",
   "execution_count": 19,
   "id": "ab67fa2d",
   "metadata": {},
   "outputs": [
    {
     "name": "stdout",
     "output_type": "stream",
     "text": [
      "66\n",
      "2071\n",
      "1697\n",
      "69\n",
      "2073\n",
      "1670\n",
      "71\n",
      "2073\n",
      "1667\n",
      "69\n",
      "2073\n"
     ]
    }
   ],
   "source": [
    "# Check for duplicate entries in various columns.\n",
    "\n",
    "print(image_predictions['jpg_url'].duplicated().sum())\n",
    "print(image_predictions['img_num'].duplicated().sum())\n",
    "print(image_predictions['p1'].duplicated().sum())\n",
    "print(image_predictions['p1_conf'].duplicated().sum())\n",
    "print(image_predictions['p1_dog'].duplicated().sum())\n",
    "print(image_predictions['p2'].duplicated().sum())\n",
    "print(image_predictions['p2_conf'].duplicated().sum())\n",
    "print(image_predictions['p2_dog'].duplicated().sum())\n",
    "print(image_predictions['p3'].duplicated().sum())\n",
    "print(image_predictions['p3_conf'].duplicated().sum())\n",
    "print(image_predictions['p3_dog'].duplicated().sum())\n"
   ]
  },
  {
   "cell_type": "markdown",
   "id": "8387142e",
   "metadata": {},
   "source": [
    "### Insight\n",
    "\n",
    "- There are different duplicate values in various columns."
   ]
  },
  {
   "cell_type": "code",
   "execution_count": 20,
   "id": "6a88b8a3",
   "metadata": {},
   "outputs": [
    {
     "name": "stdout",
     "output_type": "stream",
     "text": [
      "<class 'pandas.core.frame.DataFrame'>\n",
      "RangeIndex: 2075 entries, 0 to 2074\n",
      "Data columns (total 12 columns):\n",
      " #   Column    Non-Null Count  Dtype  \n",
      "---  ------    --------------  -----  \n",
      " 0   tweet_id  2075 non-null   int64  \n",
      " 1   jpg_url   2075 non-null   object \n",
      " 2   img_num   2075 non-null   int64  \n",
      " 3   p1        2075 non-null   object \n",
      " 4   p1_conf   2075 non-null   float64\n",
      " 5   p1_dog    2075 non-null   bool   \n",
      " 6   p2        2075 non-null   object \n",
      " 7   p2_conf   2075 non-null   float64\n",
      " 8   p2_dog    2075 non-null   bool   \n",
      " 9   p3        2075 non-null   object \n",
      " 10  p3_conf   2075 non-null   float64\n",
      " 11  p3_dog    2075 non-null   bool   \n",
      "dtypes: bool(3), float64(3), int64(2), object(4)\n",
      "memory usage: 152.1+ KB\n"
     ]
    }
   ],
   "source": [
    "image_predictions.info()"
   ]
  },
  {
   "cell_type": "code",
   "execution_count": 21,
   "id": "9f31f714",
   "metadata": {},
   "outputs": [
    {
     "data": {
      "text/plain": [
       "tweet_id    324\n",
       "jpg_url     324\n",
       "img_num     324\n",
       "p1          324\n",
       "p1_conf     324\n",
       "p1_dog      324\n",
       "p2          324\n",
       "p2_conf     324\n",
       "p2_dog      324\n",
       "p3          324\n",
       "p3_conf     324\n",
       "p3_dog      324\n",
       "dtype: int64"
      ]
     },
     "execution_count": 21,
     "metadata": {},
     "output_type": "execute_result"
    }
   ],
   "source": [
    "# Check for images that are not dogs\n",
    "\n",
    "image_predictions.query('(p1_dog == False) and (p2_dog == False) and (p3_dog == False)').count()"
   ]
  },
  {
   "cell_type": "code",
   "execution_count": 22,
   "id": "41d95fa4",
   "metadata": {},
   "outputs": [
    {
     "data": {
      "text/plain": [
       "False"
      ]
     },
     "execution_count": 22,
     "metadata": {},
     "output_type": "execute_result"
    }
   ],
   "source": [
    "# tweets_df\n",
    "\n",
    "# ckeck for NaN Values\n",
    "\n",
    "tweets_df.isna().values.any()"
   ]
  },
  {
   "cell_type": "code",
   "execution_count": 23,
   "id": "7680637a",
   "metadata": {},
   "outputs": [
    {
     "name": "stdout",
     "output_type": "stream",
     "text": [
      "0\n",
      "645\n",
      "358\n"
     ]
    }
   ],
   "source": [
    "# Check for duplicates\n",
    "\n",
    "print(tweets_df['tweet_id'].duplicated().sum())\n",
    "print(tweets_df['retweet_count'].duplicated().sum())\n",
    "print(tweets_df['favorite_count'].duplicated().sum())"
   ]
  },
  {
   "cell_type": "code",
   "execution_count": 24,
   "id": "76b8d4bd",
   "metadata": {},
   "outputs": [
    {
     "name": "stdout",
     "output_type": "stream",
     "text": [
      "<class 'pandas.core.frame.DataFrame'>\n",
      "RangeIndex: 2283 entries, 0 to 2282\n",
      "Data columns (total 3 columns):\n",
      " #   Column          Non-Null Count  Dtype\n",
      "---  ------          --------------  -----\n",
      " 0   tweet_id        2283 non-null   int64\n",
      " 1   retweet_count   2283 non-null   int64\n",
      " 2   favorite_count  2283 non-null   int64\n",
      "dtypes: int64(3)\n",
      "memory usage: 53.6 KB\n"
     ]
    }
   ],
   "source": [
    "tweets_df.info()"
   ]
  },
  {
   "cell_type": "markdown",
   "id": "1013bc81",
   "metadata": {},
   "source": [
    "### Detect and document at least eight (8) quality issues and two (2) tidiness issues.\n",
    "\n",
    "##### Quality Issues:\n",
    "\n",
    "*twitter_archive*\n",
    "\n",
    "- Many Missing records and NaN values in twitter_archive.\n",
    "- Inaccurate datatype in some columns for example tweet_id column is an int datatype.\n",
    "- Inacurrate dog names 'None', 'a'.\n",
    "- Convert timestamp column, object datatype to a datetime datatype.\n",
    "- Many duplicate values in the table.\n",
    "\n",
    "*image_predictions*\n",
    "\n",
    "- Entries that have p1_dog, p2_dog, & p3_dog values set to false.\n",
    "- Duplicate jpg_url entries.\n",
    "- Incorrect datatype for tweet_id.\n",
    "\n",
    "\n",
    "*tweets_df*\n",
    "\n",
    "- tweet_id is an object datatype.\n",
    "\n",
    "*All tables*\n",
    "\n",
    "- Convert tweet_id columns to a string datatype.\n",
    "- Assess any further issues that may arise.\n",
    "\n",
    "\n",
    "#### Tidiness Issues:\n",
    "\n",
    "- Combine the four (4) dog stage columns into a single column in the twitter_archive.\n",
    "- Join all the three (3) datasets to a single dataset i.e twitter_achive_master.csv. "
   ]
  },
  {
   "cell_type": "markdown",
   "id": "df803992",
   "metadata": {},
   "source": [
    "### Cleaning Data\n",
    "\n"
   ]
  },
  {
   "cell_type": "code",
   "execution_count": 51,
   "id": "bd14a8c9",
   "metadata": {},
   "outputs": [],
   "source": [
    "# create copies of original data\n",
    "\n",
    "twitter_archive_clean = twitter_archive.copy()\n",
    "image_predictions_clean = image_predictions.copy()\n",
    "tweets_clean = tweets_df.copy()"
   ]
  },
  {
   "cell_type": "markdown",
   "id": "4e0beb60",
   "metadata": {},
   "source": [
    "#### Define\n",
    "\n",
    "- Drop extraneous columns in the twitter_archive table. "
   ]
  },
  {
   "cell_type": "markdown",
   "id": "c2e464e0",
   "metadata": {},
   "source": [
    "#### Code\n"
   ]
  },
  {
   "cell_type": "code",
   "execution_count": 52,
   "id": "53a22de2",
   "metadata": {},
   "outputs": [],
   "source": [
    "twitter_archive_clean = twitter_archive_clean.drop(['in_reply_to_status_id',\n",
    "                                                    'in_reply_to_user_id',\n",
    "                                                    'retweeted_status_id',\n",
    "                                                    'retweeted_status_user_id',\n",
    "                                                    'retweeted_status_timestamp'], axis=1)"
   ]
  },
  {
   "cell_type": "markdown",
   "id": "d316bc8a",
   "metadata": {},
   "source": [
    "#### Test"
   ]
  },
  {
   "cell_type": "code",
   "execution_count": 53,
   "id": "dc33d914",
   "metadata": {},
   "outputs": [
    {
     "data": {
      "text/html": [
       "<div>\n",
       "<style scoped>\n",
       "    .dataframe tbody tr th:only-of-type {\n",
       "        vertical-align: middle;\n",
       "    }\n",
       "\n",
       "    .dataframe tbody tr th {\n",
       "        vertical-align: top;\n",
       "    }\n",
       "\n",
       "    .dataframe thead th {\n",
       "        text-align: right;\n",
       "    }\n",
       "</style>\n",
       "<table border=\"1\" class=\"dataframe\">\n",
       "  <thead>\n",
       "    <tr style=\"text-align: right;\">\n",
       "      <th></th>\n",
       "      <th>tweet_id</th>\n",
       "      <th>timestamp</th>\n",
       "      <th>source</th>\n",
       "      <th>text</th>\n",
       "      <th>expanded_urls</th>\n",
       "      <th>rating_numerator</th>\n",
       "      <th>rating_denominator</th>\n",
       "      <th>name</th>\n",
       "      <th>doggo</th>\n",
       "      <th>floofer</th>\n",
       "      <th>pupper</th>\n",
       "      <th>puppo</th>\n",
       "    </tr>\n",
       "  </thead>\n",
       "  <tbody>\n",
       "    <tr>\n",
       "      <th>0</th>\n",
       "      <td>892420643555336193</td>\n",
       "      <td>2017-08-01 16:23:56 +0000</td>\n",
       "      <td>&lt;a href=\"http://twitter.com/download/iphone\" r...</td>\n",
       "      <td>This is Phineas. He's a mystical boy. Only eve...</td>\n",
       "      <td>https://twitter.com/dog_rates/status/892420643...</td>\n",
       "      <td>13</td>\n",
       "      <td>10</td>\n",
       "      <td>Phineas</td>\n",
       "      <td>None</td>\n",
       "      <td>None</td>\n",
       "      <td>None</td>\n",
       "      <td>None</td>\n",
       "    </tr>\n",
       "    <tr>\n",
       "      <th>1</th>\n",
       "      <td>892177421306343426</td>\n",
       "      <td>2017-08-01 00:17:27 +0000</td>\n",
       "      <td>&lt;a href=\"http://twitter.com/download/iphone\" r...</td>\n",
       "      <td>This is Tilly. She's just checking pup on you....</td>\n",
       "      <td>https://twitter.com/dog_rates/status/892177421...</td>\n",
       "      <td>13</td>\n",
       "      <td>10</td>\n",
       "      <td>Tilly</td>\n",
       "      <td>None</td>\n",
       "      <td>None</td>\n",
       "      <td>None</td>\n",
       "      <td>None</td>\n",
       "    </tr>\n",
       "    <tr>\n",
       "      <th>2</th>\n",
       "      <td>891815181378084864</td>\n",
       "      <td>2017-07-31 00:18:03 +0000</td>\n",
       "      <td>&lt;a href=\"http://twitter.com/download/iphone\" r...</td>\n",
       "      <td>This is Archie. He is a rare Norwegian Pouncin...</td>\n",
       "      <td>https://twitter.com/dog_rates/status/891815181...</td>\n",
       "      <td>12</td>\n",
       "      <td>10</td>\n",
       "      <td>Archie</td>\n",
       "      <td>None</td>\n",
       "      <td>None</td>\n",
       "      <td>None</td>\n",
       "      <td>None</td>\n",
       "    </tr>\n",
       "    <tr>\n",
       "      <th>3</th>\n",
       "      <td>891689557279858688</td>\n",
       "      <td>2017-07-30 15:58:51 +0000</td>\n",
       "      <td>&lt;a href=\"http://twitter.com/download/iphone\" r...</td>\n",
       "      <td>This is Darla. She commenced a snooze mid meal...</td>\n",
       "      <td>https://twitter.com/dog_rates/status/891689557...</td>\n",
       "      <td>13</td>\n",
       "      <td>10</td>\n",
       "      <td>Darla</td>\n",
       "      <td>None</td>\n",
       "      <td>None</td>\n",
       "      <td>None</td>\n",
       "      <td>None</td>\n",
       "    </tr>\n",
       "    <tr>\n",
       "      <th>4</th>\n",
       "      <td>891327558926688256</td>\n",
       "      <td>2017-07-29 16:00:24 +0000</td>\n",
       "      <td>&lt;a href=\"http://twitter.com/download/iphone\" r...</td>\n",
       "      <td>This is Franklin. He would like you to stop ca...</td>\n",
       "      <td>https://twitter.com/dog_rates/status/891327558...</td>\n",
       "      <td>12</td>\n",
       "      <td>10</td>\n",
       "      <td>Franklin</td>\n",
       "      <td>None</td>\n",
       "      <td>None</td>\n",
       "      <td>None</td>\n",
       "      <td>None</td>\n",
       "    </tr>\n",
       "  </tbody>\n",
       "</table>\n",
       "</div>"
      ],
      "text/plain": [
       "             tweet_id                  timestamp  \\\n",
       "0  892420643555336193  2017-08-01 16:23:56 +0000   \n",
       "1  892177421306343426  2017-08-01 00:17:27 +0000   \n",
       "2  891815181378084864  2017-07-31 00:18:03 +0000   \n",
       "3  891689557279858688  2017-07-30 15:58:51 +0000   \n",
       "4  891327558926688256  2017-07-29 16:00:24 +0000   \n",
       "\n",
       "                                              source  \\\n",
       "0  <a href=\"http://twitter.com/download/iphone\" r...   \n",
       "1  <a href=\"http://twitter.com/download/iphone\" r...   \n",
       "2  <a href=\"http://twitter.com/download/iphone\" r...   \n",
       "3  <a href=\"http://twitter.com/download/iphone\" r...   \n",
       "4  <a href=\"http://twitter.com/download/iphone\" r...   \n",
       "\n",
       "                                                text  \\\n",
       "0  This is Phineas. He's a mystical boy. Only eve...   \n",
       "1  This is Tilly. She's just checking pup on you....   \n",
       "2  This is Archie. He is a rare Norwegian Pouncin...   \n",
       "3  This is Darla. She commenced a snooze mid meal...   \n",
       "4  This is Franklin. He would like you to stop ca...   \n",
       "\n",
       "                                       expanded_urls  rating_numerator  \\\n",
       "0  https://twitter.com/dog_rates/status/892420643...                13   \n",
       "1  https://twitter.com/dog_rates/status/892177421...                13   \n",
       "2  https://twitter.com/dog_rates/status/891815181...                12   \n",
       "3  https://twitter.com/dog_rates/status/891689557...                13   \n",
       "4  https://twitter.com/dog_rates/status/891327558...                12   \n",
       "\n",
       "   rating_denominator      name doggo floofer pupper puppo  \n",
       "0                  10   Phineas  None    None   None  None  \n",
       "1                  10     Tilly  None    None   None  None  \n",
       "2                  10    Archie  None    None   None  None  \n",
       "3                  10     Darla  None    None   None  None  \n",
       "4                  10  Franklin  None    None   None  None  "
      ]
     },
     "execution_count": 53,
     "metadata": {},
     "output_type": "execute_result"
    }
   ],
   "source": [
    "twitter_archive_clean.head()"
   ]
  },
  {
   "cell_type": "markdown",
   "id": "10deea3c",
   "metadata": {},
   "source": [
    "#### Define\n",
    "\n",
    "- Convert timestamp column from object datatype to datetime datatype.\n",
    "- Create a date column and drop timestamp column."
   ]
  },
  {
   "cell_type": "markdown",
   "id": "74d64020",
   "metadata": {},
   "source": [
    "#### Code"
   ]
  },
  {
   "cell_type": "code",
   "execution_count": 54,
   "id": "2450d671",
   "metadata": {},
   "outputs": [],
   "source": [
    "\n",
    "# convert the timestamp column to datetime\n",
    "\n",
    "twitter_archive_clean['timestamp'] = pd.to_datetime(twitter_archive_clean['timestamp'], yearfirst= True)"
   ]
  },
  {
   "cell_type": "markdown",
   "id": "7b4b041a",
   "metadata": {},
   "source": [
    "#### Test"
   ]
  },
  {
   "cell_type": "code",
   "execution_count": 55,
   "id": "d4d57058",
   "metadata": {},
   "outputs": [
    {
     "data": {
      "text/plain": [
       "datetime64[ns, UTC]"
      ]
     },
     "execution_count": 55,
     "metadata": {},
     "output_type": "execute_result"
    }
   ],
   "source": [
    "twitter_archive_clean.timestamp.dtype"
   ]
  },
  {
   "cell_type": "code",
   "execution_count": 56,
   "id": "742a3ab9",
   "metadata": {},
   "outputs": [
    {
     "name": "stdout",
     "output_type": "stream",
     "text": [
      "<class 'pandas.core.frame.DataFrame'>\n",
      "RangeIndex: 2356 entries, 0 to 2355\n",
      "Data columns (total 12 columns):\n",
      " #   Column              Non-Null Count  Dtype              \n",
      "---  ------              --------------  -----              \n",
      " 0   tweet_id            2356 non-null   int64              \n",
      " 1   timestamp           2356 non-null   datetime64[ns, UTC]\n",
      " 2   source              2356 non-null   object             \n",
      " 3   text                2356 non-null   object             \n",
      " 4   expanded_urls       2297 non-null   object             \n",
      " 5   rating_numerator    2356 non-null   int64              \n",
      " 6   rating_denominator  2356 non-null   int64              \n",
      " 7   name                2356 non-null   object             \n",
      " 8   doggo               2356 non-null   object             \n",
      " 9   floofer             2356 non-null   object             \n",
      " 10  pupper              2356 non-null   object             \n",
      " 11  puppo               2356 non-null   object             \n",
      "dtypes: datetime64[ns, UTC](1), int64(3), object(8)\n",
      "memory usage: 221.0+ KB\n"
     ]
    }
   ],
   "source": [
    "twitter_archive_clean.info()"
   ]
  },
  {
   "cell_type": "code",
   "execution_count": 39,
   "id": "9193e61c",
   "metadata": {},
   "outputs": [],
   "source": [
    "# create a date column and drop the timestamp column.\n",
    "\n",
    "twitter_archive_clean['date'] = twitter_archive_clean['timestamp'].apply(lambda x: x.strftime('%Y-%m-%d'))\n",
    "\n",
    "twitter_archive_clean = twitter_archive_clean.drop('timestamp', axis=1)"
   ]
  },
  {
   "cell_type": "code",
   "execution_count": 40,
   "id": "2b1ec882",
   "metadata": {},
   "outputs": [
    {
     "data": {
      "text/html": [
       "<div>\n",
       "<style scoped>\n",
       "    .dataframe tbody tr th:only-of-type {\n",
       "        vertical-align: middle;\n",
       "    }\n",
       "\n",
       "    .dataframe tbody tr th {\n",
       "        vertical-align: top;\n",
       "    }\n",
       "\n",
       "    .dataframe thead th {\n",
       "        text-align: right;\n",
       "    }\n",
       "</style>\n",
       "<table border=\"1\" class=\"dataframe\">\n",
       "  <thead>\n",
       "    <tr style=\"text-align: right;\">\n",
       "      <th></th>\n",
       "      <th>tweet_id</th>\n",
       "      <th>source</th>\n",
       "      <th>text</th>\n",
       "      <th>expanded_urls</th>\n",
       "      <th>rating_numerator</th>\n",
       "      <th>rating_denominator</th>\n",
       "      <th>name</th>\n",
       "      <th>doggo</th>\n",
       "      <th>floofer</th>\n",
       "      <th>pupper</th>\n",
       "      <th>puppo</th>\n",
       "      <th>date</th>\n",
       "    </tr>\n",
       "  </thead>\n",
       "  <tbody>\n",
       "    <tr>\n",
       "      <th>0</th>\n",
       "      <td>892420643555336193</td>\n",
       "      <td>&lt;a href=\"http://twitter.com/download/iphone\" r...</td>\n",
       "      <td>This is Phineas. He's a mystical boy. Only eve...</td>\n",
       "      <td>https://twitter.com/dog_rates/status/892420643...</td>\n",
       "      <td>13</td>\n",
       "      <td>10</td>\n",
       "      <td>Phineas</td>\n",
       "      <td>None</td>\n",
       "      <td>None</td>\n",
       "      <td>None</td>\n",
       "      <td>None</td>\n",
       "      <td>2017-08-01</td>\n",
       "    </tr>\n",
       "    <tr>\n",
       "      <th>1</th>\n",
       "      <td>892177421306343426</td>\n",
       "      <td>&lt;a href=\"http://twitter.com/download/iphone\" r...</td>\n",
       "      <td>This is Tilly. She's just checking pup on you....</td>\n",
       "      <td>https://twitter.com/dog_rates/status/892177421...</td>\n",
       "      <td>13</td>\n",
       "      <td>10</td>\n",
       "      <td>Tilly</td>\n",
       "      <td>None</td>\n",
       "      <td>None</td>\n",
       "      <td>None</td>\n",
       "      <td>None</td>\n",
       "      <td>2017-08-01</td>\n",
       "    </tr>\n",
       "  </tbody>\n",
       "</table>\n",
       "</div>"
      ],
      "text/plain": [
       "             tweet_id                                             source  \\\n",
       "0  892420643555336193  <a href=\"http://twitter.com/download/iphone\" r...   \n",
       "1  892177421306343426  <a href=\"http://twitter.com/download/iphone\" r...   \n",
       "\n",
       "                                                text  \\\n",
       "0  This is Phineas. He's a mystical boy. Only eve...   \n",
       "1  This is Tilly. She's just checking pup on you....   \n",
       "\n",
       "                                       expanded_urls  rating_numerator  \\\n",
       "0  https://twitter.com/dog_rates/status/892420643...                13   \n",
       "1  https://twitter.com/dog_rates/status/892177421...                13   \n",
       "\n",
       "   rating_denominator     name doggo floofer pupper puppo        date  \n",
       "0                  10  Phineas  None    None   None  None  2017-08-01  \n",
       "1                  10    Tilly  None    None   None  None  2017-08-01  "
      ]
     },
     "execution_count": 40,
     "metadata": {},
     "output_type": "execute_result"
    }
   ],
   "source": [
    "twitter_archive_clean.head(2)"
   ]
  },
  {
   "cell_type": "markdown",
   "id": "c308070a",
   "metadata": {},
   "source": [
    "#### Define\n",
    "\n",
    "- Lowercase dog names and None. Replace them with NaN."
   ]
  },
  {
   "cell_type": "markdown",
   "id": "c5668024",
   "metadata": {},
   "source": [
    "#### Code"
   ]
  },
  {
   "cell_type": "code",
   "execution_count": 57,
   "id": "4747f8e2",
   "metadata": {},
   "outputs": [
    {
     "data": {
      "text/plain": [
       "745"
      ]
     },
     "execution_count": 57,
     "metadata": {},
     "output_type": "execute_result"
    }
   ],
   "source": [
    "(twitter_archive_clean.name == \"None\").sum()"
   ]
  },
  {
   "cell_type": "code",
   "execution_count": 58,
   "id": "c2c39942",
   "metadata": {},
   "outputs": [
    {
     "data": {
      "text/plain": [
       "['a',\n",
       " 'the',\n",
       " 'an',\n",
       " 'very',\n",
       " 'just',\n",
       " 'quite',\n",
       " 'one',\n",
       " 'getting',\n",
       " 'actually',\n",
       " 'mad',\n",
       " 'not',\n",
       " 'old',\n",
       " 'life',\n",
       " 'officially',\n",
       " 'light',\n",
       " 'by',\n",
       " 'infuriating',\n",
       " 'such',\n",
       " 'all',\n",
       " 'unacceptable',\n",
       " 'this',\n",
       " 'his',\n",
       " 'my',\n",
       " 'incredibly',\n",
       " 'space',\n",
       " 'None']"
      ]
     },
     "execution_count": 58,
     "metadata": {},
     "output_type": "execute_result"
    }
   ],
   "source": [
    "# lowercase dog names and 'None'\n",
    "dog_names = list(twitter_archive_clean[twitter_archive_clean.name.str.islower()].name.value_counts().index)\n",
    "dog_names.append('None')\n",
    "dog_names"
   ]
  },
  {
   "cell_type": "code",
   "execution_count": 51,
   "id": "85259c2e",
   "metadata": {},
   "outputs": [],
   "source": [
    "# replace lowercase names and 'None' with NaN\n",
    "\n",
    "twitter_archive_clean['name'] = twitter_archive_clean['name'].replace(dog_names, np.nan)"
   ]
  },
  {
   "cell_type": "markdown",
   "id": "a06f9ed1",
   "metadata": {},
   "source": [
    "#### Test"
   ]
  },
  {
   "cell_type": "code",
   "execution_count": 52,
   "id": "d50215b2",
   "metadata": {},
   "outputs": [
    {
     "data": {
      "text/plain": [
       "Charlie       12\n",
       "Cooper        11\n",
       "Lucy          11\n",
       "Oliver        11\n",
       "Lola          10\n",
       "              ..\n",
       "Bayley         1\n",
       "Meatball       1\n",
       "Storkson       1\n",
       "Remy           1\n",
       "Christoper     1\n",
       "Name: name, Length: 948, dtype: int64"
      ]
     },
     "execution_count": 52,
     "metadata": {},
     "output_type": "execute_result"
    }
   ],
   "source": [
    "twitter_archive_clean.name.value_counts()"
   ]
  },
  {
   "cell_type": "markdown",
   "id": "9868731b",
   "metadata": {},
   "source": [
    "#### Define\n",
    "\n",
    "- Search for dog names that start with named and extract the names. "
   ]
  },
  {
   "cell_type": "markdown",
   "id": "6033cada",
   "metadata": {},
   "source": [
    "#### Code"
   ]
  },
  {
   "cell_type": "code",
   "execution_count": 59,
   "id": "86af33b7",
   "metadata": {},
   "outputs": [
    {
     "data": {
      "text/html": [
       "<div>\n",
       "<style scoped>\n",
       "    .dataframe tbody tr th:only-of-type {\n",
       "        vertical-align: middle;\n",
       "    }\n",
       "\n",
       "    .dataframe tbody tr th {\n",
       "        vertical-align: top;\n",
       "    }\n",
       "\n",
       "    .dataframe thead th {\n",
       "        text-align: right;\n",
       "    }\n",
       "</style>\n",
       "<table border=\"1\" class=\"dataframe\">\n",
       "  <thead>\n",
       "    <tr style=\"text-align: right;\">\n",
       "      <th></th>\n",
       "      <th>0</th>\n",
       "    </tr>\n",
       "  </thead>\n",
       "  <tbody>\n",
       "    <tr>\n",
       "      <th>1853</th>\n",
       "      <td>named Wylie</td>\n",
       "    </tr>\n",
       "    <tr>\n",
       "      <th>1955</th>\n",
       "      <td>named Kip</td>\n",
       "    </tr>\n",
       "    <tr>\n",
       "      <th>2034</th>\n",
       "      <td>named Jacob</td>\n",
       "    </tr>\n",
       "    <tr>\n",
       "      <th>2066</th>\n",
       "      <td>named Rufus</td>\n",
       "    </tr>\n",
       "    <tr>\n",
       "      <th>2116</th>\n",
       "      <td>named Spork</td>\n",
       "    </tr>\n",
       "    <tr>\n",
       "      <th>2125</th>\n",
       "      <td>named Cherokee</td>\n",
       "    </tr>\n",
       "    <tr>\n",
       "      <th>2128</th>\n",
       "      <td>named Hemry</td>\n",
       "    </tr>\n",
       "    <tr>\n",
       "      <th>2146</th>\n",
       "      <td>named Alphred</td>\n",
       "    </tr>\n",
       "    <tr>\n",
       "      <th>2161</th>\n",
       "      <td>named Alfredo</td>\n",
       "    </tr>\n",
       "    <tr>\n",
       "      <th>2191</th>\n",
       "      <td>named Leroi</td>\n",
       "    </tr>\n",
       "    <tr>\n",
       "      <th>2204</th>\n",
       "      <td>named Berta</td>\n",
       "    </tr>\n",
       "    <tr>\n",
       "      <th>2218</th>\n",
       "      <td>named Chuk</td>\n",
       "    </tr>\n",
       "    <tr>\n",
       "      <th>2235</th>\n",
       "      <td>named Alfonso</td>\n",
       "    </tr>\n",
       "    <tr>\n",
       "      <th>2249</th>\n",
       "      <td>named Cheryl</td>\n",
       "    </tr>\n",
       "    <tr>\n",
       "      <th>2255</th>\n",
       "      <td>named Jessiga</td>\n",
       "    </tr>\n",
       "    <tr>\n",
       "      <th>2264</th>\n",
       "      <td>named Klint</td>\n",
       "    </tr>\n",
       "    <tr>\n",
       "      <th>2273</th>\n",
       "      <td>named Kohl</td>\n",
       "    </tr>\n",
       "    <tr>\n",
       "      <th>2304</th>\n",
       "      <td>named Pepe</td>\n",
       "    </tr>\n",
       "    <tr>\n",
       "      <th>2311</th>\n",
       "      <td>named Octaviath</td>\n",
       "    </tr>\n",
       "    <tr>\n",
       "      <th>2314</th>\n",
       "      <td>named Johm</td>\n",
       "    </tr>\n",
       "  </tbody>\n",
       "</table>\n",
       "</div>"
      ],
      "text/plain": [
       "                    0\n",
       "1853      named Wylie\n",
       "1955        named Kip\n",
       "2034      named Jacob\n",
       "2066      named Rufus\n",
       "2116      named Spork\n",
       "2125   named Cherokee\n",
       "2128      named Hemry\n",
       "2146    named Alphred\n",
       "2161    named Alfredo\n",
       "2191      named Leroi\n",
       "2204      named Berta\n",
       "2218       named Chuk\n",
       "2235    named Alfonso\n",
       "2249     named Cheryl\n",
       "2255    named Jessiga\n",
       "2264      named Klint\n",
       "2273       named Kohl\n",
       "2304       named Pepe\n",
       "2311  named Octaviath\n",
       "2314       named Johm"
      ]
     },
     "execution_count": 59,
     "metadata": {},
     "output_type": "execute_result"
    }
   ],
   "source": [
    "extracted_names = twitter_archive_clean[twitter_archive_clean.name.str.match('a')].text.str.extract(r'(named\\s\\w+)').dropna()\n",
    "extracted_names"
   ]
  },
  {
   "cell_type": "code",
   "execution_count": 60,
   "id": "84868538",
   "metadata": {},
   "outputs": [],
   "source": [
    "# Remove the 'named' word and remain with the dog name.\n",
    "\n",
    "twitter_archive_clean.loc[extracted_names.index, 'name'] = extracted_names[0].str.slice(6)"
   ]
  },
  {
   "cell_type": "markdown",
   "id": "48f548e1",
   "metadata": {},
   "source": [
    "#### Test"
   ]
  },
  {
   "cell_type": "code",
   "execution_count": 61,
   "id": "7d39c351",
   "metadata": {},
   "outputs": [
    {
     "data": {
      "text/plain": [
       "56      False\n",
       "649     False\n",
       "759     False\n",
       "801     False\n",
       "1002    False\n",
       "1004    False\n",
       "1017    False\n",
       "1025    False\n",
       "1040    False\n",
       "1049    False\n",
       "1138    False\n",
       "1193    False\n",
       "1207    False\n",
       "1340    False\n",
       "1351    False\n",
       "1361    False\n",
       "1362    False\n",
       "1368    False\n",
       "1382    False\n",
       "1499    False\n",
       "1693    False\n",
       "1737    False\n",
       "1785    False\n",
       "1854    False\n",
       "1877    False\n",
       "1878    False\n",
       "1923    False\n",
       "1941    False\n",
       "1994    False\n",
       "2153    False\n",
       "2198    False\n",
       "2211    False\n",
       "2222    False\n",
       "2287    False\n",
       "2327    False\n",
       "2333    False\n",
       "2334    False\n",
       "2335    False\n",
       "2347    False\n",
       "2348    False\n",
       "2349    False\n",
       "2350    False\n",
       "2352    False\n",
       "2353    False\n",
       "2354    False\n",
       "Name: text, dtype: bool"
      ]
     },
     "execution_count": 61,
     "metadata": {},
     "output_type": "execute_result"
    }
   ],
   "source": [
    "twitter_archive_clean[twitter_archive_clean.name.str.match('a')].text.str.contains('named ')"
   ]
  },
  {
   "cell_type": "markdown",
   "id": "b06be57a",
   "metadata": {},
   "source": [
    "#### Define\n",
    "\n",
    "- Convert tweet_id int  datatype to object."
   ]
  },
  {
   "cell_type": "markdown",
   "id": "5f7ad1b2",
   "metadata": {},
   "source": [
    "#### Code\n"
   ]
  },
  {
   "cell_type": "code",
   "execution_count": 62,
   "id": "62791694",
   "metadata": {},
   "outputs": [],
   "source": [
    "twitter_archive_clean['tweet_id'] = twitter_archive_clean['tweet_id'].astype(str)"
   ]
  },
  {
   "cell_type": "markdown",
   "id": "9ed5b26c",
   "metadata": {},
   "source": [
    "#### Test"
   ]
  },
  {
   "cell_type": "code",
   "execution_count": 63,
   "id": "e23eeb91",
   "metadata": {},
   "outputs": [
    {
     "data": {
      "text/plain": [
       "dtype('O')"
      ]
     },
     "execution_count": 63,
     "metadata": {},
     "output_type": "execute_result"
    }
   ],
   "source": [
    "twitter_archive_clean.tweet_id.dtype"
   ]
  },
  {
   "cell_type": "markdown",
   "id": "2133f986",
   "metadata": {},
   "source": [
    "#### Define\n",
    "\n",
    "- Define a function to remove HTML Link on source column."
   ]
  },
  {
   "cell_type": "markdown",
   "id": "c2790920",
   "metadata": {},
   "source": [
    "#### Code"
   ]
  },
  {
   "cell_type": "code",
   "execution_count": 64,
   "id": "4a9e1f15",
   "metadata": {},
   "outputs": [],
   "source": [
    "# Function\n",
    "\n",
    "def remove_url(x):\n",
    "    return x.split('>', 1)[-1][:-4]\n",
    "\n",
    "# apply.\n",
    "\n",
    "twitter_archive_clean['source'] = twitter_archive_clean['source'].apply(remove_url)"
   ]
  },
  {
   "cell_type": "markdown",
   "id": "36c5c60b",
   "metadata": {},
   "source": [
    "#### Test\n",
    "\n"
   ]
  },
  {
   "cell_type": "code",
   "execution_count": 65,
   "id": "311429fd",
   "metadata": {},
   "outputs": [
    {
     "data": {
      "text/plain": [
       "Twitter for iPhone     2221\n",
       "Vine - Make a Scene      91\n",
       "Twitter Web Client       33\n",
       "TweetDeck                11\n",
       "Name: source, dtype: int64"
      ]
     },
     "execution_count": 65,
     "metadata": {},
     "output_type": "execute_result"
    }
   ],
   "source": [
    "twitter_archive_clean['source'].value_counts()"
   ]
  },
  {
   "cell_type": "markdown",
   "id": "36ec221f",
   "metadata": {},
   "source": [
    "#### Define\n",
    "\n",
    "- Keep rows with rating numerator between 1 and 15 and rating denominator between 1 and 10. "
   ]
  },
  {
   "cell_type": "markdown",
   "id": "532ce511",
   "metadata": {},
   "source": [
    "#### Code"
   ]
  },
  {
   "cell_type": "code",
   "execution_count": 66,
   "id": "f270451d",
   "metadata": {},
   "outputs": [],
   "source": [
    "twitter_archive_clean = twitter_archive_clean[(twitter_archive_clean.rating_numerator > 0) & (twitter_archive_clean.rating_numerator <= 15) &\n",
    "                          (twitter_archive_clean.rating_denominator <= 10)]"
   ]
  },
  {
   "cell_type": "markdown",
   "id": "82a74e3e",
   "metadata": {},
   "source": [
    "#### Test"
   ]
  },
  {
   "cell_type": "code",
   "execution_count": 67,
   "id": "01680e93",
   "metadata": {},
   "outputs": [
    {
     "data": {
      "text/plain": [
       "12    558\n",
       "11    463\n",
       "10    461\n",
       "13    351\n",
       "9     156\n",
       "8     102\n",
       "14     54\n",
       "7      54\n",
       "5      37\n",
       "6      32\n",
       "3      19\n",
       "4      15\n",
       "1       9\n",
       "2       9\n",
       "15      2\n",
       "Name: rating_numerator, dtype: int64"
      ]
     },
     "execution_count": 67,
     "metadata": {},
     "output_type": "execute_result"
    }
   ],
   "source": [
    "twitter_archive_clean['rating_numerator'].value_counts()"
   ]
  },
  {
   "cell_type": "code",
   "execution_count": 68,
   "id": "b0f6044d",
   "metadata": {},
   "outputs": [
    {
     "data": {
      "text/plain": [
       "10    2321\n",
       "2        1\n",
       "Name: rating_denominator, dtype: int64"
      ]
     },
     "execution_count": 68,
     "metadata": {},
     "output_type": "execute_result"
    }
   ],
   "source": [
    "twitter_archive_clean['rating_denominator'].value_counts()"
   ]
  },
  {
   "cell_type": "markdown",
   "id": "5a7e2824",
   "metadata": {},
   "source": [
    "#### Define\n",
    "\n",
    "- Convert rating numerator and rating denominator to float data type."
   ]
  },
  {
   "cell_type": "markdown",
   "id": "1ef2edff",
   "metadata": {},
   "source": [
    "#### Code"
   ]
  },
  {
   "cell_type": "code",
   "execution_count": 69,
   "id": "41f7d0ee",
   "metadata": {},
   "outputs": [],
   "source": [
    "twitter_archive_clean['rating_numerator'] = twitter_archive_clean['rating_numerator'].astype(float)"
   ]
  },
  {
   "cell_type": "code",
   "execution_count": 70,
   "id": "f4cd2aa3",
   "metadata": {},
   "outputs": [],
   "source": [
    "twitter_archive_clean['rating_denominator'] = twitter_archive_clean['rating_denominator'].astype(float)"
   ]
  },
  {
   "cell_type": "markdown",
   "id": "51bacb31",
   "metadata": {},
   "source": [
    "#### Test"
   ]
  },
  {
   "cell_type": "code",
   "execution_count": 71,
   "id": "c1cf09e4",
   "metadata": {},
   "outputs": [
    {
     "data": {
      "text/html": [
       "<div>\n",
       "<style scoped>\n",
       "    .dataframe tbody tr th:only-of-type {\n",
       "        vertical-align: middle;\n",
       "    }\n",
       "\n",
       "    .dataframe tbody tr th {\n",
       "        vertical-align: top;\n",
       "    }\n",
       "\n",
       "    .dataframe thead th {\n",
       "        text-align: right;\n",
       "    }\n",
       "</style>\n",
       "<table border=\"1\" class=\"dataframe\">\n",
       "  <thead>\n",
       "    <tr style=\"text-align: right;\">\n",
       "      <th></th>\n",
       "      <th>tweet_id</th>\n",
       "      <th>timestamp</th>\n",
       "      <th>source</th>\n",
       "      <th>text</th>\n",
       "      <th>expanded_urls</th>\n",
       "      <th>rating_numerator</th>\n",
       "      <th>rating_denominator</th>\n",
       "      <th>name</th>\n",
       "      <th>doggo</th>\n",
       "      <th>floofer</th>\n",
       "      <th>pupper</th>\n",
       "      <th>puppo</th>\n",
       "    </tr>\n",
       "  </thead>\n",
       "  <tbody>\n",
       "    <tr>\n",
       "      <th>0</th>\n",
       "      <td>892420643555336193</td>\n",
       "      <td>2017-08-01 16:23:56+00:00</td>\n",
       "      <td>Twitter for iPhone</td>\n",
       "      <td>This is Phineas. He's a mystical boy. Only eve...</td>\n",
       "      <td>https://twitter.com/dog_rates/status/892420643...</td>\n",
       "      <td>13.0</td>\n",
       "      <td>10.0</td>\n",
       "      <td>Phineas</td>\n",
       "      <td>None</td>\n",
       "      <td>None</td>\n",
       "      <td>None</td>\n",
       "      <td>None</td>\n",
       "    </tr>\n",
       "    <tr>\n",
       "      <th>1</th>\n",
       "      <td>892177421306343426</td>\n",
       "      <td>2017-08-01 00:17:27+00:00</td>\n",
       "      <td>Twitter for iPhone</td>\n",
       "      <td>This is Tilly. She's just checking pup on you....</td>\n",
       "      <td>https://twitter.com/dog_rates/status/892177421...</td>\n",
       "      <td>13.0</td>\n",
       "      <td>10.0</td>\n",
       "      <td>Tilly</td>\n",
       "      <td>None</td>\n",
       "      <td>None</td>\n",
       "      <td>None</td>\n",
       "      <td>None</td>\n",
       "    </tr>\n",
       "    <tr>\n",
       "      <th>2</th>\n",
       "      <td>891815181378084864</td>\n",
       "      <td>2017-07-31 00:18:03+00:00</td>\n",
       "      <td>Twitter for iPhone</td>\n",
       "      <td>This is Archie. He is a rare Norwegian Pouncin...</td>\n",
       "      <td>https://twitter.com/dog_rates/status/891815181...</td>\n",
       "      <td>12.0</td>\n",
       "      <td>10.0</td>\n",
       "      <td>Archie</td>\n",
       "      <td>None</td>\n",
       "      <td>None</td>\n",
       "      <td>None</td>\n",
       "      <td>None</td>\n",
       "    </tr>\n",
       "    <tr>\n",
       "      <th>3</th>\n",
       "      <td>891689557279858688</td>\n",
       "      <td>2017-07-30 15:58:51+00:00</td>\n",
       "      <td>Twitter for iPhone</td>\n",
       "      <td>This is Darla. She commenced a snooze mid meal...</td>\n",
       "      <td>https://twitter.com/dog_rates/status/891689557...</td>\n",
       "      <td>13.0</td>\n",
       "      <td>10.0</td>\n",
       "      <td>Darla</td>\n",
       "      <td>None</td>\n",
       "      <td>None</td>\n",
       "      <td>None</td>\n",
       "      <td>None</td>\n",
       "    </tr>\n",
       "    <tr>\n",
       "      <th>4</th>\n",
       "      <td>891327558926688256</td>\n",
       "      <td>2017-07-29 16:00:24+00:00</td>\n",
       "      <td>Twitter for iPhone</td>\n",
       "      <td>This is Franklin. He would like you to stop ca...</td>\n",
       "      <td>https://twitter.com/dog_rates/status/891327558...</td>\n",
       "      <td>12.0</td>\n",
       "      <td>10.0</td>\n",
       "      <td>Franklin</td>\n",
       "      <td>None</td>\n",
       "      <td>None</td>\n",
       "      <td>None</td>\n",
       "      <td>None</td>\n",
       "    </tr>\n",
       "  </tbody>\n",
       "</table>\n",
       "</div>"
      ],
      "text/plain": [
       "             tweet_id                 timestamp              source  \\\n",
       "0  892420643555336193 2017-08-01 16:23:56+00:00  Twitter for iPhone   \n",
       "1  892177421306343426 2017-08-01 00:17:27+00:00  Twitter for iPhone   \n",
       "2  891815181378084864 2017-07-31 00:18:03+00:00  Twitter for iPhone   \n",
       "3  891689557279858688 2017-07-30 15:58:51+00:00  Twitter for iPhone   \n",
       "4  891327558926688256 2017-07-29 16:00:24+00:00  Twitter for iPhone   \n",
       "\n",
       "                                                text  \\\n",
       "0  This is Phineas. He's a mystical boy. Only eve...   \n",
       "1  This is Tilly. She's just checking pup on you....   \n",
       "2  This is Archie. He is a rare Norwegian Pouncin...   \n",
       "3  This is Darla. She commenced a snooze mid meal...   \n",
       "4  This is Franklin. He would like you to stop ca...   \n",
       "\n",
       "                                       expanded_urls  rating_numerator  \\\n",
       "0  https://twitter.com/dog_rates/status/892420643...              13.0   \n",
       "1  https://twitter.com/dog_rates/status/892177421...              13.0   \n",
       "2  https://twitter.com/dog_rates/status/891815181...              12.0   \n",
       "3  https://twitter.com/dog_rates/status/891689557...              13.0   \n",
       "4  https://twitter.com/dog_rates/status/891327558...              12.0   \n",
       "\n",
       "   rating_denominator      name doggo floofer pupper puppo  \n",
       "0                10.0   Phineas  None    None   None  None  \n",
       "1                10.0     Tilly  None    None   None  None  \n",
       "2                10.0    Archie  None    None   None  None  \n",
       "3                10.0     Darla  None    None   None  None  \n",
       "4                10.0  Franklin  None    None   None  None  "
      ]
     },
     "execution_count": 71,
     "metadata": {},
     "output_type": "execute_result"
    }
   ],
   "source": [
    "twitter_archive_clean.head()"
   ]
  },
  {
   "cell_type": "markdown",
   "id": "07ff7288",
   "metadata": {},
   "source": [
    "#### Define\n",
    "\n",
    "- Combine columns doggo, floofer, pupper, puppo into one column dog_stage."
   ]
  },
  {
   "cell_type": "markdown",
   "id": "b25f0839",
   "metadata": {},
   "source": [
    "#### Code"
   ]
  },
  {
   "cell_type": "code",
   "execution_count": 72,
   "id": "60edd2cd",
   "metadata": {},
   "outputs": [],
   "source": [
    "# replace all NaN and 'None' dog stage with an empty value.\n",
    "\n",
    "twitter_archive_clean.doggo.replace('None', '', inplace=True)\n",
    "twitter_archive_clean.doggo.replace(np.NaN, '', inplace=True)\n",
    "twitter_archive_clean.floofer.replace('None', '', inplace=True)\n",
    "twitter_archive_clean.floofer.replace(np.NaN, '', inplace=True)\n",
    "twitter_archive_clean.pupper.replace('None', '', inplace=True)\n",
    "twitter_archive_clean.pupper.replace(np.NaN, '', inplace=True)\n",
    "twitter_archive_clean.puppo.replace('None', '', inplace=True)\n",
    "twitter_archive_clean.puppo.replace(np.NaN, '', inplace=True)"
   ]
  },
  {
   "cell_type": "code",
   "execution_count": 73,
   "id": "1f818bbc",
   "metadata": {},
   "outputs": [
    {
     "data": {
      "text/html": [
       "<div>\n",
       "<style scoped>\n",
       "    .dataframe tbody tr th:only-of-type {\n",
       "        vertical-align: middle;\n",
       "    }\n",
       "\n",
       "    .dataframe tbody tr th {\n",
       "        vertical-align: top;\n",
       "    }\n",
       "\n",
       "    .dataframe thead th {\n",
       "        text-align: right;\n",
       "    }\n",
       "</style>\n",
       "<table border=\"1\" class=\"dataframe\">\n",
       "  <thead>\n",
       "    <tr style=\"text-align: right;\">\n",
       "      <th></th>\n",
       "      <th>doggo</th>\n",
       "      <th>floofer</th>\n",
       "      <th>pupper</th>\n",
       "      <th>puppo</th>\n",
       "      <th>count</th>\n",
       "    </tr>\n",
       "  </thead>\n",
       "  <tbody>\n",
       "    <tr>\n",
       "      <th>0</th>\n",
       "      <td></td>\n",
       "      <td></td>\n",
       "      <td></td>\n",
       "      <td></td>\n",
       "      <td>1943</td>\n",
       "    </tr>\n",
       "    <tr>\n",
       "      <th>1</th>\n",
       "      <td></td>\n",
       "      <td></td>\n",
       "      <td></td>\n",
       "      <td>puppo</td>\n",
       "      <td>29</td>\n",
       "    </tr>\n",
       "    <tr>\n",
       "      <th>2</th>\n",
       "      <td></td>\n",
       "      <td></td>\n",
       "      <td>pupper</td>\n",
       "      <td></td>\n",
       "      <td>244</td>\n",
       "    </tr>\n",
       "    <tr>\n",
       "      <th>3</th>\n",
       "      <td></td>\n",
       "      <td>floofer</td>\n",
       "      <td></td>\n",
       "      <td></td>\n",
       "      <td>9</td>\n",
       "    </tr>\n",
       "    <tr>\n",
       "      <th>4</th>\n",
       "      <td>doggo</td>\n",
       "      <td></td>\n",
       "      <td></td>\n",
       "      <td></td>\n",
       "      <td>83</td>\n",
       "    </tr>\n",
       "    <tr>\n",
       "      <th>5</th>\n",
       "      <td>doggo</td>\n",
       "      <td></td>\n",
       "      <td></td>\n",
       "      <td>puppo</td>\n",
       "      <td>1</td>\n",
       "    </tr>\n",
       "    <tr>\n",
       "      <th>6</th>\n",
       "      <td>doggo</td>\n",
       "      <td></td>\n",
       "      <td>pupper</td>\n",
       "      <td></td>\n",
       "      <td>12</td>\n",
       "    </tr>\n",
       "    <tr>\n",
       "      <th>7</th>\n",
       "      <td>doggo</td>\n",
       "      <td>floofer</td>\n",
       "      <td></td>\n",
       "      <td></td>\n",
       "      <td>1</td>\n",
       "    </tr>\n",
       "  </tbody>\n",
       "</table>\n",
       "</div>"
      ],
      "text/plain": [
       "   doggo  floofer  pupper  puppo  count\n",
       "0                                  1943\n",
       "1                          puppo     29\n",
       "2                  pupper           244\n",
       "3         floofer                     9\n",
       "4  doggo                             83\n",
       "5  doggo                   puppo      1\n",
       "6  doggo           pupper            12\n",
       "7  doggo  floofer                     1"
      ]
     },
     "execution_count": 73,
     "metadata": {},
     "output_type": "execute_result"
    }
   ],
   "source": [
    "# use group by.\n",
    "twitter_archive_clean.groupby(['doggo', 'floofer', 'pupper', 'puppo']).size().reset_index().rename(columns={0: 'count'})"
   ]
  },
  {
   "cell_type": "code",
   "execution_count": 74,
   "id": "3f5790fc",
   "metadata": {},
   "outputs": [],
   "source": [
    "# combine dog stages to a single column\n",
    "\n",
    "twitter_archive_clean['dog_stage'] = twitter_archive_clean.doggo + twitter_archive_clean.floofer + twitter_archive_clean.pupper + twitter_archive_clean.puppo\n",
    "\n",
    "# combine multiple stage rows\n",
    "\n",
    "twitter_archive_clean.loc[twitter_archive_clean.dog_stage == 'doggopupper', 'dog_stage'] = 'doggo, pupper'\n",
    "twitter_archive_clean.loc[twitter_archive_clean.dog_stage == 'doggopuppo', 'dog_stage'] = 'doggo, puppo'\n",
    "twitter_archive_clean.loc[twitter_archive_clean.dog_stage == 'doggofloofer', 'dog_stage'] = 'doggo, floofer'"
   ]
  },
  {
   "cell_type": "code",
   "execution_count": 75,
   "id": "940c292e",
   "metadata": {},
   "outputs": [],
   "source": [
    "# drop previous dog stage columns\n",
    "\n",
    "twitter_archive_clean.drop(['doggo', 'floofer', 'pupper', 'puppo'], axis=1, inplace=True)"
   ]
  },
  {
   "cell_type": "markdown",
   "id": "97e670fe",
   "metadata": {},
   "source": [
    "#### Test"
   ]
  },
  {
   "cell_type": "code",
   "execution_count": 76,
   "id": "b1e60382",
   "metadata": {},
   "outputs": [
    {
     "data": {
      "text/html": [
       "<div>\n",
       "<style scoped>\n",
       "    .dataframe tbody tr th:only-of-type {\n",
       "        vertical-align: middle;\n",
       "    }\n",
       "\n",
       "    .dataframe tbody tr th {\n",
       "        vertical-align: top;\n",
       "    }\n",
       "\n",
       "    .dataframe thead th {\n",
       "        text-align: right;\n",
       "    }\n",
       "</style>\n",
       "<table border=\"1\" class=\"dataframe\">\n",
       "  <thead>\n",
       "    <tr style=\"text-align: right;\">\n",
       "      <th></th>\n",
       "      <th>tweet_id</th>\n",
       "      <th>timestamp</th>\n",
       "      <th>source</th>\n",
       "      <th>text</th>\n",
       "      <th>expanded_urls</th>\n",
       "      <th>rating_numerator</th>\n",
       "      <th>rating_denominator</th>\n",
       "      <th>name</th>\n",
       "      <th>dog_stage</th>\n",
       "    </tr>\n",
       "  </thead>\n",
       "  <tbody>\n",
       "    <tr>\n",
       "      <th>1832</th>\n",
       "      <td>676191832485810177</td>\n",
       "      <td>2015-12-14 00:07:50+00:00</td>\n",
       "      <td>Twitter for iPhone</td>\n",
       "      <td>These two pups just met and have instantly bon...</td>\n",
       "      <td>https://twitter.com/dog_rates/status/676191832...</td>\n",
       "      <td>10.0</td>\n",
       "      <td>10.0</td>\n",
       "      <td>None</td>\n",
       "      <td></td>\n",
       "    </tr>\n",
       "    <tr>\n",
       "      <th>2305</th>\n",
       "      <td>666837028449972224</td>\n",
       "      <td>2015-11-18 04:35:11+00:00</td>\n",
       "      <td>Twitter for iPhone</td>\n",
       "      <td>My goodness. Very rare dog here. Large. Tail d...</td>\n",
       "      <td>https://twitter.com/dog_rates/status/666837028...</td>\n",
       "      <td>3.0</td>\n",
       "      <td>10.0</td>\n",
       "      <td>None</td>\n",
       "      <td></td>\n",
       "    </tr>\n",
       "    <tr>\n",
       "      <th>504</th>\n",
       "      <td>813051746834595840</td>\n",
       "      <td>2016-12-25 16:00:16+00:00</td>\n",
       "      <td>Twitter for iPhone</td>\n",
       "      <td>This is Bauer. He had nothing to do with the c...</td>\n",
       "      <td>https://twitter.com/dog_rates/status/813051746...</td>\n",
       "      <td>13.0</td>\n",
       "      <td>10.0</td>\n",
       "      <td>Bauer</td>\n",
       "      <td></td>\n",
       "    </tr>\n",
       "    <tr>\n",
       "      <th>1551</th>\n",
       "      <td>689143371370250240</td>\n",
       "      <td>2016-01-18 17:52:38+00:00</td>\n",
       "      <td>Twitter for iPhone</td>\n",
       "      <td>Meet Trip. He likes wearing costumes that aren...</td>\n",
       "      <td>https://twitter.com/dog_rates/status/689143371...</td>\n",
       "      <td>10.0</td>\n",
       "      <td>10.0</td>\n",
       "      <td>Trip</td>\n",
       "      <td>pupper</td>\n",
       "    </tr>\n",
       "    <tr>\n",
       "      <th>4</th>\n",
       "      <td>891327558926688256</td>\n",
       "      <td>2017-07-29 16:00:24+00:00</td>\n",
       "      <td>Twitter for iPhone</td>\n",
       "      <td>This is Franklin. He would like you to stop ca...</td>\n",
       "      <td>https://twitter.com/dog_rates/status/891327558...</td>\n",
       "      <td>12.0</td>\n",
       "      <td>10.0</td>\n",
       "      <td>Franklin</td>\n",
       "      <td></td>\n",
       "    </tr>\n",
       "  </tbody>\n",
       "</table>\n",
       "</div>"
      ],
      "text/plain": [
       "                tweet_id                 timestamp              source  \\\n",
       "1832  676191832485810177 2015-12-14 00:07:50+00:00  Twitter for iPhone   \n",
       "2305  666837028449972224 2015-11-18 04:35:11+00:00  Twitter for iPhone   \n",
       "504   813051746834595840 2016-12-25 16:00:16+00:00  Twitter for iPhone   \n",
       "1551  689143371370250240 2016-01-18 17:52:38+00:00  Twitter for iPhone   \n",
       "4     891327558926688256 2017-07-29 16:00:24+00:00  Twitter for iPhone   \n",
       "\n",
       "                                                   text  \\\n",
       "1832  These two pups just met and have instantly bon...   \n",
       "2305  My goodness. Very rare dog here. Large. Tail d...   \n",
       "504   This is Bauer. He had nothing to do with the c...   \n",
       "1551  Meet Trip. He likes wearing costumes that aren...   \n",
       "4     This is Franklin. He would like you to stop ca...   \n",
       "\n",
       "                                          expanded_urls  rating_numerator  \\\n",
       "1832  https://twitter.com/dog_rates/status/676191832...              10.0   \n",
       "2305  https://twitter.com/dog_rates/status/666837028...               3.0   \n",
       "504   https://twitter.com/dog_rates/status/813051746...              13.0   \n",
       "1551  https://twitter.com/dog_rates/status/689143371...              10.0   \n",
       "4     https://twitter.com/dog_rates/status/891327558...              12.0   \n",
       "\n",
       "      rating_denominator      name dog_stage  \n",
       "1832                10.0      None            \n",
       "2305                10.0      None            \n",
       "504                 10.0     Bauer            \n",
       "1551                10.0      Trip    pupper  \n",
       "4                   10.0  Franklin            "
      ]
     },
     "execution_count": 76,
     "metadata": {},
     "output_type": "execute_result"
    }
   ],
   "source": [
    "twitter_archive_clean.sample(5)"
   ]
  },
  {
   "cell_type": "code",
   "execution_count": 77,
   "id": "3aa12dec",
   "metadata": {},
   "outputs": [
    {
     "data": {
      "text/plain": [
       "                  1943\n",
       "pupper             244\n",
       "doggo               83\n",
       "puppo               29\n",
       "doggo, pupper       12\n",
       "floofer              9\n",
       "doggo, puppo         1\n",
       "doggo, floofer       1\n",
       "Name: dog_stage, dtype: int64"
      ]
     },
     "execution_count": 77,
     "metadata": {},
     "output_type": "execute_result"
    }
   ],
   "source": [
    "twitter_archive_clean['dog_stage'].value_counts()"
   ]
  },
  {
   "cell_type": "markdown",
   "id": "49bd93ab",
   "metadata": {},
   "source": [
    "#### Define\n",
    "\n",
    "- Remove the p1_dog, p2_dog and P3_dog entries which are false."
   ]
  },
  {
   "cell_type": "markdown",
   "id": "822933cd",
   "metadata": {},
   "source": [
    "#### Code"
   ]
  },
  {
   "cell_type": "code",
   "execution_count": 78,
   "id": "3a13e526",
   "metadata": {},
   "outputs": [],
   "source": [
    "image_predictions_clean = image_predictions_clean.query('(p1_dog != False) and (p2_dog != False) and (p3_dog != False)')"
   ]
  },
  {
   "cell_type": "markdown",
   "id": "56dd773e",
   "metadata": {},
   "source": [
    "#### Test"
   ]
  },
  {
   "cell_type": "code",
   "execution_count": 79,
   "id": "51a87dd3",
   "metadata": {},
   "outputs": [
    {
     "name": "stdout",
     "output_type": "stream",
     "text": [
      "<class 'pandas.core.frame.DataFrame'>\n",
      "Int64Index: 1243 entries, 0 to 2073\n",
      "Data columns (total 12 columns):\n",
      " #   Column    Non-Null Count  Dtype  \n",
      "---  ------    --------------  -----  \n",
      " 0   tweet_id  1243 non-null   int64  \n",
      " 1   jpg_url   1243 non-null   object \n",
      " 2   img_num   1243 non-null   int64  \n",
      " 3   p1        1243 non-null   object \n",
      " 4   p1_conf   1243 non-null   float64\n",
      " 5   p1_dog    1243 non-null   bool   \n",
      " 6   p2        1243 non-null   object \n",
      " 7   p2_conf   1243 non-null   float64\n",
      " 8   p2_dog    1243 non-null   bool   \n",
      " 9   p3        1243 non-null   object \n",
      " 10  p3_conf   1243 non-null   float64\n",
      " 11  p3_dog    1243 non-null   bool   \n",
      "dtypes: bool(3), float64(3), int64(2), object(4)\n",
      "memory usage: 100.8+ KB\n"
     ]
    }
   ],
   "source": [
    "image_predictions_clean.info()"
   ]
  },
  {
   "cell_type": "markdown",
   "id": "90060c98",
   "metadata": {},
   "source": [
    "#### Define\n",
    "\n",
    "- Convert tweet_id from int to object datatype."
   ]
  },
  {
   "cell_type": "markdown",
   "id": "84c40ded",
   "metadata": {},
   "source": [
    "#### Code"
   ]
  },
  {
   "cell_type": "code",
   "execution_count": 81,
   "id": "931b1ed5",
   "metadata": {},
   "outputs": [],
   "source": [
    "tweets_clean.tweet_id = tweets_clean['tweet_id'].astype(str)"
   ]
  },
  {
   "cell_type": "markdown",
   "id": "735754e4",
   "metadata": {},
   "source": [
    "#### Test"
   ]
  },
  {
   "cell_type": "code",
   "execution_count": 82,
   "id": "c0c86411",
   "metadata": {},
   "outputs": [
    {
     "data": {
      "text/plain": [
       "dtype('O')"
      ]
     },
     "execution_count": 82,
     "metadata": {},
     "output_type": "execute_result"
    }
   ],
   "source": [
    "tweets_clean['tweet_id'].dtype"
   ]
  },
  {
   "cell_type": "markdown",
   "id": "c3e09975",
   "metadata": {},
   "source": [
    "#### Define\n",
    "\n",
    "- Merge tweets_clean and twitter_archive_clean."
   ]
  },
  {
   "cell_type": "markdown",
   "id": "624d73c3",
   "metadata": {},
   "source": [
    "#### Code"
   ]
  },
  {
   "cell_type": "code",
   "execution_count": 84,
   "id": "be40f03b",
   "metadata": {},
   "outputs": [],
   "source": [
    "twitter_archive_clean_df = pd.merge(twitter_archive_clean, tweets_clean, on='tweet_id', how='left')"
   ]
  },
  {
   "cell_type": "markdown",
   "id": "0f2409ef",
   "metadata": {},
   "source": [
    "#### Test"
   ]
  },
  {
   "cell_type": "code",
   "execution_count": 86,
   "id": "6c3ca6b4",
   "metadata": {},
   "outputs": [
    {
     "name": "stdout",
     "output_type": "stream",
     "text": [
      "<class 'pandas.core.frame.DataFrame'>\n",
      "Int64Index: 2322 entries, 0 to 2321\n",
      "Data columns (total 11 columns):\n",
      " #   Column              Non-Null Count  Dtype              \n",
      "---  ------              --------------  -----              \n",
      " 0   tweet_id            2322 non-null   object             \n",
      " 1   timestamp           2322 non-null   datetime64[ns, UTC]\n",
      " 2   source              2322 non-null   object             \n",
      " 3   text                2322 non-null   object             \n",
      " 4   expanded_urls       2271 non-null   object             \n",
      " 5   rating_numerator    2322 non-null   float64            \n",
      " 6   rating_denominator  2322 non-null   float64            \n",
      " 7   name                2322 non-null   object             \n",
      " 8   dog_stage           2322 non-null   object             \n",
      " 9   retweet_count       2205 non-null   float64            \n",
      " 10  favorite_count      2205 non-null   float64            \n",
      "dtypes: datetime64[ns, UTC](1), float64(4), object(6)\n",
      "memory usage: 217.7+ KB\n"
     ]
    }
   ],
   "source": [
    "twitter_archive_clean_df.info()"
   ]
  },
  {
   "cell_type": "code",
   "execution_count": 87,
   "id": "e2aa5cac",
   "metadata": {},
   "outputs": [
    {
     "data": {
      "text/html": [
       "<div>\n",
       "<style scoped>\n",
       "    .dataframe tbody tr th:only-of-type {\n",
       "        vertical-align: middle;\n",
       "    }\n",
       "\n",
       "    .dataframe tbody tr th {\n",
       "        vertical-align: top;\n",
       "    }\n",
       "\n",
       "    .dataframe thead th {\n",
       "        text-align: right;\n",
       "    }\n",
       "</style>\n",
       "<table border=\"1\" class=\"dataframe\">\n",
       "  <thead>\n",
       "    <tr style=\"text-align: right;\">\n",
       "      <th></th>\n",
       "      <th>tweet_id</th>\n",
       "      <th>timestamp</th>\n",
       "      <th>source</th>\n",
       "      <th>text</th>\n",
       "      <th>expanded_urls</th>\n",
       "      <th>rating_numerator</th>\n",
       "      <th>rating_denominator</th>\n",
       "      <th>name</th>\n",
       "      <th>dog_stage</th>\n",
       "      <th>retweet_count</th>\n",
       "      <th>favorite_count</th>\n",
       "    </tr>\n",
       "  </thead>\n",
       "  <tbody>\n",
       "    <tr>\n",
       "      <th>0</th>\n",
       "      <td>892420643555336193</td>\n",
       "      <td>2017-08-01 16:23:56+00:00</td>\n",
       "      <td>Twitter for iPhone</td>\n",
       "      <td>This is Phineas. He's a mystical boy. Only eve...</td>\n",
       "      <td>https://twitter.com/dog_rates/status/892420643...</td>\n",
       "      <td>13.0</td>\n",
       "      <td>10.0</td>\n",
       "      <td>Phineas</td>\n",
       "      <td></td>\n",
       "      <td>7009.0</td>\n",
       "      <td>33809.0</td>\n",
       "    </tr>\n",
       "    <tr>\n",
       "      <th>1</th>\n",
       "      <td>892177421306343426</td>\n",
       "      <td>2017-08-01 00:17:27+00:00</td>\n",
       "      <td>Twitter for iPhone</td>\n",
       "      <td>This is Tilly. She's just checking pup on you....</td>\n",
       "      <td>https://twitter.com/dog_rates/status/892177421...</td>\n",
       "      <td>13.0</td>\n",
       "      <td>10.0</td>\n",
       "      <td>Tilly</td>\n",
       "      <td></td>\n",
       "      <td>NaN</td>\n",
       "      <td>NaN</td>\n",
       "    </tr>\n",
       "    <tr>\n",
       "      <th>2</th>\n",
       "      <td>891815181378084864</td>\n",
       "      <td>2017-07-31 00:18:03+00:00</td>\n",
       "      <td>Twitter for iPhone</td>\n",
       "      <td>This is Archie. He is a rare Norwegian Pouncin...</td>\n",
       "      <td>https://twitter.com/dog_rates/status/891815181...</td>\n",
       "      <td>12.0</td>\n",
       "      <td>10.0</td>\n",
       "      <td>Archie</td>\n",
       "      <td></td>\n",
       "      <td>3481.0</td>\n",
       "      <td>22052.0</td>\n",
       "    </tr>\n",
       "    <tr>\n",
       "      <th>3</th>\n",
       "      <td>891689557279858688</td>\n",
       "      <td>2017-07-30 15:58:51+00:00</td>\n",
       "      <td>Twitter for iPhone</td>\n",
       "      <td>This is Darla. She commenced a snooze mid meal...</td>\n",
       "      <td>https://twitter.com/dog_rates/status/891689557...</td>\n",
       "      <td>13.0</td>\n",
       "      <td>10.0</td>\n",
       "      <td>Darla</td>\n",
       "      <td></td>\n",
       "      <td>7225.0</td>\n",
       "      <td>36938.0</td>\n",
       "    </tr>\n",
       "    <tr>\n",
       "      <th>4</th>\n",
       "      <td>891327558926688256</td>\n",
       "      <td>2017-07-29 16:00:24+00:00</td>\n",
       "      <td>Twitter for iPhone</td>\n",
       "      <td>This is Franklin. He would like you to stop ca...</td>\n",
       "      <td>https://twitter.com/dog_rates/status/891327558...</td>\n",
       "      <td>12.0</td>\n",
       "      <td>10.0</td>\n",
       "      <td>Franklin</td>\n",
       "      <td></td>\n",
       "      <td>7760.0</td>\n",
       "      <td>35311.0</td>\n",
       "    </tr>\n",
       "  </tbody>\n",
       "</table>\n",
       "</div>"
      ],
      "text/plain": [
       "             tweet_id                 timestamp              source  \\\n",
       "0  892420643555336193 2017-08-01 16:23:56+00:00  Twitter for iPhone   \n",
       "1  892177421306343426 2017-08-01 00:17:27+00:00  Twitter for iPhone   \n",
       "2  891815181378084864 2017-07-31 00:18:03+00:00  Twitter for iPhone   \n",
       "3  891689557279858688 2017-07-30 15:58:51+00:00  Twitter for iPhone   \n",
       "4  891327558926688256 2017-07-29 16:00:24+00:00  Twitter for iPhone   \n",
       "\n",
       "                                                text  \\\n",
       "0  This is Phineas. He's a mystical boy. Only eve...   \n",
       "1  This is Tilly. She's just checking pup on you....   \n",
       "2  This is Archie. He is a rare Norwegian Pouncin...   \n",
       "3  This is Darla. She commenced a snooze mid meal...   \n",
       "4  This is Franklin. He would like you to stop ca...   \n",
       "\n",
       "                                       expanded_urls  rating_numerator  \\\n",
       "0  https://twitter.com/dog_rates/status/892420643...              13.0   \n",
       "1  https://twitter.com/dog_rates/status/892177421...              13.0   \n",
       "2  https://twitter.com/dog_rates/status/891815181...              12.0   \n",
       "3  https://twitter.com/dog_rates/status/891689557...              13.0   \n",
       "4  https://twitter.com/dog_rates/status/891327558...              12.0   \n",
       "\n",
       "   rating_denominator      name dog_stage  retweet_count  favorite_count  \n",
       "0                10.0   Phineas                   7009.0         33809.0  \n",
       "1                10.0     Tilly                      NaN             NaN  \n",
       "2                10.0    Archie                   3481.0         22052.0  \n",
       "3                10.0     Darla                   7225.0         36938.0  \n",
       "4                10.0  Franklin                   7760.0         35311.0  "
      ]
     },
     "execution_count": 87,
     "metadata": {},
     "output_type": "execute_result"
    }
   ],
   "source": [
    "twitter_archive_clean_df.head()"
   ]
  },
  {
   "cell_type": "markdown",
   "id": "d5b0776d",
   "metadata": {},
   "source": [
    "#### Storing"
   ]
  },
  {
   "cell_type": "markdown",
   "id": "4dbbe8d6",
   "metadata": {},
   "source": [
    "#### Define\n",
    "\n",
    "- Save the 2 files to csv format."
   ]
  },
  {
   "cell_type": "markdown",
   "id": "ab29952d",
   "metadata": {},
   "source": [
    "#### Code"
   ]
  },
  {
   "cell_type": "code",
   "execution_count": 89,
   "id": "2f17bf33",
   "metadata": {},
   "outputs": [],
   "source": [
    "twitter_archive_clean_df.to_csv('twitter_archive_master.csv', index=False)\n",
    "image_predictions_clean.to_csv('image_predictions_master.csv', index=False)"
   ]
  },
  {
   "cell_type": "markdown",
   "id": "ef5bc21c",
   "metadata": {},
   "source": [
    "### Analysing and Visualizing Data"
   ]
  },
  {
   "cell_type": "code",
   "execution_count": 90,
   "id": "57f33e21",
   "metadata": {},
   "outputs": [],
   "source": [
    "twitter_df = pd.read_csv('twitter_archive_master.csv')"
   ]
  },
  {
   "cell_type": "code",
   "execution_count": 91,
   "id": "9f6d01b6",
   "metadata": {},
   "outputs": [
    {
     "data": {
      "text/html": [
       "<div>\n",
       "<style scoped>\n",
       "    .dataframe tbody tr th:only-of-type {\n",
       "        vertical-align: middle;\n",
       "    }\n",
       "\n",
       "    .dataframe tbody tr th {\n",
       "        vertical-align: top;\n",
       "    }\n",
       "\n",
       "    .dataframe thead th {\n",
       "        text-align: right;\n",
       "    }\n",
       "</style>\n",
       "<table border=\"1\" class=\"dataframe\">\n",
       "  <thead>\n",
       "    <tr style=\"text-align: right;\">\n",
       "      <th></th>\n",
       "      <th>tweet_id</th>\n",
       "      <th>timestamp</th>\n",
       "      <th>source</th>\n",
       "      <th>text</th>\n",
       "      <th>expanded_urls</th>\n",
       "      <th>rating_numerator</th>\n",
       "      <th>rating_denominator</th>\n",
       "      <th>name</th>\n",
       "      <th>dog_stage</th>\n",
       "      <th>retweet_count</th>\n",
       "      <th>favorite_count</th>\n",
       "    </tr>\n",
       "  </thead>\n",
       "  <tbody>\n",
       "    <tr>\n",
       "      <th>0</th>\n",
       "      <td>892420643555336193</td>\n",
       "      <td>2017-08-01 16:23:56+00:00</td>\n",
       "      <td>Twitter for iPhone</td>\n",
       "      <td>This is Phineas. He's a mystical boy. Only eve...</td>\n",
       "      <td>https://twitter.com/dog_rates/status/892420643...</td>\n",
       "      <td>13.0</td>\n",
       "      <td>10.0</td>\n",
       "      <td>Phineas</td>\n",
       "      <td>NaN</td>\n",
       "      <td>7009.0</td>\n",
       "      <td>33809.0</td>\n",
       "    </tr>\n",
       "    <tr>\n",
       "      <th>1</th>\n",
       "      <td>892177421306343426</td>\n",
       "      <td>2017-08-01 00:17:27+00:00</td>\n",
       "      <td>Twitter for iPhone</td>\n",
       "      <td>This is Tilly. She's just checking pup on you....</td>\n",
       "      <td>https://twitter.com/dog_rates/status/892177421...</td>\n",
       "      <td>13.0</td>\n",
       "      <td>10.0</td>\n",
       "      <td>Tilly</td>\n",
       "      <td>NaN</td>\n",
       "      <td>NaN</td>\n",
       "      <td>NaN</td>\n",
       "    </tr>\n",
       "    <tr>\n",
       "      <th>2</th>\n",
       "      <td>891815181378084864</td>\n",
       "      <td>2017-07-31 00:18:03+00:00</td>\n",
       "      <td>Twitter for iPhone</td>\n",
       "      <td>This is Archie. He is a rare Norwegian Pouncin...</td>\n",
       "      <td>https://twitter.com/dog_rates/status/891815181...</td>\n",
       "      <td>12.0</td>\n",
       "      <td>10.0</td>\n",
       "      <td>Archie</td>\n",
       "      <td>NaN</td>\n",
       "      <td>3481.0</td>\n",
       "      <td>22052.0</td>\n",
       "    </tr>\n",
       "    <tr>\n",
       "      <th>3</th>\n",
       "      <td>891689557279858688</td>\n",
       "      <td>2017-07-30 15:58:51+00:00</td>\n",
       "      <td>Twitter for iPhone</td>\n",
       "      <td>This is Darla. She commenced a snooze mid meal...</td>\n",
       "      <td>https://twitter.com/dog_rates/status/891689557...</td>\n",
       "      <td>13.0</td>\n",
       "      <td>10.0</td>\n",
       "      <td>Darla</td>\n",
       "      <td>NaN</td>\n",
       "      <td>7225.0</td>\n",
       "      <td>36938.0</td>\n",
       "    </tr>\n",
       "    <tr>\n",
       "      <th>4</th>\n",
       "      <td>891327558926688256</td>\n",
       "      <td>2017-07-29 16:00:24+00:00</td>\n",
       "      <td>Twitter for iPhone</td>\n",
       "      <td>This is Franklin. He would like you to stop ca...</td>\n",
       "      <td>https://twitter.com/dog_rates/status/891327558...</td>\n",
       "      <td>12.0</td>\n",
       "      <td>10.0</td>\n",
       "      <td>Franklin</td>\n",
       "      <td>NaN</td>\n",
       "      <td>7760.0</td>\n",
       "      <td>35311.0</td>\n",
       "    </tr>\n",
       "  </tbody>\n",
       "</table>\n",
       "</div>"
      ],
      "text/plain": [
       "             tweet_id                  timestamp              source  \\\n",
       "0  892420643555336193  2017-08-01 16:23:56+00:00  Twitter for iPhone   \n",
       "1  892177421306343426  2017-08-01 00:17:27+00:00  Twitter for iPhone   \n",
       "2  891815181378084864  2017-07-31 00:18:03+00:00  Twitter for iPhone   \n",
       "3  891689557279858688  2017-07-30 15:58:51+00:00  Twitter for iPhone   \n",
       "4  891327558926688256  2017-07-29 16:00:24+00:00  Twitter for iPhone   \n",
       "\n",
       "                                                text  \\\n",
       "0  This is Phineas. He's a mystical boy. Only eve...   \n",
       "1  This is Tilly. She's just checking pup on you....   \n",
       "2  This is Archie. He is a rare Norwegian Pouncin...   \n",
       "3  This is Darla. She commenced a snooze mid meal...   \n",
       "4  This is Franklin. He would like you to stop ca...   \n",
       "\n",
       "                                       expanded_urls  rating_numerator  \\\n",
       "0  https://twitter.com/dog_rates/status/892420643...              13.0   \n",
       "1  https://twitter.com/dog_rates/status/892177421...              13.0   \n",
       "2  https://twitter.com/dog_rates/status/891815181...              12.0   \n",
       "3  https://twitter.com/dog_rates/status/891689557...              13.0   \n",
       "4  https://twitter.com/dog_rates/status/891327558...              12.0   \n",
       "\n",
       "   rating_denominator      name dog_stage  retweet_count  favorite_count  \n",
       "0                10.0   Phineas       NaN         7009.0         33809.0  \n",
       "1                10.0     Tilly       NaN            NaN             NaN  \n",
       "2                10.0    Archie       NaN         3481.0         22052.0  \n",
       "3                10.0     Darla       NaN         7225.0         36938.0  \n",
       "4                10.0  Franklin       NaN         7760.0         35311.0  "
      ]
     },
     "execution_count": 91,
     "metadata": {},
     "output_type": "execute_result"
    }
   ],
   "source": [
    "twitter_df.head()"
   ]
  },
  {
   "cell_type": "markdown",
   "id": "ee3ef643",
   "metadata": {},
   "source": [
    "#### Bar Chart\n",
    "\n",
    "- Dog stage with high average count."
   ]
  },
  {
   "cell_type": "code",
   "execution_count": 123,
   "id": "8444b17b",
   "metadata": {},
   "outputs": [],
   "source": [
    "avg_dog_stage_count = twitter_df[['dog_stage', 'favorite_count']]\n",
    "avg_dog_stage_count = avg_dog_stage_count.query('dog_stage != \"\"')\n",
    "avg_dog_stage_count = avg_dog_stage_count.groupby('dog_stage').mean()\n",
    "\n",
    "x_pos = list(avg_dog_stage_count.index.str.capitalize())\n",
    "y_pos = list(avg_dog_stage_count.favorite_count)\n"
   ]
  },
  {
   "cell_type": "code",
   "execution_count": 128,
   "id": "15ffb26b",
   "metadata": {},
   "outputs": [
    {
     "data": {
      "image/png": "[encoded data removed]",
      "text/plain": [
       "<Figure size 3600x2400 with 1 Axes>"
      ]
     },
     "metadata": {
      "needs_background": "light"
     },
     "output_type": "display_data"
    }
   ],
   "source": [
    "# plot a bar graph\n",
    "\n",
    "plt.figure(figsize=(18, 12), dpi=200)\n",
    "plt.title('Average Count by Dog Stage', fontsize=16)\n",
    "plt.xlabel('Dog Stage', fontsize=16)\n",
    "plt.ylabel('Count', fontsize=16)\n",
    "plt.bar(x_pos, y_pos)\n",
    "plt.savefig('avg_dog_stage_count.png');"
   ]
  },
  {
   "cell_type": "markdown",
   "id": "cbc0ceb2",
   "metadata": {},
   "source": [
    "#### Plot a Scatter Plot"
   ]
  },
  {
   "cell_type": "code",
   "execution_count": 114,
   "id": "682d1189",
   "metadata": {},
   "outputs": [],
   "source": [
    "# sort timestamp, favorites, and retweets\n",
    "results = twitter_df[['timestamp', 'favorite_count', 'retweet_count']].sort_values(['timestamp', 'favorite_count'])"
   ]
  },
  {
   "cell_type": "code",
   "execution_count": 115,
   "id": "c0df99ce",
   "metadata": {},
   "outputs": [],
   "source": [
    "# Create moving average\n",
    "\n",
    "window = 30\n",
    "rolling_favourite_count = results.favorite_count.rolling(window=window).mean()[window-1:]\n",
    "rolling_retweets_count = results.retweet_count.rolling(window=window).mean()[window-1:]"
   ]
  },
  {
   "cell_type": "code",
   "execution_count": 127,
   "id": "a009b040",
   "metadata": {},
   "outputs": [
    {
     "data": {
      "image/png": "[encoded data removed]",
      "text/plain": [
       "<Figure size 3600x2400 with 1 Axes>"
      ]
     },
     "metadata": {
      "needs_background": "light"
     },
     "output_type": "display_data"
    }
   ],
   "source": [
    "# fig\n",
    "plt.figure(figsize=(18, 12), dpi=200)\n",
    "plt.title('Number of Favorite Count and Retweets Over Time.', fontsize=16)\n",
    "plt.xlabel('Retweet Count', fontsize=16)\n",
    "plt.ylabel('Favorite Count', fontsize=16)\n",
    "sns.scatterplot(x=rolling_retweets_count, y=rolling_favourite_count)\n",
    "plt.savefig('favorite_retweet_count.png');"
   ]
  },
  {
   "cell_type": "markdown",
   "id": "9c27b227",
   "metadata": {},
   "source": [
    "#### Insight\n",
    "\n",
    "- Tweets categorized as Doggo,puppo have received the most count on average.\n",
    "- An increase in retweet count has a direct proportion with an increase in favorite count.\n",
    "- Moving average makes it easier and cleaner to plot the data.\n",
    "- The favourite count and retweet count seems to increase over time."
   ]
  },
  {
   "cell_type": "code",
   "execution_count": null,
   "id": "80488699",
   "metadata": {},
   "outputs": [],
   "source": []
  },
  {
   "cell_type": "code",
   "execution_count": null,
   "id": "bc9aec60",
   "metadata": {},
   "outputs": [],
   "source": []
  }
 ],
 "metadata": {
  "kernelspec": {
   "display_name": "Python 3 (ipykernel)",
   "language": "python",
   "name": "python3"
  },
  "language_info": {
   "codemirror_mode": {
    "name": "ipython",
    "version": 3
   },
   "file_extension": ".py",
   "mimetype": "text/x-python",
   "name": "python",
   "nbconvert_exporter": "python",
   "pygments_lexer": "ipython3",
   "version": "3.9.7"
  }
 },
 "nbformat": 4,
 "nbformat_minor": 5
}
